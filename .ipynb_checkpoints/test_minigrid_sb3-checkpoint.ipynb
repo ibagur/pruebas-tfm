{
 "cells": [
  {
   "cell_type": "markdown",
   "metadata": {
    "id": "MNF5-qJ7B0Q3"
   },
   "source": [
    "# Testing Stable Baselines3 with gym-MiniGrid"
   ]
  },
  {
   "cell_type": "markdown",
   "metadata": {
    "id": "AdM2FnEJB0Q8"
   },
   "source": [
    "## Basic Jupyter Setting"
   ]
  },
  {
   "cell_type": "code",
   "execution_count": 1,
   "metadata": {
    "executionInfo": {
     "elapsed": 222,
     "status": "ok",
     "timestamp": 1645921618317,
     "user": {
      "displayName": "Iñigo",
      "photoUrl": "https://lh3.googleusercontent.com/a/default-user=s64",
      "userId": "14378798962183195551"
     },
     "user_tz": 300
    },
    "id": "aycUmr6OB0Q8"
   },
   "outputs": [],
   "source": [
    "import numpy as np\n",
    "import matplotlib.pyplot as plt\n",
    "from pprint import pprint\n",
    "\n",
    "%matplotlib inline\n",
    "plt.rcParams['figure.figsize'] = (10.0, 8.0) # set default size of plots\n",
    "plt.rcParams['image.interpolation'] = 'nearest'\n",
    "plt.rcParams['image.cmap'] = 'gray'\n",
    "\n",
    "# for auto-reloading external modules\n",
    "# see http://stackoverflow.com/questions/1907993/autoreload-of-modules-in-ipython\n",
    "%load_ext autoreload\n",
    "%autoreload 2"
   ]
  },
  {
   "cell_type": "markdown",
   "metadata": {},
   "source": [
    "## Setup the Colab environment (if used over Google Colab)"
   ]
  },
  {
   "cell_type": "code",
   "execution_count": null,
   "metadata": {},
   "outputs": [],
   "source": [
    "# @title Install dependencies\n",
    "!pip install rarfile --quiet\n",
    "!pip install stable-baselines3 > /dev/null\n",
    "!pip install box2d-py > /dev/null\n",
    "!pip install gym gym-minigrid pyvirtualdisplay > /dev/null 2>&1\n",
    "!sudo apt-get install -y xvfb python-opengl ffmpeg > /dev/null 2>&1"
   ]
  },
  {
   "cell_type": "markdown",
   "metadata": {
    "id": "ef0DdE0b4pLd"
   },
   "source": [
    "## Import Stable-Baselines3 and initial set-up"
   ]
  },
  {
   "cell_type": "markdown",
   "metadata": {},
   "source": [
    "Import libraries and classes:"
   ]
  },
  {
   "cell_type": "code",
   "execution_count": 17,
   "metadata": {
    "id": "YgenDMtf4pLe"
   },
   "outputs": [],
   "source": [
    "# Imports\n",
    "import time\n",
    "import io\n",
    "import os\n",
    "import glob\n",
    "import torch\n",
    "import base64\n",
    "import stable_baselines3\n",
    "\n",
    "import numpy as np\n",
    "import matplotlib.pyplot as plt\n",
    "\n",
    "from stable_baselines3 import PPO, DQN, A2C\n",
    "from stable_baselines3.common.results_plotter import ts2xy, load_results\n",
    "from stable_baselines3.common.callbacks import EvalCallback, StopTrainingOnRewardThreshold\n",
    "from stable_baselines3.common.env_util import make_atari_env\n",
    "from stable_baselines3.common.evaluation import evaluate_policy\n",
    "from stable_baselines3.common.utils import set_random_seed\n",
    "from stable_baselines3.common.vec_env import SubprocVecEnv, DummyVecEnv\n",
    "from stable_baselines3.common.env_util import make_vec_env\n",
    "\n",
    "import gym\n",
    "from gym import spaces\n",
    "from gym.wrappers import Monitor\n",
    "import gym_minigrid\n",
    "from gym_minigrid.wrappers import FlatObsWrapper, ImgObsWrapper"
   ]
  },
  {
   "cell_type": "markdown",
   "metadata": {},
   "source": [
    "Define the video function:"
   ]
  },
  {
   "cell_type": "code",
   "execution_count": 4,
   "metadata": {
    "id": "d7eCH8Kf4pLf"
   },
   "outputs": [],
   "source": [
    "import base64\n",
    "import glob\n",
    "import io\n",
    "from IPython.display import HTML\n",
    "from IPython import display \n",
    "\n",
    "def show_video():\n",
    "    mp4list = glob.glob('video/*.mp4')\n",
    "    if len(mp4list) > 0:\n",
    "        mp4 = mp4list[0]\n",
    "        video = io.open(mp4, 'r+b').read()\n",
    "        encoded = base64.b64encode(video)\n",
    "        display.display(HTML(data='''<video alt=\"test\" autoplay \n",
    "                loop controls style=\"height: 400px;\">\n",
    "                <source src=\"data:video/mp4;base64,{0}\" type=\"video/mp4\" />\n",
    "             </video>'''.format(encoded.decode('ascii'))))\n",
    "    else:\n",
    "        print(\"Could not find video\")\n"
   ]
  },
  {
   "cell_type": "markdown",
   "metadata": {},
   "source": [
    "Define the rendering wrappers:"
   ]
  },
  {
   "cell_type": "code",
   "execution_count": 5,
   "metadata": {
    "id": "Gdhk3Oep4pLf"
   },
   "outputs": [],
   "source": [
    "from gym.wrappers import Monitor\n",
    "\n",
    "# Monitor is a gym wrapper, which helps easy rendering of videos of the wrapped environment.\n",
    "def wrap_env(env):\n",
    "    env = Monitor(env, './video', force=True)\n",
    "    return env\n",
    "\n",
    "def gen_wrapped_env(env_name):\n",
    "    return wrap_env(FlatObsWrapper(gym.make(env_name)))"
   ]
  },
  {
   "cell_type": "markdown",
   "metadata": {},
   "source": [
    "## Multi-processing vs Single-processing on A2C"
   ]
  },
  {
   "cell_type": "markdown",
   "metadata": {},
   "source": [
    "Create a vectorized environment, specifying the wrapper class:"
   ]
  },
  {
   "cell_type": "code",
   "execution_count": 82,
   "metadata": {},
   "outputs": [],
   "source": [
    "# By default, we use a DummyVecEnv as it is usually faster (cf doc)\n",
    "num_cpu = 16  # Number of processes to use\n",
    "env_id = 'MiniGrid-Empty-6x6-v0'\n",
    "\n",
    "vec_env = make_vec_env(env_id, n_envs=num_cpu, wrapper_class=FlatObsWrapper)\n",
    "\n",
    "# multivect model\n",
    "model = A2C('MlpPolicy', env=vec_env, verbose=0)"
   ]
  },
  {
   "cell_type": "markdown",
   "metadata": {},
   "source": [
    "Evaluate the model before training:"
   ]
  },
  {
   "cell_type": "code",
   "execution_count": 84,
   "metadata": {},
   "outputs": [
    {
     "name": "stdout",
     "output_type": "stream",
     "text": [
      "Mean reward: 0.0 +/- 0.00\n"
     ]
    }
   ],
   "source": [
    "# We create a separate environment for evaluation\n",
    "eval_env = FlatObsWrapper(gym.make(env_id))\n",
    "\n",
    "# Random Agent, before training\n",
    "mean_reward, std_reward = evaluate_policy(model, eval_env, n_eval_episodes=10)\n",
    "print(f'Mean reward: {mean_reward} +/- {std_reward:.2f}')"
   ]
  },
  {
   "cell_type": "markdown",
   "metadata": {},
   "source": [
    "Define number of time steps for testing:"
   ]
  },
  {
   "cell_type": "code",
   "execution_count": 154,
   "metadata": {},
   "outputs": [],
   "source": [
    "n_timesteps = 25000"
   ]
  },
  {
   "cell_type": "markdown",
   "metadata": {},
   "source": [
    "### Single-process training"
   ]
  },
  {
   "cell_type": "markdown",
   "metadata": {},
   "source": [
    "Create a single process wrapped environment and train the agent:"
   ]
  },
  {
   "cell_type": "code",
   "execution_count": 103,
   "metadata": {},
   "outputs": [
    {
     "name": "stdout",
     "output_type": "stream",
     "text": [
      "Took 38.12s for single process version - 655.86 FPS\n"
     ]
    }
   ],
   "source": [
    "# Single Process RL Training\n",
    "env = FlatObsWrapper(gym.make(env_id))\n",
    "single_process_model = A2C('MlpPolicy', env=env, verbose=0)\n",
    "\n",
    "start_time = time.time()\n",
    "single_process_model.learn(n_timesteps)\n",
    "total_time_single = time.time() - start_time\n",
    "\n",
    "print(f\"Took {total_time_single:.2f}s for single process version - {n_timesteps / total_time_single:.2f} FPS\")"
   ]
  },
  {
   "cell_type": "markdown",
   "metadata": {},
   "source": [
    "Evaluate the trained agent over a separate environment:"
   ]
  },
  {
   "cell_type": "code",
   "execution_count": 104,
   "metadata": {},
   "outputs": [
    {
     "name": "stdout",
     "output_type": "stream",
     "text": [
      "Mean reward: 0.9375 +/- 0.00\n"
     ]
    }
   ],
   "source": [
    "# We create a separate environment for evaluation\n",
    "eval_env = FlatObsWrapper(gym.make(env_id))\n",
    "\n",
    "# Agent after training\n",
    "mean_reward, std_reward = evaluate_policy(single_process_model, eval_env, n_eval_episodes=50)\n",
    "print(f'Mean reward: {mean_reward} +/- {std_reward:.2f}')"
   ]
  },
  {
   "cell_type": "markdown",
   "metadata": {},
   "source": [
    "### Multi-process RL training"
   ]
  },
  {
   "cell_type": "markdown",
   "metadata": {},
   "source": [
    "Train the model on a multi-vectorized environment:"
   ]
  },
  {
   "cell_type": "code",
   "execution_count": 113,
   "metadata": {},
   "outputs": [
    {
     "name": "stdout",
     "output_type": "stream",
     "text": [
      "Took 10.25s for multiprocessed version - 2439.55 FPS\n"
     ]
    }
   ],
   "source": [
    "# Multiprocessed RL Training\n",
    "start_time = time.time()\n",
    "model.learn(n_timesteps)\n",
    "total_time_multi = time.time() - start_time\n",
    "\n",
    "print(f\"Took {total_time_multi:.2f}s for multiprocessed version - {n_timesteps / total_time_multi:.2f} FPS\")"
   ]
  },
  {
   "cell_type": "markdown",
   "metadata": {},
   "source": [
    "Evaluate the model:"
   ]
  },
  {
   "cell_type": "code",
   "execution_count": 115,
   "metadata": {},
   "outputs": [
    {
     "name": "stdout",
     "output_type": "stream",
     "text": [
      "Mean reward: 0.956250011920929 +/- 0.00\n"
     ]
    }
   ],
   "source": [
    "# We create a separate environment for evaluation\n",
    "eval_env = FlatObsWrapper(gym.make(env_id))\n",
    "\n",
    "# Random Agent, before training\n",
    "mean_reward, std_reward = evaluate_policy(model, eval_env, n_eval_episodes=50)\n",
    "print(f'Mean reward: {mean_reward} +/- {std_reward:.2f}')"
   ]
  },
  {
   "cell_type": "markdown",
   "metadata": {},
   "source": [
    "## Test training with stable baselines3 PPO"
   ]
  },
  {
   "cell_type": "markdown",
   "metadata": {},
   "source": [
    "Create a multi-vectorized environment:"
   ]
  },
  {
   "cell_type": "code",
   "execution_count": 7,
   "metadata": {},
   "outputs": [],
   "source": [
    "# By default, we use a DummyVecEnv as it is usually faster (cf doc)\n",
    "num_cpu = 16  # Number of processes to use\n",
    "env_id = 'MiniGrid-Empty-16x16-v0'\n",
    "vec_env = make_vec_env(env_id, n_envs=num_cpu, wrapper_class=FlatObsWrapper)"
   ]
  },
  {
   "cell_type": "markdown",
   "metadata": {},
   "source": [
    "Define hyperparameters matching the torch-ac settings:"
   ]
  },
  {
   "cell_type": "code",
   "execution_count": 29,
   "metadata": {},
   "outputs": [],
   "source": [
    "#nn_layers = [64,64] #This is the configuration of your neural network. Currently, we have two layers, each consisting of 64 neurons.\n",
    "                    #If you want three layers with 64 neurons each, set the value to [64,64,64] and so on.\n",
    "\n",
    "#learning_rate = 0.001 #This is the step-size with which the gradient descent is carried out.\n",
    "                      #Tip: Use smaller step-sizes for larger networks.\n",
    "learning_rate = 0.00005\n",
    "n_steps = 256\n",
    "batch_size = 16\n",
    "ent_coef = 0.001\n",
    "n_epochs = 4\n",
    "#policy_kwargs = dict(activation_fn=torch.nn.ReLU,net_arch=nn_layers)"
   ]
  },
  {
   "cell_type": "markdown",
   "metadata": {},
   "source": [
    "Create the model and define the tensorboard log directory:"
   ]
  },
  {
   "cell_type": "code",
   "execution_count": 30,
   "metadata": {},
   "outputs": [
    {
     "name": "stdout",
     "output_type": "stream",
     "text": [
      "Using cpu device\n"
     ]
    }
   ],
   "source": [
    "tensorboard_log = \"./tmp/log/\"\n",
    "os.makedirs(tensorboard_log, exist_ok=True)\n",
    "# Reset the environment\n",
    "vec_env.reset()\n",
    "\n",
    "# create the model\n",
    "model = PPO('MlpPolicy', env=vec_env, learning_rate=learning_rate, batch_size=batch_size, ent_coef=ent_coef, n_epochs=n_epochs, n_steps=n_steps, tensorboard_log=tensorboard_log, verbose=1)"
   ]
  },
  {
   "cell_type": "markdown",
   "metadata": {},
   "source": [
    "Define the callback for the model evaluation while training"
   ]
  },
  {
   "cell_type": "code",
   "execution_count": 31,
   "metadata": {},
   "outputs": [],
   "source": [
    "log_dir = \"./tmp/gym/\"\n",
    "os.makedirs(log_dir, exist_ok=True)\n",
    "\n",
    "# Create eval environment\n",
    "env = gym.make(env_id)\n",
    "env = FlatObsWrapper(env)\n",
    "env = stable_baselines3.common.monitor.Monitor(env, log_dir)\n",
    "# Reset the environment\n",
    "env.reset();\n",
    "#For evaluating the performance of the agent periodically and logging the results.\n",
    "callback = EvalCallback(env, log_path = log_dir, deterministic=True)"
   ]
  },
  {
   "cell_type": "markdown",
   "metadata": {},
   "source": [
    "Train the model:"
   ]
  },
  {
   "cell_type": "code",
   "execution_count": 32,
   "metadata": {
    "collapsed": true,
    "jupyter": {
     "outputs_hidden": true
    },
    "tags": []
   },
   "outputs": [
    {
     "name": "stdout",
     "output_type": "stream",
     "text": [
      "Logging to ./tmp/log/MiniGrid-Empty-16x16-v0_1\n",
      "-----------------------------\n",
      "| time/              |      |\n",
      "|    fps             | 2658 |\n",
      "|    iterations      | 1    |\n",
      "|    time_elapsed    | 1    |\n",
      "|    total_timesteps | 4096 |\n",
      "-----------------------------\n",
      "------------------------------------------\n",
      "| time/                   |              |\n",
      "|    fps                  | 1199         |\n",
      "|    iterations           | 2            |\n",
      "|    time_elapsed         | 6            |\n",
      "|    total_timesteps      | 8192         |\n",
      "| train/                  |              |\n",
      "|    approx_kl            | 0.0048813066 |\n",
      "|    clip_fraction        | 0.00922      |\n",
      "|    clip_range           | 0.2          |\n",
      "|    entropy_loss         | -1.94        |\n",
      "|    explained_variance   | -3.84        |\n",
      "|    learning_rate        | 5e-05        |\n",
      "|    loss                 | -0.00455     |\n",
      "|    n_updates            | 4            |\n",
      "|    policy_gradient_loss | -0.0044      |\n",
      "|    value_loss           | 0.0154       |\n",
      "------------------------------------------\n",
      "-----------------------------------------\n",
      "| rollout/                |             |\n",
      "|    ep_len_mean          | 703         |\n",
      "|    ep_rew_mean          | 0.382       |\n",
      "| time/                   |             |\n",
      "|    fps                  | 1001        |\n",
      "|    iterations           | 3           |\n",
      "|    time_elapsed         | 12          |\n",
      "|    total_timesteps      | 12288       |\n",
      "| train/                  |             |\n",
      "|    approx_kl            | 0.008034954 |\n",
      "|    clip_fraction        | 0.0585      |\n",
      "|    clip_range           | 0.2         |\n",
      "|    entropy_loss         | -1.93       |\n",
      "|    explained_variance   | -1.09       |\n",
      "|    learning_rate        | 5e-05       |\n",
      "|    loss                 | -0.0236     |\n",
      "|    n_updates            | 8           |\n",
      "|    policy_gradient_loss | -0.00587    |\n",
      "|    value_loss           | 0.00208     |\n",
      "-----------------------------------------\n",
      "-----------------------------------------\n",
      "| rollout/                |             |\n",
      "|    ep_len_mean          | 976         |\n",
      "|    ep_rew_mean          | 0.0612      |\n",
      "| time/                   |             |\n",
      "|    fps                  | 928         |\n",
      "|    iterations           | 4           |\n",
      "|    time_elapsed         | 17          |\n",
      "|    total_timesteps      | 16384       |\n",
      "| train/                  |             |\n",
      "|    approx_kl            | 0.008537719 |\n",
      "|    clip_fraction        | 0.0683      |\n",
      "|    clip_range           | 0.2         |\n",
      "|    entropy_loss         | -1.91       |\n",
      "|    explained_variance   | -0.475      |\n",
      "|    learning_rate        | 5e-05       |\n",
      "|    loss                 | -0.00471    |\n",
      "|    n_updates            | 12          |\n",
      "|    policy_gradient_loss | -0.00738    |\n",
      "|    value_loss           | 0.000731    |\n",
      "-----------------------------------------\n",
      "----------------------------------------\n",
      "| rollout/                |            |\n",
      "|    ep_len_mean          | 788        |\n",
      "|    ep_rew_mean          | 0.248      |\n",
      "| time/                   |            |\n",
      "|    fps                  | 894        |\n",
      "|    iterations           | 5          |\n",
      "|    time_elapsed         | 22         |\n",
      "|    total_timesteps      | 20480      |\n",
      "| train/                  |            |\n",
      "|    approx_kl            | 0.00637245 |\n",
      "|    clip_fraction        | 0.0701     |\n",
      "|    clip_range           | 0.2        |\n",
      "|    entropy_loss         | -1.88      |\n",
      "|    explained_variance   | -1.27      |\n",
      "|    learning_rate        | 5e-05      |\n",
      "|    loss                 | 0.0727     |\n",
      "|    n_updates            | 16         |\n",
      "|    policy_gradient_loss | -0.00579   |\n",
      "|    value_loss           | 0.000581   |\n",
      "----------------------------------------\n",
      "-----------------------------------------\n",
      "| rollout/                |             |\n",
      "|    ep_len_mean          | 569         |\n",
      "|    ep_rew_mean          | 0.467       |\n",
      "| time/                   |             |\n",
      "|    fps                  | 865         |\n",
      "|    iterations           | 6           |\n",
      "|    time_elapsed         | 28          |\n",
      "|    total_timesteps      | 24576       |\n",
      "| train/                  |             |\n",
      "|    approx_kl            | 0.007773781 |\n",
      "|    clip_fraction        | 0.0588      |\n",
      "|    clip_range           | 0.2         |\n",
      "|    entropy_loss         | -1.83       |\n",
      "|    explained_variance   | 0.0936      |\n",
      "|    learning_rate        | 5e-05       |\n",
      "|    loss                 | -0.0413     |\n",
      "|    n_updates            | 20          |\n",
      "|    policy_gradient_loss | -0.00471    |\n",
      "|    value_loss           | 0.00347     |\n",
      "-----------------------------------------\n",
      "-----------------------------------------\n",
      "| rollout/                |             |\n",
      "|    ep_len_mean          | 469         |\n",
      "|    ep_rew_mean          | 0.566       |\n",
      "| time/                   |             |\n",
      "|    fps                  | 848         |\n",
      "|    iterations           | 7           |\n",
      "|    time_elapsed         | 33          |\n",
      "|    total_timesteps      | 28672       |\n",
      "| train/                  |             |\n",
      "|    approx_kl            | 0.006809257 |\n",
      "|    clip_fraction        | 0.0476      |\n",
      "|    clip_range           | 0.2         |\n",
      "|    entropy_loss         | -1.78       |\n",
      "|    explained_variance   | 0.427       |\n",
      "|    learning_rate        | 5e-05       |\n",
      "|    loss                 | 0.0219      |\n",
      "|    n_updates            | 24          |\n",
      "|    policy_gradient_loss | -0.00658    |\n",
      "|    value_loss           | 0.00742     |\n",
      "-----------------------------------------\n",
      "------------------------------------------\n",
      "| rollout/                |              |\n",
      "|    ep_len_mean          | 391          |\n",
      "|    ep_rew_mean          | 0.64         |\n",
      "| time/                   |              |\n",
      "|    fps                  | 827          |\n",
      "|    iterations           | 8            |\n",
      "|    time_elapsed         | 39           |\n",
      "|    total_timesteps      | 32768        |\n",
      "| train/                  |              |\n",
      "|    approx_kl            | 0.0075411275 |\n",
      "|    clip_fraction        | 0.0649       |\n",
      "|    clip_range           | 0.2          |\n",
      "|    entropy_loss         | -1.73        |\n",
      "|    explained_variance   | 0.545        |\n",
      "|    learning_rate        | 5e-05        |\n",
      "|    loss                 | -0.0113      |\n",
      "|    n_updates            | 28           |\n",
      "|    policy_gradient_loss | -0.00788     |\n",
      "|    value_loss           | 0.0105       |\n",
      "------------------------------------------\n",
      "----------------------------------------\n",
      "| rollout/                |            |\n",
      "|    ep_len_mean          | 223        |\n",
      "|    ep_rew_mean          | 0.802      |\n",
      "| time/                   |            |\n",
      "|    fps                  | 822        |\n",
      "|    iterations           | 9          |\n",
      "|    time_elapsed         | 44         |\n",
      "|    total_timesteps      | 36864      |\n",
      "| train/                  |            |\n",
      "|    approx_kl            | 0.00886864 |\n",
      "|    clip_fraction        | 0.08       |\n",
      "|    clip_range           | 0.2        |\n",
      "|    entropy_loss         | -1.67      |\n",
      "|    explained_variance   | 0.508      |\n",
      "|    learning_rate        | 5e-05      |\n",
      "|    loss                 | 0.013      |\n",
      "|    n_updates            | 32         |\n",
      "|    policy_gradient_loss | -0.0104    |\n",
      "|    value_loss           | 0.0159     |\n",
      "----------------------------------------\n",
      "-----------------------------------------\n",
      "| rollout/                |             |\n",
      "|    ep_len_mean          | 128         |\n",
      "|    ep_rew_mean          | 0.887       |\n",
      "| time/                   |             |\n",
      "|    fps                  | 817         |\n",
      "|    iterations           | 10          |\n",
      "|    time_elapsed         | 50          |\n",
      "|    total_timesteps      | 40960       |\n",
      "| train/                  |             |\n",
      "|    approx_kl            | 0.009764655 |\n",
      "|    clip_fraction        | 0.0896      |\n",
      "|    clip_range           | 0.2         |\n",
      "|    entropy_loss         | -1.56       |\n",
      "|    explained_variance   | 0.532       |\n",
      "|    learning_rate        | 5e-05       |\n",
      "|    loss                 | 0.0112      |\n",
      "|    n_updates            | 36          |\n",
      "|    policy_gradient_loss | -0.00978    |\n",
      "|    value_loss           | 0.0224      |\n",
      "-----------------------------------------\n",
      "-----------------------------------------\n",
      "| rollout/                |             |\n",
      "|    ep_len_mean          | 77.5        |\n",
      "|    ep_rew_mean          | 0.932       |\n",
      "| time/                   |             |\n",
      "|    fps                  | 813         |\n",
      "|    iterations           | 11          |\n",
      "|    time_elapsed         | 55          |\n",
      "|    total_timesteps      | 45056       |\n",
      "| train/                  |             |\n",
      "|    approx_kl            | 0.012819666 |\n",
      "|    clip_fraction        | 0.103       |\n",
      "|    clip_range           | 0.2         |\n",
      "|    entropy_loss         | -1.45       |\n",
      "|    explained_variance   | 0.551       |\n",
      "|    learning_rate        | 5e-05       |\n",
      "|    loss                 | -0.00263    |\n",
      "|    n_updates            | 40          |\n",
      "|    policy_gradient_loss | -0.0109     |\n",
      "|    value_loss           | 0.0219      |\n",
      "-----------------------------------------\n",
      "-----------------------------------------\n",
      "| rollout/                |             |\n",
      "|    ep_len_mean          | 55.5        |\n",
      "|    ep_rew_mean          | 0.951       |\n",
      "| time/                   |             |\n",
      "|    fps                  | 809         |\n",
      "|    iterations           | 12          |\n",
      "|    time_elapsed         | 60          |\n",
      "|    total_timesteps      | 49152       |\n",
      "| train/                  |             |\n",
      "|    approx_kl            | 0.010829106 |\n",
      "|    clip_fraction        | 0.118       |\n",
      "|    clip_range           | 0.2         |\n",
      "|    entropy_loss         | -1.28       |\n",
      "|    explained_variance   | 0.535       |\n",
      "|    learning_rate        | 5e-05       |\n",
      "|    loss                 | 0.00221     |\n",
      "|    n_updates            | 44          |\n",
      "|    policy_gradient_loss | -0.01       |\n",
      "|    value_loss           | 0.0206      |\n",
      "-----------------------------------------\n",
      "-----------------------------------------\n",
      "| rollout/                |             |\n",
      "|    ep_len_mean          | 46          |\n",
      "|    ep_rew_mean          | 0.96        |\n",
      "| time/                   |             |\n",
      "|    fps                  | 806         |\n",
      "|    iterations           | 13          |\n",
      "|    time_elapsed         | 65          |\n",
      "|    total_timesteps      | 53248       |\n",
      "| train/                  |             |\n",
      "|    approx_kl            | 0.008567297 |\n",
      "|    clip_fraction        | 0.092       |\n",
      "|    clip_range           | 0.2         |\n",
      "|    entropy_loss         | -1.12       |\n",
      "|    explained_variance   | 0.573       |\n",
      "|    learning_rate        | 5e-05       |\n",
      "|    loss                 | -0.025      |\n",
      "|    n_updates            | 48          |\n",
      "|    policy_gradient_loss | -0.0101     |\n",
      "|    value_loss           | 0.0174      |\n",
      "-----------------------------------------\n",
      "-----------------------------------------\n",
      "| rollout/                |             |\n",
      "|    ep_len_mean          | 40.9        |\n",
      "|    ep_rew_mean          | 0.964       |\n",
      "| time/                   |             |\n",
      "|    fps                  | 806         |\n",
      "|    iterations           | 14          |\n",
      "|    time_elapsed         | 71          |\n",
      "|    total_timesteps      | 57344       |\n",
      "| train/                  |             |\n",
      "|    approx_kl            | 0.008681632 |\n",
      "|    clip_fraction        | 0.0944      |\n",
      "|    clip_range           | 0.2         |\n",
      "|    entropy_loss         | -1.01       |\n",
      "|    explained_variance   | 0.568       |\n",
      "|    learning_rate        | 5e-05       |\n",
      "|    loss                 | -0.0404     |\n",
      "|    n_updates            | 52          |\n",
      "|    policy_gradient_loss | -0.00907    |\n",
      "|    value_loss           | 0.0132      |\n",
      "-----------------------------------------\n",
      "------------------------------------------\n",
      "| rollout/                |              |\n",
      "|    ep_len_mean          | 36.8         |\n",
      "|    ep_rew_mean          | 0.968        |\n",
      "| time/                   |              |\n",
      "|    fps                  | 804          |\n",
      "|    iterations           | 15           |\n",
      "|    time_elapsed         | 76           |\n",
      "|    total_timesteps      | 61440        |\n",
      "| train/                  |              |\n",
      "|    approx_kl            | 0.0068271644 |\n",
      "|    clip_fraction        | 0.0759       |\n",
      "|    clip_range           | 0.2          |\n",
      "|    entropy_loss         | -0.861       |\n",
      "|    explained_variance   | 0.528        |\n",
      "|    learning_rate        | 5e-05        |\n",
      "|    loss                 | -0.0179      |\n",
      "|    n_updates            | 56           |\n",
      "|    policy_gradient_loss | -0.0079      |\n",
      "|    value_loss           | 0.00926      |\n",
      "------------------------------------------\n",
      "------------------------------------------\n",
      "| rollout/                |              |\n",
      "|    ep_len_mean          | 35.7         |\n",
      "|    ep_rew_mean          | 0.969        |\n",
      "| time/                   |              |\n",
      "|    fps                  | 801          |\n",
      "|    iterations           | 16           |\n",
      "|    time_elapsed         | 81           |\n",
      "|    total_timesteps      | 65536        |\n",
      "| train/                  |              |\n",
      "|    approx_kl            | 0.0048003416 |\n",
      "|    clip_fraction        | 0.0455       |\n",
      "|    clip_range           | 0.2          |\n",
      "|    entropy_loss         | -0.751       |\n",
      "|    explained_variance   | 0.548        |\n",
      "|    learning_rate        | 5e-05        |\n",
      "|    loss                 | -0.00298     |\n",
      "|    n_updates            | 60           |\n",
      "|    policy_gradient_loss | -0.00581     |\n",
      "|    value_loss           | 0.00625      |\n",
      "------------------------------------------\n",
      "------------------------------------------\n",
      "| rollout/                |              |\n",
      "|    ep_len_mean          | 33.3         |\n",
      "|    ep_rew_mean          | 0.971        |\n",
      "| time/                   |              |\n",
      "|    fps                  | 798          |\n",
      "|    iterations           | 17           |\n",
      "|    time_elapsed         | 87           |\n",
      "|    total_timesteps      | 69632        |\n",
      "| train/                  |              |\n",
      "|    approx_kl            | 0.0048079365 |\n",
      "|    clip_fraction        | 0.0561       |\n",
      "|    clip_range           | 0.2          |\n",
      "|    entropy_loss         | -0.661       |\n",
      "|    explained_variance   | 0.582        |\n",
      "|    learning_rate        | 5e-05        |\n",
      "|    loss                 | -0.0077      |\n",
      "|    n_updates            | 64           |\n",
      "|    policy_gradient_loss | -0.00475     |\n",
      "|    value_loss           | 0.0042       |\n",
      "------------------------------------------\n",
      "------------------------------------------\n",
      "| rollout/                |              |\n",
      "|    ep_len_mean          | 32.1         |\n",
      "|    ep_rew_mean          | 0.972        |\n",
      "| time/                   |              |\n",
      "|    fps                  | 794          |\n",
      "|    iterations           | 18           |\n",
      "|    time_elapsed         | 92           |\n",
      "|    total_timesteps      | 73728        |\n",
      "| train/                  |              |\n",
      "|    approx_kl            | 0.0042024334 |\n",
      "|    clip_fraction        | 0.0497       |\n",
      "|    clip_range           | 0.2          |\n",
      "|    entropy_loss         | -0.558       |\n",
      "|    explained_variance   | 0.571        |\n",
      "|    learning_rate        | 5e-05        |\n",
      "|    loss                 | 0.0295       |\n",
      "|    n_updates            | 68           |\n",
      "|    policy_gradient_loss | -0.00444     |\n",
      "|    value_loss           | 0.00333      |\n",
      "------------------------------------------\n",
      "------------------------------------------\n",
      "| rollout/                |              |\n",
      "|    ep_len_mean          | 31.2         |\n",
      "|    ep_rew_mean          | 0.973        |\n",
      "| time/                   |              |\n",
      "|    fps                  | 792          |\n",
      "|    iterations           | 19           |\n",
      "|    time_elapsed         | 98           |\n",
      "|    total_timesteps      | 77824        |\n",
      "| train/                  |              |\n",
      "|    approx_kl            | 0.0033089225 |\n",
      "|    clip_fraction        | 0.0413       |\n",
      "|    clip_range           | 0.2          |\n",
      "|    entropy_loss         | -0.466       |\n",
      "|    explained_variance   | 0.614        |\n",
      "|    learning_rate        | 5e-05        |\n",
      "|    loss                 | 0.0043       |\n",
      "|    n_updates            | 72           |\n",
      "|    policy_gradient_loss | -0.00404     |\n",
      "|    value_loss           | 0.00292      |\n",
      "------------------------------------------\n",
      "------------------------------------------\n",
      "| rollout/                |              |\n",
      "|    ep_len_mean          | 30.4         |\n",
      "|    ep_rew_mean          | 0.973        |\n",
      "| time/                   |              |\n",
      "|    fps                  | 791          |\n",
      "|    iterations           | 20           |\n",
      "|    time_elapsed         | 103          |\n",
      "|    total_timesteps      | 81920        |\n",
      "| train/                  |              |\n",
      "|    approx_kl            | 0.0032124734 |\n",
      "|    clip_fraction        | 0.0383       |\n",
      "|    clip_range           | 0.2          |\n",
      "|    entropy_loss         | -0.377       |\n",
      "|    explained_variance   | 0.625        |\n",
      "|    learning_rate        | 5e-05        |\n",
      "|    loss                 | 0.000943     |\n",
      "|    n_updates            | 76           |\n",
      "|    policy_gradient_loss | -0.0036      |\n",
      "|    value_loss           | 0.00286      |\n",
      "------------------------------------------\n",
      "------------------------------------------\n",
      "| rollout/                |              |\n",
      "|    ep_len_mean          | 30           |\n",
      "|    ep_rew_mean          | 0.974        |\n",
      "| time/                   |              |\n",
      "|    fps                  | 789          |\n",
      "|    iterations           | 21           |\n",
      "|    time_elapsed         | 108          |\n",
      "|    total_timesteps      | 86016        |\n",
      "| train/                  |              |\n",
      "|    approx_kl            | 0.0019705133 |\n",
      "|    clip_fraction        | 0.0278       |\n",
      "|    clip_range           | 0.2          |\n",
      "|    entropy_loss         | -0.306       |\n",
      "|    explained_variance   | 0.626        |\n",
      "|    learning_rate        | 5e-05        |\n",
      "|    loss                 | -0.0204      |\n",
      "|    n_updates            | 80           |\n",
      "|    policy_gradient_loss | -0.00315     |\n",
      "|    value_loss           | 0.00275      |\n",
      "------------------------------------------\n",
      "------------------------------------------\n",
      "| rollout/                |              |\n",
      "|    ep_len_mean          | 29.5         |\n",
      "|    ep_rew_mean          | 0.974        |\n",
      "| time/                   |              |\n",
      "|    fps                  | 787          |\n",
      "|    iterations           | 22           |\n",
      "|    time_elapsed         | 114          |\n",
      "|    total_timesteps      | 90112        |\n",
      "| train/                  |              |\n",
      "|    approx_kl            | 0.0013801202 |\n",
      "|    clip_fraction        | 0.0128       |\n",
      "|    clip_range           | 0.2          |\n",
      "|    entropy_loss         | -0.276       |\n",
      "|    explained_variance   | 0.631        |\n",
      "|    learning_rate        | 5e-05        |\n",
      "|    loss                 | -0.0028      |\n",
      "|    n_updates            | 84           |\n",
      "|    policy_gradient_loss | -0.000944    |\n",
      "|    value_loss           | 0.00258      |\n",
      "------------------------------------------\n",
      "------------------------------------------\n",
      "| rollout/                |              |\n",
      "|    ep_len_mean          | 29.2         |\n",
      "|    ep_rew_mean          | 0.974        |\n",
      "| time/                   |              |\n",
      "|    fps                  | 786          |\n",
      "|    iterations           | 23           |\n",
      "|    time_elapsed         | 119          |\n",
      "|    total_timesteps      | 94208        |\n",
      "| train/                  |              |\n",
      "|    approx_kl            | 0.0008643421 |\n",
      "|    clip_fraction        | 0.0131       |\n",
      "|    clip_range           | 0.2          |\n",
      "|    entropy_loss         | -0.233       |\n",
      "|    explained_variance   | 0.614        |\n",
      "|    learning_rate        | 5e-05        |\n",
      "|    loss                 | -0.0192      |\n",
      "|    n_updates            | 88           |\n",
      "|    policy_gradient_loss | -0.00184     |\n",
      "|    value_loss           | 0.00252      |\n",
      "------------------------------------------\n",
      "------------------------------------------\n",
      "| rollout/                |              |\n",
      "|    ep_len_mean          | 29.1         |\n",
      "|    ep_rew_mean          | 0.974        |\n",
      "| time/                   |              |\n",
      "|    fps                  | 786          |\n",
      "|    iterations           | 24           |\n",
      "|    time_elapsed         | 124          |\n",
      "|    total_timesteps      | 98304        |\n",
      "| train/                  |              |\n",
      "|    approx_kl            | 0.0007880212 |\n",
      "|    clip_fraction        | 0.0094       |\n",
      "|    clip_range           | 0.2          |\n",
      "|    entropy_loss         | -0.204       |\n",
      "|    explained_variance   | 0.63         |\n",
      "|    learning_rate        | 5e-05        |\n",
      "|    loss                 | 0.00173      |\n",
      "|    n_updates            | 92           |\n",
      "|    policy_gradient_loss | -0.000787    |\n",
      "|    value_loss           | 0.00232      |\n",
      "------------------------------------------\n",
      "------------------------------------------\n",
      "| rollout/                |              |\n",
      "|    ep_len_mean          | 29           |\n",
      "|    ep_rew_mean          | 0.974        |\n",
      "| time/                   |              |\n",
      "|    fps                  | 783          |\n",
      "|    iterations           | 25           |\n",
      "|    time_elapsed         | 130          |\n",
      "|    total_timesteps      | 102400       |\n",
      "| train/                  |              |\n",
      "|    approx_kl            | 0.0008956274 |\n",
      "|    clip_fraction        | 0.0154       |\n",
      "|    clip_range           | 0.2          |\n",
      "|    entropy_loss         | -0.184       |\n",
      "|    explained_variance   | 0.635        |\n",
      "|    learning_rate        | 5e-05        |\n",
      "|    loss                 | -0.0159      |\n",
      "|    n_updates            | 96           |\n",
      "|    policy_gradient_loss | -0.00195     |\n",
      "|    value_loss           | 0.00218      |\n",
      "------------------------------------------\n"
     ]
    },
    {
     "data": {
      "text/plain": [
       "<stable_baselines3.ppo.ppo.PPO at 0x14849ddd0>"
      ]
     },
     "execution_count": 32,
     "metadata": {},
     "output_type": "execute_result"
    }
   ],
   "source": [
    "total_timesteps = 100000\n",
    "log_interval = 1\n",
    "tb_log_name = env_id\n",
    "\n",
    "model.learn(total_timesteps=total_timesteps,\n",
    "            log_interval=log_interval,\n",
    "            tb_log_name = tb_log_name,\n",
    "            callback=callback)\n",
    "# The performance of the training will be printed every 10 episodes. Change it to 1, if you wish to\n",
    "# view the performance at every training episode."
   ]
  },
  {
   "cell_type": "markdown",
   "metadata": {},
   "source": [
    "Save the trained model:"
   ]
  },
  {
   "cell_type": "code",
   "execution_count": 36,
   "metadata": {},
   "outputs": [],
   "source": [
    "# Save the agent\n",
    "model.save(env_id)"
   ]
  },
  {
   "cell_type": "code",
   "execution_count": 8,
   "metadata": {},
   "outputs": [],
   "source": [
    "model = PPO.load(path=env_id)"
   ]
  },
  {
   "cell_type": "markdown",
   "metadata": {},
   "source": [
    "Evaluate the trained model:"
   ]
  },
  {
   "cell_type": "code",
   "execution_count": 10,
   "metadata": {},
   "outputs": [
    {
     "name": "stdout",
     "output_type": "stream",
     "text": [
      "Mean reward: 0.975390613079071 +/- 0.00\n"
     ]
    }
   ],
   "source": [
    "# We create a separate environment for evaluation\n",
    "eval_env = FlatObsWrapper(gym.make(env_id))\n",
    "\n",
    "# Random Agent, before training\n",
    "mean_reward, std_reward = evaluate_policy(model, eval_env, n_eval_episodes=50)\n",
    "print(f'Mean reward: {mean_reward} +/- {std_reward:.2f}')"
   ]
  },
  {
   "cell_type": "markdown",
   "metadata": {},
   "source": [
    "Evaluate the trained model over a different environment:"
   ]
  },
  {
   "cell_type": "code",
   "execution_count": 21,
   "metadata": {},
   "outputs": [
    {
     "name": "stdout",
     "output_type": "stream",
     "text": [
      "Mean reward: 0.9322500038146972 +/- 0.03\n"
     ]
    }
   ],
   "source": [
    "env_id = 'MiniGrid-Empty-Random-6x6-v0'\n",
    "# We create a separate environment for evaluation\n",
    "eval_env = FlatObsWrapper(gym.make(env_id))\n",
    "\n",
    "# Random Agent, before training\n",
    "mean_reward, std_reward = evaluate_policy(model, eval_env, n_eval_episodes=50)\n",
    "print(f'Mean reward: {mean_reward} +/- {std_reward:.2f}')"
   ]
  },
  {
   "cell_type": "markdown",
   "metadata": {},
   "source": [
    "Check environment render:"
   ]
  },
  {
   "cell_type": "code",
   "execution_count": 54,
   "metadata": {},
   "outputs": [
    {
     "data": {
      "image/png": "[encoded data removed]",
      "text/plain": [
       "<Figure size 720x576 with 1 Axes>"
      ]
     },
     "metadata": {
      "needs_background": "light"
     },
     "output_type": "display_data"
    }
   ],
   "source": [
    "env_id = 'MiniGrid-Empty-16x16-v0'\n",
    "eval_env = gym.make(env_id)\n",
    "eval_env.reset()\n",
    "before_img = eval_env.render('rgb_array')\n",
    "\n",
    "plt.imshow(before_img);"
   ]
  },
  {
   "cell_type": "markdown",
   "metadata": {},
   "source": [
    "Check observation tensor shape:"
   ]
  },
  {
   "cell_type": "code",
   "execution_count": 22,
   "metadata": {},
   "outputs": [
    {
     "name": "stdout",
     "output_type": "stream",
     "text": [
      "Observation: [2. 5. 0. ... 0. 0. 0.] , Observation Shape:  (2739,)\n"
     ]
    }
   ],
   "source": [
    "env_id = 'MiniGrid-Empty-16x16-v0'\n",
    "#env = PyTorchObsWrapper(gym.make(env_id)) # Observation Shape:  (3, 80, 60)\n",
    "#env = wrap_env(gym.make(env_id)) # Observation Shape:  (60, 80, 3)\n",
    "#env = gym.make(env_id) # Observation Shape:  (60, 80, 3)\n",
    "env = gen_wrapped_env(env_id) # Observation Shape:  (3, 80, 60)\n",
    "            \n",
    "#env = gym.make(env_id)\n",
    "obs = env.reset()\n",
    "print('Observation:', obs, ', Observation Shape: ', obs.shape)\n",
    "\n",
    "# Select the action right\n",
    "#action = env.actions.turn_right\n",
    "\n",
    "# Take a step in the environment and store it in appropriate variables\n",
    "#obs, reward, done, info = env.step(action)\n",
    "\n",
    "#obs = obs.transpose(0,2,1)\n",
    "#print('Observation:', obs, ', Observation Shape: ', obs.shape)"
   ]
  },
  {
   "cell_type": "markdown",
   "metadata": {},
   "source": [
    "Run the model prediction and visualize video:"
   ]
  },
  {
   "cell_type": "code",
   "execution_count": 27,
   "metadata": {
    "tags": []
   },
   "outputs": [
    {
     "name": "stdout",
     "output_type": "stream",
     "text": [
      "Total reward: 0.975390625\n",
      "Total length: 28\n"
     ]
    },
    {
     "data": {
      "text/html": [
       "<video alt=\"test\" autoplay \n",
       "                loop controls style=\"height: 400px;\">\n",
       "                <source src=\"data:video/mp4;base64,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\" type=\"video/mp4\" />\n",
       "             </video>"
      ],
      "text/plain": [
       "<IPython.core.display.HTML object>"
      ]
     },
     "metadata": {},
     "output_type": "display_data"
    }
   ],
   "source": [
    "env_id = 'MiniGrid-Empty-16x16-v0'\n",
    "#env_id = 'MiniGrid-Empty-Random-6x6-v0'\n",
    "#env_id = 'MiniGrid-Empty-8x8-v0'\n",
    "\n",
    "test_env = gen_wrapped_env(env_id)\n",
    "observation = test_env.reset()\n",
    "\n",
    "done = False\n",
    "episode_reward = 0\n",
    "episode_length = 0\n",
    "\n",
    "while not done:\n",
    "  #test_env.render()\n",
    "  action, states = model.predict(observation, deterministic=True)\n",
    "  observation, reward, done, info = test_env.step(action)\n",
    "  episode_reward += reward\n",
    "  episode_length += 1\n",
    "\n",
    "print('Total reward:', episode_reward)\n",
    "print('Total length:', episode_length)\n",
    "\n",
    "test_env.close()\n",
    "show_video()"
   ]
  },
  {
   "cell_type": "markdown",
   "metadata": {},
   "source": [
    "## Train, stop and resume with another environment"
   ]
  },
  {
   "cell_type": "markdown",
   "metadata": {},
   "source": [
    "### First stage training\n",
    "Let's have a quick look at the environment:"
   ]
  },
  {
   "cell_type": "code",
   "execution_count": 6,
   "metadata": {},
   "outputs": [
    {
     "data": {
      "image/png": "[encoded data removed]",
      "text/plain": [
       "<Figure size 720x576 with 1 Axes>"
      ]
     },
     "metadata": {
      "needs_background": "light"
     },
     "output_type": "display_data"
    }
   ],
   "source": [
    "env = gym.make('MiniGrid-DistShift1-v0')\n",
    "env.reset()\n",
    "before_img = env.render('rgb_array')\n",
    "action = env.actions.forward\n",
    "obs, reward, done, info = env.step(action)\n",
    "after_img = env.render('rgb_array')\n",
    "\n",
    "plt.imshow(np.concatenate([before_img, after_img], 1));"
   ]
  },
  {
   "cell_type": "markdown",
   "metadata": {},
   "source": [
    "Define and create the model to train:"
   ]
  },
  {
   "cell_type": "code",
   "execution_count": 29,
   "metadata": {},
   "outputs": [
    {
     "name": "stdout",
     "output_type": "stream",
     "text": [
      "Using cpu device\n"
     ]
    }
   ],
   "source": [
    "# By default, we use a DummyVecEnv as it is usually faster (cf doc)\n",
    "num_cpu = 16  # Number of processes to use\n",
    "env_id = 'MiniGrid-DistShift1-v0'\n",
    "vec_env = make_vec_env(env_id, n_envs=num_cpu, wrapper_class=FlatObsWrapper)\n",
    "\n",
    "learning_rate = 0.00005\n",
    "n_steps = 256\n",
    "batch_size = 16\n",
    "ent_coef = 0.001\n",
    "n_epochs = 4\n",
    "\n",
    "tensorboard_log = \"./tmp/log/\"\n",
    "os.makedirs(tensorboard_log, exist_ok=True)\n",
    "# Reset the environment\n",
    "vec_env.reset()\n",
    "\n",
    "# create the model\n",
    "model = PPO('MlpPolicy',\n",
    "            env=vec_env,\n",
    "            learning_rate=learning_rate,\n",
    "            batch_size=batch_size,\n",
    "            ent_coef=ent_coef,\n",
    "            n_epochs=n_epochs,\n",
    "            n_steps=n_steps,\n",
    "            tensorboard_log=tensorboard_log,\n",
    "            verbose=1)"
   ]
  },
  {
   "cell_type": "markdown",
   "metadata": {},
   "source": [
    "Configure the monitor callback. It will output eval results on the Tensorboard 'eval' section:"
   ]
  },
  {
   "cell_type": "code",
   "execution_count": 30,
   "metadata": {},
   "outputs": [],
   "source": [
    "log_dir = \"./tmp/gym/\"\n",
    "os.makedirs(log_dir, exist_ok=True)\n",
    "\n",
    "# Create eval environment\n",
    "env = gym.make(env_id)\n",
    "env = FlatObsWrapper(env)\n",
    "env = stable_baselines3.common.monitor.Monitor(env, log_dir)\n",
    "# Reset the environment\n",
    "env.reset();\n",
    "#For evaluating the performance of the agent periodically and logging the results.\n",
    "callback = EvalCallback(env, log_path = log_dir, deterministic=True)"
   ]
  },
  {
   "cell_type": "markdown",
   "metadata": {},
   "source": [
    "Train the model on a first stage. It outputs log results on Tensorboard rollout section:"
   ]
  },
  {
   "cell_type": "code",
   "execution_count": 31,
   "metadata": {
    "collapsed": true,
    "jupyter": {
     "outputs_hidden": true
    },
    "tags": []
   },
   "outputs": [
    {
     "name": "stdout",
     "output_type": "stream",
     "text": [
      "Logging to ./tmp/log/MiniGrid-DistShift1-v0_1\n",
      "-----------------------------------------\n",
      "| rollout/                |             |\n",
      "|    ep_len_mean          | 3.02        |\n",
      "|    ep_rew_mean          | 0           |\n",
      "| time/                   |             |\n",
      "|    fps                  | 844         |\n",
      "|    iterations           | 10          |\n",
      "|    time_elapsed         | 48          |\n",
      "|    total_timesteps      | 40960       |\n",
      "| train/                  |             |\n",
      "|    approx_kl            | 0.046871115 |\n",
      "|    clip_fraction        | 0.208       |\n",
      "|    clip_range           | 0.2         |\n",
      "|    entropy_loss         | -1.15       |\n",
      "|    explained_variance   | -22.3       |\n",
      "|    learning_rate        | 5e-05       |\n",
      "|    loss                 | 0.217       |\n",
      "|    n_updates            | 36          |\n",
      "|    policy_gradient_loss | -0.00899    |\n",
      "|    value_loss           | 2.57e-05    |\n",
      "-----------------------------------------\n",
      "-----------------------------------------\n",
      "| rollout/                |             |\n",
      "|    ep_len_mean          | 4.74        |\n",
      "|    ep_rew_mean          | 0           |\n",
      "| time/                   |             |\n",
      "|    fps                  | 785         |\n",
      "|    iterations           | 20          |\n",
      "|    time_elapsed         | 104         |\n",
      "|    total_timesteps      | 81920       |\n",
      "| train/                  |             |\n",
      "|    approx_kl            | 0.038378265 |\n",
      "|    clip_fraction        | 0.187       |\n",
      "|    clip_range           | 0.2         |\n",
      "|    entropy_loss         | -1.34       |\n",
      "|    explained_variance   | -26.3       |\n",
      "|    learning_rate        | 5e-05       |\n",
      "|    loss                 | 0.054       |\n",
      "|    n_updates            | 76          |\n",
      "|    policy_gradient_loss | -0.0122     |\n",
      "|    value_loss           | 5e-07       |\n",
      "-----------------------------------------\n",
      "---------------------------------------\n",
      "| rollout/                |           |\n",
      "|    ep_len_mean          | 8.1       |\n",
      "|    ep_rew_mean          | 0         |\n",
      "| time/                   |           |\n",
      "|    fps                  | 772       |\n",
      "|    iterations           | 30        |\n",
      "|    time_elapsed         | 159       |\n",
      "|    total_timesteps      | 122880    |\n",
      "| train/                  |           |\n",
      "|    approx_kl            | 0.0173009 |\n",
      "|    clip_fraction        | 0.243     |\n",
      "|    clip_range           | 0.2       |\n",
      "|    entropy_loss         | -1.4      |\n",
      "|    explained_variance   | -11.5     |\n",
      "|    learning_rate        | 5e-05     |\n",
      "|    loss                 | -0.0094   |\n",
      "|    n_updates            | 116       |\n",
      "|    policy_gradient_loss | -0.0101   |\n",
      "|    value_loss           | 1.02e-05  |\n",
      "---------------------------------------\n",
      "Eval num_timesteps=160000, episode_reward=0.00 +/- 0.00\n",
      "Episode length: 2.00 +/- 0.00\n",
      "-----------------------------------------\n",
      "| eval/                   |             |\n",
      "|    mean_ep_length       | 2           |\n",
      "|    mean_reward          | 0           |\n",
      "| time/                   |             |\n",
      "|    total_timesteps      | 160000      |\n",
      "| train/                  |             |\n",
      "|    approx_kl            | 0.041763335 |\n",
      "|    clip_fraction        | 0.216       |\n",
      "|    clip_range           | 0.2         |\n",
      "|    entropy_loss         | -1.09       |\n",
      "|    explained_variance   | -54.5       |\n",
      "|    learning_rate        | 5e-05       |\n",
      "|    loss                 | 0.0363      |\n",
      "|    n_updates            | 156         |\n",
      "|    policy_gradient_loss | -0.0112     |\n",
      "|    value_loss           | 5.11e-06    |\n",
      "-----------------------------------------\n",
      "New best mean reward!\n",
      "---------------------------------\n",
      "| rollout/           |          |\n",
      "|    ep_len_mean     | 3.33     |\n",
      "|    ep_rew_mean     | 0        |\n",
      "| time/              |          |\n",
      "|    fps             | 770      |\n",
      "|    iterations      | 40       |\n",
      "|    time_elapsed    | 212      |\n",
      "|    total_timesteps | 163840   |\n",
      "---------------------------------\n",
      "-----------------------------------------\n",
      "| rollout/                |             |\n",
      "|    ep_len_mean          | 13.1        |\n",
      "|    ep_rew_mean          | 0           |\n",
      "| time/                   |             |\n",
      "|    fps                  | 766         |\n",
      "|    iterations           | 50          |\n",
      "|    time_elapsed         | 267         |\n",
      "|    total_timesteps      | 204800      |\n",
      "| train/                  |             |\n",
      "|    approx_kl            | 0.013602676 |\n",
      "|    clip_fraction        | 0.158       |\n",
      "|    clip_range           | 0.2         |\n",
      "|    entropy_loss         | -1.6        |\n",
      "|    explained_variance   | -5.15       |\n",
      "|    learning_rate        | 5e-05       |\n",
      "|    loss                 | -0.0584     |\n",
      "|    n_updates            | 196         |\n",
      "|    policy_gradient_loss | -0.0123     |\n",
      "|    value_loss           | 3.24e-05    |\n",
      "-----------------------------------------\n",
      "-----------------------------------------\n",
      "| rollout/                |             |\n",
      "|    ep_len_mean          | 23.8        |\n",
      "|    ep_rew_mean          | 0.897       |\n",
      "| time/                   |             |\n",
      "|    fps                  | 766         |\n",
      "|    iterations           | 60          |\n",
      "|    time_elapsed         | 320         |\n",
      "|    total_timesteps      | 245760      |\n",
      "| train/                  |             |\n",
      "|    approx_kl            | 0.007632873 |\n",
      "|    clip_fraction        | 0.0848      |\n",
      "|    clip_range           | 0.2         |\n",
      "|    entropy_loss         | -0.773      |\n",
      "|    explained_variance   | 0.366       |\n",
      "|    learning_rate        | 5e-05       |\n",
      "|    loss                 | 0.00754     |\n",
      "|    n_updates            | 236         |\n",
      "|    policy_gradient_loss | -0.00839    |\n",
      "|    value_loss           | 0.00877     |\n",
      "-----------------------------------------\n",
      "----------------------------------------\n",
      "| rollout/                |            |\n",
      "|    ep_len_mean          | 13.9       |\n",
      "|    ep_rew_mean          | 0.95       |\n",
      "| time/                   |            |\n",
      "|    fps                  | 765        |\n",
      "|    iterations           | 70         |\n",
      "|    time_elapsed         | 374        |\n",
      "|    total_timesteps      | 286720     |\n",
      "| train/                  |            |\n",
      "|    approx_kl            | 0.05974974 |\n",
      "|    clip_fraction        | 0.102      |\n",
      "|    clip_range           | 0.2        |\n",
      "|    entropy_loss         | -0.159     |\n",
      "|    explained_variance   | 0.852      |\n",
      "|    learning_rate        | 5e-05      |\n",
      "|    loss                 | 0.828      |\n",
      "|    n_updates            | 276        |\n",
      "|    policy_gradient_loss | -0.00718   |\n",
      "|    value_loss           | 0.000287   |\n",
      "----------------------------------------\n",
      "Eval num_timesteps=320000, episode_reward=0.95 +/- 0.00\n",
      "Episode length: 13.00 +/- 0.00\n",
      "-----------------------------------------\n",
      "| eval/                   |             |\n",
      "|    mean_ep_length       | 13          |\n",
      "|    mean_reward          | 0.954       |\n",
      "| time/                   |             |\n",
      "|    total_timesteps      | 320000      |\n",
      "| train/                  |             |\n",
      "|    approx_kl            | 0.052721083 |\n",
      "|    clip_fraction        | 0.257       |\n",
      "|    clip_range           | 0.2         |\n",
      "|    entropy_loss         | -0.517      |\n",
      "|    explained_variance   | 0.326       |\n",
      "|    learning_rate        | 5e-05       |\n",
      "|    loss                 | 0.0102      |\n",
      "|    n_updates            | 312         |\n",
      "|    policy_gradient_loss | -0.00599    |\n",
      "|    value_loss           | 0.00541     |\n",
      "-----------------------------------------\n",
      "New best mean reward!\n",
      "-----------------------------------------\n",
      "| rollout/                |             |\n",
      "|    ep_len_mean          | 13.9        |\n",
      "|    ep_rew_mean          | 0.95        |\n",
      "| time/                   |             |\n",
      "|    fps                  | 766         |\n",
      "|    iterations           | 80          |\n",
      "|    time_elapsed         | 427         |\n",
      "|    total_timesteps      | 327680      |\n",
      "| train/                  |             |\n",
      "|    approx_kl            | 0.051897317 |\n",
      "|    clip_fraction        | 0.214       |\n",
      "|    clip_range           | 0.2         |\n",
      "|    entropy_loss         | -0.396      |\n",
      "|    explained_variance   | 0.566       |\n",
      "|    learning_rate        | 5e-05       |\n",
      "|    loss                 | 0.00688     |\n",
      "|    n_updates            | 316         |\n",
      "|    policy_gradient_loss | -0.0176     |\n",
      "|    value_loss           | 0.00592     |\n",
      "-----------------------------------------\n",
      "-----------------------------------------\n",
      "| rollout/                |             |\n",
      "|    ep_len_mean          | 13.1        |\n",
      "|    ep_rew_mean          | 0.953       |\n",
      "| time/                   |             |\n",
      "|    fps                  | 767         |\n",
      "|    iterations           | 90          |\n",
      "|    time_elapsed         | 480         |\n",
      "|    total_timesteps      | 368640      |\n",
      "| train/                  |             |\n",
      "|    approx_kl            | 0.008973803 |\n",
      "|    clip_fraction        | 0.0693      |\n",
      "|    clip_range           | 0.2         |\n",
      "|    entropy_loss         | -0.0427     |\n",
      "|    explained_variance   | 0.935       |\n",
      "|    learning_rate        | 5e-05       |\n",
      "|    loss                 | -0.0261     |\n",
      "|    n_updates            | 356         |\n",
      "|    policy_gradient_loss | -0.0126     |\n",
      "|    value_loss           | 7.53e-05    |\n",
      "-----------------------------------------\n",
      "-----------------------------------------\n",
      "| rollout/                |             |\n",
      "|    ep_len_mean          | 13.5        |\n",
      "|    ep_rew_mean          | 0.952       |\n",
      "| time/                   |             |\n",
      "|    fps                  | 769         |\n",
      "|    iterations           | 100         |\n",
      "|    time_elapsed         | 532         |\n",
      "|    total_timesteps      | 409600      |\n",
      "| train/                  |             |\n",
      "|    approx_kl            | 0.087770306 |\n",
      "|    clip_fraction        | 0.189       |\n",
      "|    clip_range           | 0.2         |\n",
      "|    entropy_loss         | -0.0852     |\n",
      "|    explained_variance   | 0.785       |\n",
      "|    learning_rate        | 5e-05       |\n",
      "|    loss                 | -0.0514     |\n",
      "|    n_updates            | 396         |\n",
      "|    policy_gradient_loss | -0.0214     |\n",
      "|    value_loss           | 0.000337    |\n",
      "-----------------------------------------\n",
      "-----------------------------------------\n",
      "| rollout/                |             |\n",
      "|    ep_len_mean          | 14          |\n",
      "|    ep_rew_mean          | 0.95        |\n",
      "| time/                   |             |\n",
      "|    fps                  | 767         |\n",
      "|    iterations           | 110         |\n",
      "|    time_elapsed         | 586         |\n",
      "|    total_timesteps      | 450560      |\n",
      "| train/                  |             |\n",
      "|    approx_kl            | 0.038601715 |\n",
      "|    clip_fraction        | 0.121       |\n",
      "|    clip_range           | 0.2         |\n",
      "|    entropy_loss         | -0.082      |\n",
      "|    explained_variance   | 0.95        |\n",
      "|    learning_rate        | 5e-05       |\n",
      "|    loss                 | -0.012      |\n",
      "|    n_updates            | 436         |\n",
      "|    policy_gradient_loss | 0.0208      |\n",
      "|    value_loss           | 7e-05       |\n",
      "-----------------------------------------\n",
      "Eval num_timesteps=480000, episode_reward=0.00 +/- 0.00\n",
      "Episode length: 252.00 +/- 0.00\n",
      "-----------------------------------------\n",
      "| eval/                   |             |\n",
      "|    mean_ep_length       | 252         |\n",
      "|    mean_reward          | 0           |\n",
      "| time/                   |             |\n",
      "|    total_timesteps      | 480000      |\n",
      "| train/                  |             |\n",
      "|    approx_kl            | 0.015785674 |\n",
      "|    clip_fraction        | 0.198       |\n",
      "|    clip_range           | 0.2         |\n",
      "|    entropy_loss         | -0.408      |\n",
      "|    explained_variance   | 0.303       |\n",
      "|    learning_rate        | 5e-05       |\n",
      "|    loss                 | 0.0379      |\n",
      "|    n_updates            | 468         |\n",
      "|    policy_gradient_loss | -0.0175     |\n",
      "|    value_loss           | 0.00626     |\n",
      "-----------------------------------------\n",
      "-----------------------------------------\n",
      "| rollout/                |             |\n",
      "|    ep_len_mean          | 15.8        |\n",
      "|    ep_rew_mean          | 0.944       |\n",
      "| time/                   |             |\n",
      "|    fps                  | 765         |\n",
      "|    iterations           | 120         |\n",
      "|    time_elapsed         | 642         |\n",
      "|    total_timesteps      | 491520      |\n",
      "| train/                  |             |\n",
      "|    approx_kl            | 0.045223814 |\n",
      "|    clip_fraction        | 0.191       |\n",
      "|    clip_range           | 0.2         |\n",
      "|    entropy_loss         | -0.219      |\n",
      "|    explained_variance   | 0.453       |\n",
      "|    learning_rate        | 5e-05       |\n",
      "|    loss                 | 0.4         |\n",
      "|    n_updates            | 476         |\n",
      "|    policy_gradient_loss | -0.019      |\n",
      "|    value_loss           | 0.00294     |\n",
      "-----------------------------------------\n"
     ]
    },
    {
     "data": {
      "text/plain": [
       "<stable_baselines3.ppo.ppo.PPO at 0x13cfd8a50>"
      ]
     },
     "execution_count": 31,
     "metadata": {},
     "output_type": "execute_result"
    }
   ],
   "source": [
    "total_timesteps = 500000\n",
    "log_interval = 10\n",
    "tb_log_name = env_id\n",
    "\n",
    "model.learn(total_timesteps=total_timesteps,\n",
    "            log_interval=log_interval,\n",
    "            tb_log_name = tb_log_name,\n",
    "            callback=callback)\n",
    "# The performance of the training will be printed every 10 episodes. Change it to 1, if you wish to\n",
    "# view the performance at every training episode."
   ]
  },
  {
   "cell_type": "markdown",
   "metadata": {},
   "source": [
    "Save the model in case we close the notebook:"
   ]
  },
  {
   "cell_type": "code",
   "execution_count": 32,
   "metadata": {},
   "outputs": [],
   "source": [
    "# Save the agent\n",
    "model.save(env_id) "
   ]
  },
  {
   "cell_type": "markdown",
   "metadata": {},
   "source": [
    "Let's evaluate the model at this stage:"
   ]
  },
  {
   "cell_type": "code",
   "execution_count": 34,
   "metadata": {},
   "outputs": [
    {
     "name": "stdout",
     "output_type": "stream",
     "text": [
      "Mean reward: 0.9535714387893677 +/- 0.00\n"
     ]
    }
   ],
   "source": [
    "# We create a separate environment for evaluation\n",
    "eval_env = FlatObsWrapper(gym.make(env_id))\n",
    "\n",
    "# Random Agent, before training\n",
    "mean_reward, std_reward = evaluate_policy(model, eval_env, n_eval_episodes=50)\n",
    "print(f'Mean reward: {mean_reward} +/- {std_reward:.2f}')"
   ]
  },
  {
   "cell_type": "markdown",
   "metadata": {},
   "source": [
    "### Second stage training\n",
    "Reload the model and continue the learning process for some additional timesteps:"
   ]
  },
  {
   "cell_type": "code",
   "execution_count": 35,
   "metadata": {
    "collapsed": true,
    "jupyter": {
     "outputs_hidden": true
    },
    "tags": []
   },
   "outputs": [
    {
     "name": "stdout",
     "output_type": "stream",
     "text": [
      "Logging to ./tmp/log/MiniGrid-DistShift1-v0_1\n",
      "-----------------------------------------\n",
      "| rollout/                |             |\n",
      "|    ep_len_mean          | 16.6        |\n",
      "|    ep_rew_mean          | 0.941       |\n",
      "| time/                   |             |\n",
      "|    fps                  | 867         |\n",
      "|    iterations           | 10          |\n",
      "|    time_elapsed         | 47          |\n",
      "|    total_timesteps      | 544768      |\n",
      "| train/                  |             |\n",
      "|    approx_kl            | 0.016715989 |\n",
      "|    clip_fraction        | 0.117       |\n",
      "|    clip_range           | 0.2         |\n",
      "|    entropy_loss         | -0.225      |\n",
      "|    explained_variance   | 0.363       |\n",
      "|    learning_rate        | 5e-05       |\n",
      "|    loss                 | 0.0405      |\n",
      "|    n_updates            | 528         |\n",
      "|    policy_gradient_loss | -0.0104     |\n",
      "|    value_loss           | 0.0025      |\n",
      "-----------------------------------------\n",
      "-----------------------------------------\n",
      "| rollout/                |             |\n",
      "|    ep_len_mean          | 13.5        |\n",
      "|    ep_rew_mean          | 0.952       |\n",
      "| time/                   |             |\n",
      "|    fps                  | 809         |\n",
      "|    iterations           | 20          |\n",
      "|    time_elapsed         | 101         |\n",
      "|    total_timesteps      | 585728      |\n",
      "| train/                  |             |\n",
      "|    approx_kl            | 0.052225117 |\n",
      "|    clip_fraction        | 0.249       |\n",
      "|    clip_range           | 0.2         |\n",
      "|    entropy_loss         | -0.162      |\n",
      "|    explained_variance   | 0.453       |\n",
      "|    learning_rate        | 5e-05       |\n",
      "|    loss                 | -0.0267     |\n",
      "|    n_updates            | 568         |\n",
      "|    policy_gradient_loss | -0.0299     |\n",
      "|    value_loss           | 0.00112     |\n",
      "-----------------------------------------\n",
      "----------------------------------------\n",
      "| rollout/                |            |\n",
      "|    ep_len_mean          | 30         |\n",
      "|    ep_rew_mean          | 0.893      |\n",
      "| time/                   |            |\n",
      "|    fps                  | 800        |\n",
      "|    iterations           | 30         |\n",
      "|    time_elapsed         | 153        |\n",
      "|    total_timesteps      | 626688     |\n",
      "| train/                  |            |\n",
      "|    approx_kl            | 0.13196431 |\n",
      "|    clip_fraction        | 0.162      |\n",
      "|    clip_range           | 0.2        |\n",
      "|    entropy_loss         | -0.172     |\n",
      "|    explained_variance   | 0.922      |\n",
      "|    learning_rate        | 5e-05      |\n",
      "|    loss                 | -0.0584    |\n",
      "|    n_updates            | 608        |\n",
      "|    policy_gradient_loss | 0.0411     |\n",
      "|    value_loss           | 8.61e-05   |\n",
      "----------------------------------------\n",
      "-----------------------------------------\n",
      "| rollout/                |             |\n",
      "|    ep_len_mean          | 13.2        |\n",
      "|    ep_rew_mean          | 0.953       |\n",
      "| time/                   |             |\n",
      "|    fps                  | 798         |\n",
      "|    iterations           | 40          |\n",
      "|    time_elapsed         | 205         |\n",
      "|    total_timesteps      | 667648      |\n",
      "| train/                  |             |\n",
      "|    approx_kl            | 0.030938111 |\n",
      "|    clip_fraction        | 0.082       |\n",
      "|    clip_range           | 0.2         |\n",
      "|    entropy_loss         | -0.0645     |\n",
      "|    explained_variance   | 0.836       |\n",
      "|    learning_rate        | 5e-05       |\n",
      "|    loss                 | -0.0404     |\n",
      "|    n_updates            | 648         |\n",
      "|    policy_gradient_loss | -0.0174     |\n",
      "|    value_loss           | 0.000232    |\n",
      "-----------------------------------------\n"
     ]
    },
    {
     "data": {
      "text/plain": [
       "<stable_baselines3.ppo.ppo.PPO at 0x13cf72250>"
      ]
     },
     "execution_count": 35,
     "metadata": {},
     "output_type": "execute_result"
    }
   ],
   "source": [
    "# number of timesteps to add\n",
    "total_timesteps = 200000\n",
    "log_interval = 10\n",
    "\n",
    "# load the model on previous vectorized env and tensorboard log directory\n",
    "model = PPO.load(path=env_id, env=vec_env, tensorboard_log=tensorboard_log)\n",
    "#model.set_env(vec_env)\n",
    "\n",
    "# resume training using same tensorboard run without resetting the timesteps\n",
    "model.learn(total_timesteps=total_timesteps,\n",
    "            log_interval=log_interval,\n",
    "            tb_log_name=tb_log_name,\n",
    "            reset_num_timesteps=False)"
   ]
  },
  {
   "cell_type": "markdown",
   "metadata": {},
   "source": [
    "Let's evaluate again the model:"
   ]
  },
  {
   "cell_type": "code",
   "execution_count": 7,
   "metadata": {},
   "outputs": [],
   "source": [
    "#model = PPO.load('MiniGrid-DistShift1-v0_2')"
   ]
  },
  {
   "cell_type": "code",
   "execution_count": 9,
   "metadata": {},
   "outputs": [
    {
     "name": "stdout",
     "output_type": "stream",
     "text": [
      "Mean reward: 0.9535714387893677 +/- 0.00\n"
     ]
    }
   ],
   "source": [
    "env_id = 'MiniGrid-DistShift1-v0'\n",
    "# We create a separate environment for evaluation\n",
    "eval_env = FlatObsWrapper(gym.make(env_id))\n",
    "\n",
    "# Random Agent, before training\n",
    "mean_reward, std_reward = evaluate_policy(model, eval_env, n_eval_episodes=50)\n",
    "print(f'Mean reward: {mean_reward} +/- {std_reward:.2f}')"
   ]
  },
  {
   "cell_type": "markdown",
   "metadata": {},
   "source": [
    "Let's see mean reward with the second environment 'Minigrid-DistShift2-v0':"
   ]
  },
  {
   "cell_type": "code",
   "execution_count": 10,
   "metadata": {},
   "outputs": [
    {
     "name": "stdout",
     "output_type": "stream",
     "text": [
      "Mean reward: 0.0 +/- 0.00\n"
     ]
    }
   ],
   "source": [
    "env_id = 'MiniGrid-DistShift2-v0'\n",
    "# We create a separate environment for evaluation\n",
    "eval_env = FlatObsWrapper(gym.make(env_id))\n",
    "\n",
    "# Random Agent, before training\n",
    "mean_reward, std_reward = evaluate_policy(model, eval_env, n_eval_episodes=50)\n",
    "print(f'Mean reward: {mean_reward} +/- {std_reward:.2f}')"
   ]
  },
  {
   "cell_type": "markdown",
   "metadata": {},
   "source": [
    "Let's save again the model:"
   ]
  },
  {
   "cell_type": "code",
   "execution_count": 49,
   "metadata": {},
   "outputs": [],
   "source": [
    "# Save the agent\n",
    "model.save(env_id+'_2') "
   ]
  },
  {
   "cell_type": "markdown",
   "metadata": {},
   "source": [
    "Let's see the model prediction with the original environment:"
   ]
  },
  {
   "cell_type": "code",
   "execution_count": 85,
   "metadata": {},
   "outputs": [
    {
     "name": "stdout",
     "output_type": "stream",
     "text": [
      "Total reward: 0.9535714285714285\n",
      "Total length: 13\n"
     ]
    },
    {
     "data": {
      "text/html": [
       "<video alt=\"test\" autoplay \n",
       "                loop controls style=\"height: 400px;\">\n",
       "                <source src=\"data:video/mp4;base64,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\" type=\"video/mp4\" />\n",
       "             </video>"
      ],
      "text/plain": [
       "<IPython.core.display.HTML object>"
      ]
     },
     "metadata": {},
     "output_type": "display_data"
    }
   ],
   "source": [
    "# reload the model in case we don't have it\n",
    "model = PPO.load('MiniGrid-DistShift1-v0_2')\n",
    "\n",
    "env_id = 'MiniGrid-DistShift1-v0'\n",
    "\n",
    "test_env = gen_wrapped_env(env_id)\n",
    "observation = test_env.reset()\n",
    "\n",
    "done = False\n",
    "episode_reward = 0\n",
    "episode_length = 0\n",
    "\n",
    "while not done:\n",
    "  #test_env.render()\n",
    "  action, states = model.predict(observation, deterministic=True)\n",
    "  observation, reward, done, info = test_env.step(action)\n",
    "  episode_reward += reward\n",
    "  episode_length += 1\n",
    "\n",
    "print('Total reward:', episode_reward)\n",
    "print('Total length:', episode_length)\n",
    "\n",
    "test_env.close()\n",
    "show_video()"
   ]
  },
  {
   "cell_type": "markdown",
   "metadata": {},
   "source": [
    "Now let's see how it works with the second slightly different environment (which has not seen yet). It seems it doesn't perform very well:"
   ]
  },
  {
   "cell_type": "code",
   "execution_count": 86,
   "metadata": {},
   "outputs": [
    {
     "name": "stdout",
     "output_type": "stream",
     "text": [
      "Total reward: 0\n",
      "Total length: 252\n"
     ]
    },
    {
     "data": {
      "text/html": [
       "<video alt=\"test\" autoplay \n",
       "                loop controls style=\"height: 400px;\">\n",
       "                <source src=\"data:video/mp4;base64,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\" type=\"video/mp4\" />\n",
       "             </video>"
      ],
      "text/plain": [
       "<IPython.core.display.HTML object>"
      ]
     },
     "metadata": {},
     "output_type": "display_data"
    }
   ],
   "source": [
    "# reload the model in case we don't have it\n",
    "#model = PPO.load('MiniGrid-DistShift1-v0_2')\n",
    "\n",
    "env_id = 'MiniGrid-DistShift2-v0'\n",
    "\n",
    "test_env = gen_wrapped_env(env_id)\n",
    "observation = test_env.reset()\n",
    "\n",
    "done = False\n",
    "episode_reward = 0\n",
    "episode_length = 0\n",
    "\n",
    "while not done:\n",
    "  #test_env.render()\n",
    "  action, states = model.predict(observation, deterministic=True)\n",
    "  observation, reward, done, info = test_env.step(action)\n",
    "  episode_reward += reward\n",
    "  episode_length += 1\n",
    "\n",
    "print('Total reward:', episode_reward)\n",
    "print('Total length:', episode_length)\n",
    "\n",
    "test_env.close()\n",
    "show_video()"
   ]
  },
  {
   "cell_type": "markdown",
   "metadata": {},
   "source": [
    "### Simple Curriculum Learning\n",
    "Now we do some Curriculum Learning, and keep training the model with the second environment. Let's create the new vectorized environment:"
   ]
  },
  {
   "cell_type": "code",
   "execution_count": 50,
   "metadata": {},
   "outputs": [],
   "source": [
    "# By default, we use a DummyVecEnv as it is usually faster (cf doc)\n",
    "num_cpu = 16  # Number of processes to use\n",
    "new_env_id = 'MiniGrid-DistShift2-v0'\n",
    "vec_env = make_vec_env(new_env_id, n_envs=num_cpu, wrapper_class=FlatObsWrapper)"
   ]
  },
  {
   "cell_type": "markdown",
   "metadata": {},
   "source": [
    "Load the last saved trained model with the new environment:"
   ]
  },
  {
   "cell_type": "code",
   "execution_count": 51,
   "metadata": {},
   "outputs": [],
   "source": [
    "# previous saved environment\n",
    "prev_env_id = env_id + '_2'\n",
    "\n",
    "# load the model on previous vectorized env and tensorboard log directory\n",
    "model = PPO.load(path=prev_env_id, env=vec_env, tensorboard_log=tensorboard_log)\n",
    "#model.set_env(vec_env)"
   ]
  },
  {
   "cell_type": "markdown",
   "metadata": {},
   "source": [
    "Continue the training, but over the new environment:"
   ]
  },
  {
   "cell_type": "code",
   "execution_count": 52,
   "metadata": {
    "collapsed": true,
    "jupyter": {
     "outputs_hidden": true
    },
    "tags": []
   },
   "outputs": [
    {
     "name": "stdout",
     "output_type": "stream",
     "text": [
      "Logging to ./tmp/log/MiniGrid-DistShift1-v0_1\n",
      "----------------------------------------\n",
      "| rollout/                |            |\n",
      "|    ep_len_mean          | 22.1       |\n",
      "|    ep_rew_mean          | 0.921      |\n",
      "| time/                   |            |\n",
      "|    fps                  | 778        |\n",
      "|    iterations           | 10         |\n",
      "|    time_elapsed         | 52         |\n",
      "|    total_timesteps      | 745472     |\n",
      "| train/                  |            |\n",
      "|    approx_kl            | 0.02460795 |\n",
      "|    clip_fraction        | 0.151      |\n",
      "|    clip_range           | 0.2        |\n",
      "|    entropy_loss         | -0.266     |\n",
      "|    explained_variance   | 0.247      |\n",
      "|    learning_rate        | 5e-05      |\n",
      "|    loss                 | -0.0128    |\n",
      "|    n_updates            | 724        |\n",
      "|    policy_gradient_loss | -0.0139    |\n",
      "|    value_loss           | 0.0094     |\n",
      "----------------------------------------\n",
      "-----------------------------------------\n",
      "| rollout/                |             |\n",
      "|    ep_len_mean          | 20.9        |\n",
      "|    ep_rew_mean          | 0.925       |\n",
      "| time/                   |             |\n",
      "|    fps                  | 741         |\n",
      "|    iterations           | 20          |\n",
      "|    time_elapsed         | 110         |\n",
      "|    total_timesteps      | 786432      |\n",
      "| train/                  |             |\n",
      "|    approx_kl            | 0.036239885 |\n",
      "|    clip_fraction        | 0.145       |\n",
      "|    clip_range           | 0.2         |\n",
      "|    entropy_loss         | -0.185      |\n",
      "|    explained_variance   | 0.694       |\n",
      "|    learning_rate        | 5e-05       |\n",
      "|    loss                 | -0.0206     |\n",
      "|    n_updates            | 764         |\n",
      "|    policy_gradient_loss | -0.00837    |\n",
      "|    value_loss           | 0.000869    |\n",
      "-----------------------------------------\n",
      "----------------------------------------\n",
      "| rollout/                |            |\n",
      "|    ep_len_mean          | 17.2       |\n",
      "|    ep_rew_mean          | 0.929      |\n",
      "| time/                   |            |\n",
      "|    fps                  | 739        |\n",
      "|    iterations           | 30         |\n",
      "|    time_elapsed         | 166        |\n",
      "|    total_timesteps      | 827392     |\n",
      "| train/                  |            |\n",
      "|    approx_kl            | 0.06601128 |\n",
      "|    clip_fraction        | 0.131      |\n",
      "|    clip_range           | 0.2        |\n",
      "|    entropy_loss         | -0.186     |\n",
      "|    explained_variance   | 0.695      |\n",
      "|    learning_rate        | 5e-05      |\n",
      "|    loss                 | -0.0513    |\n",
      "|    n_updates            | 804        |\n",
      "|    policy_gradient_loss | -0.0147    |\n",
      "|    value_loss           | 0.00101    |\n",
      "----------------------------------------\n",
      "Eval num_timesteps=840704, episode_reward=0.00 +/- 0.00\n",
      "Episode length: 252.00 +/- 0.00\n",
      "---------------------------------------\n",
      "| eval/                   |           |\n",
      "|    mean_ep_length       | 252       |\n",
      "|    mean_reward          | 0         |\n",
      "| time/                   |           |\n",
      "|    total_timesteps      | 840704    |\n",
      "| train/                  |           |\n",
      "|    approx_kl            | 0.0973543 |\n",
      "|    clip_fraction        | 0.123     |\n",
      "|    clip_range           | 0.2       |\n",
      "|    entropy_loss         | -0.0752   |\n",
      "|    explained_variance   | 0.77      |\n",
      "|    learning_rate        | 5e-05     |\n",
      "|    loss                 | -0.0299   |\n",
      "|    n_updates            | 820       |\n",
      "|    policy_gradient_loss | -0.0148   |\n",
      "|    value_loss           | 0.000534  |\n",
      "---------------------------------------\n",
      "-----------------------------------------\n",
      "| rollout/                |             |\n",
      "|    ep_len_mean          | 17.9        |\n",
      "|    ep_rew_mean          | 0.936       |\n",
      "| time/                   |             |\n",
      "|    fps                  | 726         |\n",
      "|    iterations           | 40          |\n",
      "|    time_elapsed         | 225         |\n",
      "|    total_timesteps      | 868352      |\n",
      "| train/                  |             |\n",
      "|    approx_kl            | 0.015164485 |\n",
      "|    clip_fraction        | 0.162       |\n",
      "|    clip_range           | 0.2         |\n",
      "|    entropy_loss         | -0.166      |\n",
      "|    explained_variance   | 0.631       |\n",
      "|    learning_rate        | 5e-05       |\n",
      "|    loss                 | 0.118       |\n",
      "|    n_updates            | 844         |\n",
      "|    policy_gradient_loss | -0.019      |\n",
      "|    value_loss           | 0.00104     |\n",
      "-----------------------------------------\n",
      "----------------------------------------\n",
      "| rollout/                |            |\n",
      "|    ep_len_mean          | 16.5       |\n",
      "|    ep_rew_mean          | 0.941      |\n",
      "| time/                   |            |\n",
      "|    fps                  | 721        |\n",
      "|    iterations           | 50         |\n",
      "|    time_elapsed         | 283        |\n",
      "|    total_timesteps      | 909312     |\n",
      "| train/                  |            |\n",
      "|    approx_kl            | 0.20756167 |\n",
      "|    clip_fraction        | 0.105      |\n",
      "|    clip_range           | 0.2        |\n",
      "|    entropy_loss         | -0.0709    |\n",
      "|    explained_variance   | 0.835      |\n",
      "|    learning_rate        | 5e-05      |\n",
      "|    loss                 | -0.0551    |\n",
      "|    n_updates            | 884        |\n",
      "|    policy_gradient_loss | -0.0279    |\n",
      "|    value_loss           | 0.000369   |\n",
      "----------------------------------------\n",
      "----------------------------------------\n",
      "| rollout/                |            |\n",
      "|    ep_len_mean          | 16.3       |\n",
      "|    ep_rew_mean          | 0.942      |\n",
      "| time/                   |            |\n",
      "|    fps                  | 718        |\n",
      "|    iterations           | 60         |\n",
      "|    time_elapsed         | 342        |\n",
      "|    total_timesteps      | 950272     |\n",
      "| train/                  |            |\n",
      "|    approx_kl            | 0.03588289 |\n",
      "|    clip_fraction        | 0.18       |\n",
      "|    clip_range           | 0.2        |\n",
      "|    entropy_loss         | -0.117     |\n",
      "|    explained_variance   | 0.763      |\n",
      "|    learning_rate        | 5e-05      |\n",
      "|    loss                 | -0.0491    |\n",
      "|    n_updates            | 924        |\n",
      "|    policy_gradient_loss | -0.0317    |\n",
      "|    value_loss           | 0.000524   |\n",
      "----------------------------------------\n",
      "-----------------------------------------\n",
      "| rollout/                |             |\n",
      "|    ep_len_mean          | 17.8        |\n",
      "|    ep_rew_mean          | 0.551       |\n",
      "| time/                   |             |\n",
      "|    fps                  | 719         |\n",
      "|    iterations           | 70          |\n",
      "|    time_elapsed         | 398         |\n",
      "|    total_timesteps      | 991232      |\n",
      "| train/                  |             |\n",
      "|    approx_kl            | 0.053795204 |\n",
      "|    clip_fraction        | 0.449       |\n",
      "|    clip_range           | 0.2         |\n",
      "|    entropy_loss         | -0.278      |\n",
      "|    explained_variance   | 0.925       |\n",
      "|    learning_rate        | 5e-05       |\n",
      "|    loss                 | -0.093      |\n",
      "|    n_updates            | 964         |\n",
      "|    policy_gradient_loss | -0.0018     |\n",
      "|    value_loss           | 9.75e-05    |\n",
      "-----------------------------------------\n",
      "Eval num_timesteps=1000704, episode_reward=0.00 +/- 0.00\n",
      "Episode length: 252.00 +/- 0.00\n",
      "-----------------------------------------\n",
      "| eval/                   |             |\n",
      "|    mean_ep_length       | 252         |\n",
      "|    mean_reward          | 0           |\n",
      "| time/                   |             |\n",
      "|    total_timesteps      | 1000704     |\n",
      "| train/                  |             |\n",
      "|    approx_kl            | 0.041288756 |\n",
      "|    clip_fraction        | 0.166       |\n",
      "|    clip_range           | 0.2         |\n",
      "|    entropy_loss         | -0.308      |\n",
      "|    explained_variance   | 0.0772      |\n",
      "|    learning_rate        | 5e-05       |\n",
      "|    loss                 | 0.113       |\n",
      "|    n_updates            | 976         |\n",
      "|    policy_gradient_loss | 0.00371     |\n",
      "|    value_loss           | 0.00244     |\n",
      "-----------------------------------------\n",
      "----------------------------------------\n",
      "| rollout/                |            |\n",
      "|    ep_len_mean          | 16.4       |\n",
      "|    ep_rew_mean          | 0.835      |\n",
      "| time/                   |            |\n",
      "|    fps                  | 720        |\n",
      "|    iterations           | 80         |\n",
      "|    time_elapsed         | 455        |\n",
      "|    total_timesteps      | 1032192    |\n",
      "| train/                  |            |\n",
      "|    approx_kl            | 0.15975015 |\n",
      "|    clip_fraction        | 0.13       |\n",
      "|    clip_range           | 0.2        |\n",
      "|    entropy_loss         | -0.141     |\n",
      "|    explained_variance   | 0.573      |\n",
      "|    learning_rate        | 5e-05      |\n",
      "|    loss                 | -0.0512    |\n",
      "|    n_updates            | 1004       |\n",
      "|    policy_gradient_loss | 0.0331     |\n",
      "|    value_loss           | 0.00109    |\n",
      "----------------------------------------\n",
      "-----------------------------------------\n",
      "| rollout/                |             |\n",
      "|    ep_len_mean          | 21.8        |\n",
      "|    ep_rew_mean          | 0.922       |\n",
      "| time/                   |             |\n",
      "|    fps                  | 721         |\n",
      "|    iterations           | 90          |\n",
      "|    time_elapsed         | 511         |\n",
      "|    total_timesteps      | 1073152     |\n",
      "| train/                  |             |\n",
      "|    approx_kl            | 0.029392403 |\n",
      "|    clip_fraction        | 0.2         |\n",
      "|    clip_range           | 0.2         |\n",
      "|    entropy_loss         | -0.261      |\n",
      "|    explained_variance   | 0.51        |\n",
      "|    learning_rate        | 5e-05       |\n",
      "|    loss                 | -0.0596     |\n",
      "|    n_updates            | 1044        |\n",
      "|    policy_gradient_loss | -0.013      |\n",
      "|    value_loss           | 0.00067     |\n",
      "-----------------------------------------\n",
      "-----------------------------------------\n",
      "| rollout/                |             |\n",
      "|    ep_len_mean          | 21.7        |\n",
      "|    ep_rew_mean          | 0.923       |\n",
      "| time/                   |             |\n",
      "|    fps                  | 721         |\n",
      "|    iterations           | 100         |\n",
      "|    time_elapsed         | 567         |\n",
      "|    total_timesteps      | 1114112     |\n",
      "| train/                  |             |\n",
      "|    approx_kl            | 0.052733228 |\n",
      "|    clip_fraction        | 0.114       |\n",
      "|    clip_range           | 0.2         |\n",
      "|    entropy_loss         | -0.245      |\n",
      "|    explained_variance   | 0.533       |\n",
      "|    learning_rate        | 5e-05       |\n",
      "|    loss                 | -0.0205     |\n",
      "|    n_updates            | 1084        |\n",
      "|    policy_gradient_loss | 0.0226      |\n",
      "|    value_loss           | 0.00105     |\n",
      "-----------------------------------------\n",
      "---------------------------------------\n",
      "| rollout/                |           |\n",
      "|    ep_len_mean          | 17.5      |\n",
      "|    ep_rew_mean          | 0.928     |\n",
      "| time/                   |           |\n",
      "|    fps                  | 722       |\n",
      "|    iterations           | 110       |\n",
      "|    time_elapsed         | 623       |\n",
      "|    total_timesteps      | 1155072   |\n",
      "| train/                  |           |\n",
      "|    approx_kl            | 0.0608961 |\n",
      "|    clip_fraction        | 0.214     |\n",
      "|    clip_range           | 0.2       |\n",
      "|    entropy_loss         | -0.123    |\n",
      "|    explained_variance   | 0.795     |\n",
      "|    learning_rate        | 5e-05     |\n",
      "|    loss                 | -0.0599   |\n",
      "|    n_updates            | 1124      |\n",
      "|    policy_gradient_loss | -0.0356   |\n",
      "|    value_loss           | 0.000354  |\n",
      "---------------------------------------\n",
      "Eval num_timesteps=1160704, episode_reward=0.95 +/- 0.00\n",
      "Episode length: 15.00 +/- 0.00\n",
      "-----------------------------------------\n",
      "| eval/                   |             |\n",
      "|    mean_ep_length       | 15          |\n",
      "|    mean_reward          | 0.946       |\n",
      "| time/                   |             |\n",
      "|    total_timesteps      | 1160704     |\n",
      "| train/                  |             |\n",
      "|    approx_kl            | 0.107429236 |\n",
      "|    clip_fraction        | 0.197       |\n",
      "|    clip_range           | 0.2         |\n",
      "|    entropy_loss         | -0.143      |\n",
      "|    explained_variance   | 0.483       |\n",
      "|    learning_rate        | 5e-05       |\n",
      "|    loss                 | -0.0636     |\n",
      "|    n_updates            | 1132        |\n",
      "|    policy_gradient_loss | -0.017      |\n",
      "|    value_loss           | 0.00174     |\n",
      "-----------------------------------------\n",
      "----------------------------------------\n",
      "| rollout/                |            |\n",
      "|    ep_len_mean          | 17.1       |\n",
      "|    ep_rew_mean          | 0.939      |\n",
      "| time/                   |            |\n",
      "|    fps                  | 723        |\n",
      "|    iterations           | 120        |\n",
      "|    time_elapsed         | 679        |\n",
      "|    total_timesteps      | 1196032    |\n",
      "| train/                  |            |\n",
      "|    approx_kl            | 0.11082204 |\n",
      "|    clip_fraction        | 0.243      |\n",
      "|    clip_range           | 0.2        |\n",
      "|    entropy_loss         | -0.119     |\n",
      "|    explained_variance   | 0.745      |\n",
      "|    learning_rate        | 5e-05      |\n",
      "|    loss                 | -0.0895    |\n",
      "|    n_updates            | 1164       |\n",
      "|    policy_gradient_loss | 0.0452     |\n",
      "|    value_loss           | 0.000498   |\n",
      "----------------------------------------\n"
     ]
    },
    {
     "data": {
      "text/plain": [
       "<stable_baselines3.ppo.ppo.PPO at 0x13d385190>"
      ]
     },
     "execution_count": 52,
     "metadata": {},
     "output_type": "execute_result"
    }
   ],
   "source": [
    "# number of timesteps to add\n",
    "total_timesteps = 500000\n",
    "log_interval = 10\n",
    "\n",
    "# resume training using same tensorboard run without resetting the timesteps\n",
    "model.learn(total_timesteps=total_timesteps,\n",
    "            log_interval=log_interval,\n",
    "            tb_log_name=tb_log_name,\n",
    "            reset_num_timesteps=False, \n",
    "            callback=callback)"
   ]
  },
  {
   "cell_type": "markdown",
   "metadata": {},
   "source": [
    "Let's save the model at this point:"
   ]
  },
  {
   "cell_type": "code",
   "execution_count": 53,
   "metadata": {},
   "outputs": [],
   "source": [
    "# Save the agent\n",
    "new_env_id2 = 'MiniGrid-DistShift2_with_1-v0'\n",
    "model.save(new_env_id2) "
   ]
  },
  {
   "cell_type": "markdown",
   "metadata": {},
   "source": [
    "We add some more few steps of training:"
   ]
  },
  {
   "cell_type": "code",
   "execution_count": 54,
   "metadata": {
    "collapsed": true,
    "jupyter": {
     "outputs_hidden": true
    },
    "tags": []
   },
   "outputs": [
    {
     "name": "stdout",
     "output_type": "stream",
     "text": [
      "Logging to ./tmp/log/MiniGrid-DistShift1-v0_1\n",
      "-----------------------------------------\n",
      "| rollout/                |             |\n",
      "|    ep_len_mean          | 17.9        |\n",
      "|    ep_rew_mean          | 0.936       |\n",
      "| time/                   |             |\n",
      "|    fps                  | 763         |\n",
      "|    iterations           | 10          |\n",
      "|    time_elapsed         | 53          |\n",
      "|    total_timesteps      | 1249280     |\n",
      "| train/                  |             |\n",
      "|    approx_kl            | 0.038906373 |\n",
      "|    clip_fraction        | 0.121       |\n",
      "|    clip_range           | 0.2         |\n",
      "|    entropy_loss         | -0.118      |\n",
      "|    explained_variance   | 0.852       |\n",
      "|    learning_rate        | 5e-05       |\n",
      "|    loss                 | -0.0115     |\n",
      "|    n_updates            | 1216        |\n",
      "|    policy_gradient_loss | 0.00679     |\n",
      "|    value_loss           | 0.000273    |\n",
      "-----------------------------------------\n",
      "-----------------------------------------\n",
      "| rollout/                |             |\n",
      "|    ep_len_mean          | 17.7        |\n",
      "|    ep_rew_mean          | 0.86        |\n",
      "| time/                   |             |\n",
      "|    fps                  | 758         |\n",
      "|    iterations           | 20          |\n",
      "|    time_elapsed         | 107         |\n",
      "|    total_timesteps      | 1290240     |\n",
      "| train/                  |             |\n",
      "|    approx_kl            | 0.093624026 |\n",
      "|    clip_fraction        | 0.111       |\n",
      "|    clip_range           | 0.2         |\n",
      "|    entropy_loss         | -0.0754     |\n",
      "|    explained_variance   | 0.72        |\n",
      "|    learning_rate        | 5e-05       |\n",
      "|    loss                 | -0.027      |\n",
      "|    n_updates            | 1256        |\n",
      "|    policy_gradient_loss | 0.21        |\n",
      "|    value_loss           | 0.000689    |\n",
      "-----------------------------------------\n",
      "Eval num_timesteps=1320704, episode_reward=0.00 +/- 0.00\n",
      "Episode length: 252.00 +/- 0.00\n",
      "---------------------------------------\n",
      "| eval/                   |           |\n",
      "|    mean_ep_length       | 252       |\n",
      "|    mean_reward          | 0         |\n",
      "| time/                   |           |\n",
      "|    total_timesteps      | 1320704   |\n",
      "| train/                  |           |\n",
      "|    approx_kl            | 0.0643653 |\n",
      "|    clip_fraction        | 0.313     |\n",
      "|    clip_range           | 0.2       |\n",
      "|    entropy_loss         | -0.551    |\n",
      "|    explained_variance   | 0.721     |\n",
      "|    learning_rate        | 5e-05     |\n",
      "|    loss                 | -0.0832   |\n",
      "|    n_updates            | 1288      |\n",
      "|    policy_gradient_loss | -0.0288   |\n",
      "|    value_loss           | 0.00248   |\n",
      "---------------------------------------\n",
      "----------------------------------------\n",
      "| rollout/                |            |\n",
      "|    ep_len_mean          | 17.9       |\n",
      "|    ep_rew_mean          | 0.936      |\n",
      "| time/                   |            |\n",
      "|    fps                  | 749        |\n",
      "|    iterations           | 30         |\n",
      "|    time_elapsed         | 163        |\n",
      "|    total_timesteps      | 1331200    |\n",
      "| train/                  |            |\n",
      "|    approx_kl            | 0.03401573 |\n",
      "|    clip_fraction        | 0.224      |\n",
      "|    clip_range           | 0.2        |\n",
      "|    entropy_loss         | -0.487     |\n",
      "|    explained_variance   | 0.463      |\n",
      "|    learning_rate        | 5e-05      |\n",
      "|    loss                 | -0.0315    |\n",
      "|    n_updates            | 1296       |\n",
      "|    policy_gradient_loss | -0.0195    |\n",
      "|    value_loss           | 0.00454    |\n",
      "----------------------------------------\n",
      "-----------------------------------------\n",
      "| rollout/                |             |\n",
      "|    ep_len_mean          | 16.7        |\n",
      "|    ep_rew_mean          | 0.94        |\n",
      "| time/                   |             |\n",
      "|    fps                  | 751         |\n",
      "|    iterations           | 40          |\n",
      "|    time_elapsed         | 217         |\n",
      "|    total_timesteps      | 1372160     |\n",
      "| train/                  |             |\n",
      "|    approx_kl            | 0.113292985 |\n",
      "|    clip_fraction        | 0.422       |\n",
      "|    clip_range           | 0.2         |\n",
      "|    entropy_loss         | -0.508      |\n",
      "|    explained_variance   | 0.16        |\n",
      "|    learning_rate        | 5e-05       |\n",
      "|    loss                 | -0.0568     |\n",
      "|    n_updates            | 1336        |\n",
      "|    policy_gradient_loss | -0.0368     |\n",
      "|    value_loss           | 0.00504     |\n",
      "-----------------------------------------\n",
      "-----------------------------------------\n",
      "| rollout/                |             |\n",
      "|    ep_len_mean          | 19.5        |\n",
      "|    ep_rew_mean          | 0.93        |\n",
      "| time/                   |             |\n",
      "|    fps                  | 748         |\n",
      "|    iterations           | 50          |\n",
      "|    time_elapsed         | 273         |\n",
      "|    total_timesteps      | 1413120     |\n",
      "| train/                  |             |\n",
      "|    approx_kl            | 0.030502835 |\n",
      "|    clip_fraction        | 0.142       |\n",
      "|    clip_range           | 0.2         |\n",
      "|    entropy_loss         | -0.142      |\n",
      "|    explained_variance   | 0.376       |\n",
      "|    learning_rate        | 5e-05       |\n",
      "|    loss                 | -0.0334     |\n",
      "|    n_updates            | 1376        |\n",
      "|    policy_gradient_loss | -0.00562    |\n",
      "|    value_loss           | 0.00359     |\n",
      "-----------------------------------------\n",
      "---------------------------------------\n",
      "| rollout/                |           |\n",
      "|    ep_len_mean          | 16.8      |\n",
      "|    ep_rew_mean          | 0.94      |\n",
      "| time/                   |           |\n",
      "|    fps                  | 746       |\n",
      "|    iterations           | 60        |\n",
      "|    time_elapsed         | 329       |\n",
      "|    total_timesteps      | 1454080   |\n",
      "| train/                  |           |\n",
      "|    approx_kl            | 0.1531792 |\n",
      "|    clip_fraction        | 0.125     |\n",
      "|    clip_range           | 0.2       |\n",
      "|    entropy_loss         | -0.0826   |\n",
      "|    explained_variance   | 0.903     |\n",
      "|    learning_rate        | 5e-05     |\n",
      "|    loss                 | -0.0687   |\n",
      "|    n_updates            | 1416      |\n",
      "|    policy_gradient_loss | -0.0121   |\n",
      "|    value_loss           | 0.000175  |\n",
      "---------------------------------------\n",
      "Eval num_timesteps=1480704, episode_reward=0.95 +/- 0.00\n",
      "Episode length: 15.00 +/- 0.00\n",
      "----------------------------------------\n",
      "| eval/                   |            |\n",
      "|    mean_ep_length       | 15         |\n",
      "|    mean_reward          | 0.946      |\n",
      "| time/                   |            |\n",
      "|    total_timesteps      | 1480704    |\n",
      "| train/                  |            |\n",
      "|    approx_kl            | 0.15092972 |\n",
      "|    clip_fraction        | 0.152      |\n",
      "|    clip_range           | 0.2        |\n",
      "|    entropy_loss         | -0.17      |\n",
      "|    explained_variance   | 0.537      |\n",
      "|    learning_rate        | 5e-05      |\n",
      "|    loss                 | -0.0312    |\n",
      "|    n_updates            | 1444       |\n",
      "|    policy_gradient_loss | -0.0233    |\n",
      "|    value_loss           | 0.0021     |\n",
      "----------------------------------------\n",
      "-----------------------------------------\n",
      "| rollout/                |             |\n",
      "|    ep_len_mean          | 20.2        |\n",
      "|    ep_rew_mean          | 0.928       |\n",
      "| time/                   |             |\n",
      "|    fps                  | 745         |\n",
      "|    iterations           | 70          |\n",
      "|    time_elapsed         | 384         |\n",
      "|    total_timesteps      | 1495040     |\n",
      "| train/                  |             |\n",
      "|    approx_kl            | 0.025501322 |\n",
      "|    clip_fraction        | 0.237       |\n",
      "|    clip_range           | 0.2         |\n",
      "|    entropy_loss         | -0.292      |\n",
      "|    explained_variance   | 0.451       |\n",
      "|    learning_rate        | 5e-05       |\n",
      "|    loss                 | -0.0413     |\n",
      "|    n_updates            | 1456        |\n",
      "|    policy_gradient_loss | -0.0209     |\n",
      "|    value_loss           | 0.00305     |\n",
      "-----------------------------------------\n",
      "-----------------------------------------\n",
      "| rollout/                |             |\n",
      "|    ep_len_mean          | 16          |\n",
      "|    ep_rew_mean          | 0.943       |\n",
      "| time/                   |             |\n",
      "|    fps                  | 739         |\n",
      "|    iterations           | 80          |\n",
      "|    time_elapsed         | 443         |\n",
      "|    total_timesteps      | 1536000     |\n",
      "| train/                  |             |\n",
      "|    approx_kl            | 0.032654487 |\n",
      "|    clip_fraction        | 0.0668      |\n",
      "|    clip_range           | 0.2         |\n",
      "|    entropy_loss         | -0.0482     |\n",
      "|    explained_variance   | 0.965       |\n",
      "|    learning_rate        | 5e-05       |\n",
      "|    loss                 | -0.0437     |\n",
      "|    n_updates            | 1496        |\n",
      "|    policy_gradient_loss | -0.0117     |\n",
      "|    value_loss           | 5.97e-05    |\n",
      "-----------------------------------------\n",
      "----------------------------------------\n",
      "| rollout/                |            |\n",
      "|    ep_len_mean          | 15.1       |\n",
      "|    ep_rew_mean          | 0.946      |\n",
      "| time/                   |            |\n",
      "|    fps                  | 735        |\n",
      "|    iterations           | 90         |\n",
      "|    time_elapsed         | 501        |\n",
      "|    total_timesteps      | 1576960    |\n",
      "| train/                  |            |\n",
      "|    approx_kl            | 0.11051354 |\n",
      "|    clip_fraction        | 0.31       |\n",
      "|    clip_range           | 0.2        |\n",
      "|    entropy_loss         | -0.196     |\n",
      "|    explained_variance   | 0.356      |\n",
      "|    learning_rate        | 5e-05      |\n",
      "|    loss                 | -0.0505    |\n",
      "|    n_updates            | 1536       |\n",
      "|    policy_gradient_loss | -0.0508    |\n",
      "|    value_loss           | 0.00272    |\n",
      "----------------------------------------\n",
      "-----------------------------------------\n",
      "| rollout/                |             |\n",
      "|    ep_len_mean          | 12.8        |\n",
      "|    ep_rew_mean          | 0.756       |\n",
      "| time/                   |             |\n",
      "|    fps                  | 737         |\n",
      "|    iterations           | 100         |\n",
      "|    time_elapsed         | 555         |\n",
      "|    total_timesteps      | 1617920     |\n",
      "| train/                  |             |\n",
      "|    approx_kl            | 0.083540715 |\n",
      "|    clip_fraction        | 0.111       |\n",
      "|    clip_range           | 0.2         |\n",
      "|    entropy_loss         | -0.107      |\n",
      "|    explained_variance   | 0.819       |\n",
      "|    learning_rate        | 5e-05       |\n",
      "|    loss                 | -0.00371    |\n",
      "|    n_updates            | 1576        |\n",
      "|    policy_gradient_loss | -0.0214     |\n",
      "|    value_loss           | 0.000439    |\n",
      "-----------------------------------------\n",
      "Eval num_timesteps=1640704, episode_reward=0.00 +/- 0.00\n",
      "Episode length: 252.00 +/- 0.00\n",
      "----------------------------------------\n",
      "| eval/                   |            |\n",
      "|    mean_ep_length       | 252        |\n",
      "|    mean_reward          | 0          |\n",
      "| time/                   |            |\n",
      "|    total_timesteps      | 1640704    |\n",
      "| train/                  |            |\n",
      "|    approx_kl            | 0.04916992 |\n",
      "|    clip_fraction        | 0.146      |\n",
      "|    clip_range           | 0.2        |\n",
      "|    entropy_loss         | -0.192     |\n",
      "|    explained_variance   | 0.463      |\n",
      "|    learning_rate        | 5e-05      |\n",
      "|    loss                 | -0.0183    |\n",
      "|    n_updates            | 1600       |\n",
      "|    policy_gradient_loss | 0.00414    |\n",
      "|    value_loss           | 0.00289    |\n",
      "----------------------------------------\n",
      "---------------------------------------\n",
      "| rollout/                |           |\n",
      "|    ep_len_mean          | 18.4      |\n",
      "|    ep_rew_mean          | 0.934     |\n",
      "| time/                   |           |\n",
      "|    fps                  | 738       |\n",
      "|    iterations           | 110       |\n",
      "|    time_elapsed         | 610       |\n",
      "|    total_timesteps      | 1658880   |\n",
      "| train/                  |           |\n",
      "|    approx_kl            | 0.0943118 |\n",
      "|    clip_fraction        | 0.224     |\n",
      "|    clip_range           | 0.2       |\n",
      "|    entropy_loss         | -0.187    |\n",
      "|    explained_variance   | 0.814     |\n",
      "|    learning_rate        | 5e-05     |\n",
      "|    loss                 | -0.063    |\n",
      "|    n_updates            | 1616      |\n",
      "|    policy_gradient_loss | -0.011    |\n",
      "|    value_loss           | 0.000408  |\n",
      "---------------------------------------\n",
      "----------------------------------------\n",
      "| rollout/                |            |\n",
      "|    ep_len_mean          | 16         |\n",
      "|    ep_rew_mean          | 0.943      |\n",
      "| time/                   |            |\n",
      "|    fps                  | 738        |\n",
      "|    iterations           | 120        |\n",
      "|    time_elapsed         | 665        |\n",
      "|    total_timesteps      | 1699840    |\n",
      "| train/                  |            |\n",
      "|    approx_kl            | 0.14961237 |\n",
      "|    clip_fraction        | 0.24       |\n",
      "|    clip_range           | 0.2        |\n",
      "|    entropy_loss         | -0.172     |\n",
      "|    explained_variance   | 0.693      |\n",
      "|    learning_rate        | 5e-05      |\n",
      "|    loss                 | -0.0659    |\n",
      "|    n_updates            | 1656       |\n",
      "|    policy_gradient_loss | -0.00683   |\n",
      "|    value_loss           | 0.000788   |\n",
      "----------------------------------------\n"
     ]
    },
    {
     "data": {
      "text/plain": [
       "<stable_baselines3.ppo.ppo.PPO at 0x13d385190>"
      ]
     },
     "execution_count": 54,
     "metadata": {},
     "output_type": "execute_result"
    }
   ],
   "source": [
    "# uncomment to load the last saved model in case the notebook kernel is restarted\n",
    "#model = PPO.load(path=new_env_id2, env=vec_env, tensorboard_log=tensorboard_log)\n",
    "\n",
    "# number of timesteps to add\n",
    "total_timesteps = 500000\n",
    "log_interval = 10\n",
    "\n",
    "# resume training using same tensorboard run without resetting the timesteps\n",
    "model.learn(total_timesteps=total_timesteps,\n",
    "            log_interval=log_interval,\n",
    "            tb_log_name=tb_log_name,\n",
    "            reset_num_timesteps=False, \n",
    "            callback=callback)"
   ]
  },
  {
   "cell_type": "code",
   "execution_count": 55,
   "metadata": {},
   "outputs": [],
   "source": [
    "# Save the agent\n",
    "new_env_id3 = 'MiniGrid-DistShift2_with_1-v0_2'\n",
    "model.save(new_env_id3) "
   ]
  },
  {
   "cell_type": "markdown",
   "metadata": {},
   "source": [
    "Let's try now the performance on the new environment 'MiniGrid-DistShift2-v0':"
   ]
  },
  {
   "cell_type": "code",
   "execution_count": 72,
   "metadata": {},
   "outputs": [
    {
     "name": "stdout",
     "output_type": "stream",
     "text": [
      "Mean reward: 0.9464285969734192 +/- 0.00\n"
     ]
    }
   ],
   "source": [
    "# uncomment to load the last saved model in case the notebook kernel is restarted, etc.\n",
    "model = PPO.load(path=new_env_id3)\n",
    "\n",
    "# We create a separate environment for evaluation\n",
    "eval_env = FlatObsWrapper(gym.make('MiniGrid-DistShift2-v0'))\n",
    "\n",
    "# Random Agent, before training\n",
    "mean_reward, std_reward = evaluate_policy(model, eval_env, n_eval_episodes=50)\n",
    "print(f'Mean reward: {mean_reward} +/- {std_reward:.2f}')"
   ]
  },
  {
   "cell_type": "markdown",
   "metadata": {},
   "source": [
    "And now, let's try also with the first environment 'MiniGrid-DistShift1-v0' to see what happens:"
   ]
  },
  {
   "cell_type": "code",
   "execution_count": 88,
   "metadata": {},
   "outputs": [
    {
     "name": "stdout",
     "output_type": "stream",
     "text": [
      "Mean reward: 0.9464285969734192 +/- 0.00\n"
     ]
    }
   ],
   "source": [
    "# uncomment to load the last saved model in case the notebook kernel is restarted, etc.\n",
    "# model = PPO.load(path=new_env_id3)\n",
    "\n",
    "# We create a separate environment for evaluation\n",
    "eval_env = FlatObsWrapper(gym.make('MiniGrid-DistShift1-v0'))\n",
    "\n",
    "# Random Agent, before training\n",
    "mean_reward, std_reward = evaluate_policy(model, eval_env, n_eval_episodes=50)\n",
    "print(f'Mean reward: {mean_reward} +/- {std_reward:.2f}')"
   ]
  },
  {
   "cell_type": "markdown",
   "metadata": {},
   "source": [
    "Let's run the predict over the two environments and see how it goes now. We first try with the latest environment training 'MiniGrid-DistShift2-v0', it does solve it thought through a longer path:"
   ]
  },
  {
   "cell_type": "code",
   "execution_count": 89,
   "metadata": {},
   "outputs": [
    {
     "name": "stdout",
     "output_type": "stream",
     "text": [
      "Total reward: 0.9464285714285714\n",
      "Total length: 15\n"
     ]
    },
    {
     "data": {
      "text/html": [
       "<video alt=\"test\" autoplay \n",
       "                loop controls style=\"height: 400px;\">\n",
       "                <source src=\"data:video/mp4;base64,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\" type=\"video/mp4\" />\n",
       "             </video>"
      ],
      "text/plain": [
       "<IPython.core.display.HTML object>"
      ]
     },
     "metadata": {},
     "output_type": "display_data"
    }
   ],
   "source": [
    "model = PPO.load(path='MiniGrid-DistShift2_with_1-v0_2')\n",
    "\n",
    "env_id = 'MiniGrid-DistShift2-v0'\n",
    "\n",
    "test_env = gen_wrapped_env(env_id)\n",
    "observation = test_env.reset()\n",
    "\n",
    "done = False\n",
    "episode_reward = 0\n",
    "episode_length = 0\n",
    "\n",
    "while not done:\n",
    "  #test_env.render()\n",
    "  action, states = model.predict(observation, deterministic=True)\n",
    "  observation, reward, done, info = test_env.step(action)\n",
    "  episode_reward += reward\n",
    "  episode_length += 1\n",
    "\n",
    "print('Total reward:', episode_reward)\n",
    "print('Total length:', episode_length)\n",
    "\n",
    "test_env.close()\n",
    "show_video()"
   ]
  },
  {
   "cell_type": "markdown",
   "metadata": {},
   "source": [
    "And now with the first learned environment 'MiniGrid-DistShift1-v0', where it changed its behaviour making a slightly longer run also:"
   ]
  },
  {
   "cell_type": "code",
   "execution_count": 90,
   "metadata": {},
   "outputs": [
    {
     "name": "stdout",
     "output_type": "stream",
     "text": [
      "Total reward: 0.9464285714285714\n",
      "Total length: 15\n"
     ]
    },
    {
     "data": {
      "text/html": [
       "<video alt=\"test\" autoplay \n",
       "                loop controls style=\"height: 400px;\">\n",
       "                <source src=\"data:video/mp4;base64,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\" type=\"video/mp4\" />\n",
       "             </video>"
      ],
      "text/plain": [
       "<IPython.core.display.HTML object>"
      ]
     },
     "metadata": {},
     "output_type": "display_data"
    }
   ],
   "source": [
    "env_id = 'MiniGrid-DistShift1-v0'\n",
    "\n",
    "test_env = gen_wrapped_env(env_id)\n",
    "observation = test_env.reset()\n",
    "\n",
    "done = False\n",
    "episode_reward = 0\n",
    "episode_length = 0\n",
    "\n",
    "while not done:\n",
    "  #test_env.render()\n",
    "  action, states = model.predict(observation, deterministic=True)\n",
    "  observation, reward, done, info = test_env.step(action)\n",
    "  episode_reward += reward\n",
    "  episode_length += 1\n",
    "\n",
    "print('Total reward:', episode_reward)\n",
    "print('Total length:', episode_length)\n",
    "\n",
    "test_env.close()\n",
    "show_video()"
   ]
  },
  {
   "cell_type": "markdown",
   "metadata": {},
   "source": [
    "## Curriculum learning"
   ]
  },
  {
   "cell_type": "markdown",
   "metadata": {},
   "source": [
    "### Define the environments"
   ]
  },
  {
   "cell_type": "code",
   "execution_count": 41,
   "metadata": {},
   "outputs": [],
   "source": [
    "# By default, we use a DummyVecEnv as it is usually faster (cf doc)\n",
    "num_cpu = 16  # Number of processes to use\n",
    "env_id_1 = 'MiniGrid-DoorKey-5x5-v0'\n",
    "vec_env_1 = make_vec_env(env_id_1, n_envs=num_cpu, wrapper_class=FlatObsWrapper)\n",
    "\n",
    "env_id_2 = 'MiniGrid-DoorKey-6x6-v0'\n",
    "vec_env_2 = make_vec_env(env_id_2, n_envs=num_cpu, wrapper_class=FlatObsWrapper)\n",
    "\n",
    "env_id_3 = 'MiniGrid-DoorKey-8x8-v0'\n",
    "vec_env_3 = make_vec_env(env_id_3, n_envs=num_cpu, wrapper_class=FlatObsWrapper)\n",
    "\n",
    "env_id_4 = 'MiniGrid-DoorKey-16x16-v0'\n",
    "vec_env_4 = make_vec_env(env_id_4, n_envs=num_cpu, wrapper_class=FlatObsWrapper)"
   ]
  },
  {
   "cell_type": "code",
   "execution_count": 42,
   "metadata": {},
   "outputs": [],
   "source": [
    "learning_rate = 0.00005\n",
    "n_steps = 256\n",
    "batch_size = 16\n",
    "ent_coef = 0.001\n",
    "n_epochs = 4\n",
    "\n",
    "tensorboard_log = \"./tmp/log/\"\n",
    "os.makedirs(tensorboard_log, exist_ok=True)\n",
    "\n",
    "tb_log_name = 'Curriculum-Doorkey'"
   ]
  },
  {
   "cell_type": "code",
   "execution_count": 43,
   "metadata": {},
   "outputs": [
    {
     "name": "stdout",
     "output_type": "stream",
     "text": [
      "Using cpu device\n"
     ]
    }
   ],
   "source": [
    "# Reset the environment\n",
    "vec_env_1.reset()\n",
    "\n",
    "# create the model\n",
    "model = PPO('MlpPolicy',\n",
    "            env=vec_env_1,\n",
    "            learning_rate=learning_rate,\n",
    "            batch_size=batch_size,\n",
    "            ent_coef=ent_coef,\n",
    "            n_epochs=n_epochs,\n",
    "            n_steps=n_steps,\n",
    "            tensorboard_log=tensorboard_log,\n",
    "            verbose=1)"
   ]
  },
  {
   "cell_type": "code",
   "execution_count": 45,
   "metadata": {},
   "outputs": [],
   "source": [
    "log_dir = \"./tmp/gym/\"\n",
    "os.makedirs(log_dir, exist_ok=True)\n",
    "\n",
    "# Create eval environment\n",
    "env = gym.make(env_id_1)\n",
    "env = FlatObsWrapper(env)\n",
    "eval_env = stable_baselines3.common.monitor.Monitor(env, log_dir)\n",
    "# Reset the environment\n",
    "eval_env.reset();\n",
    "# Stop training when the model reaches the reward threshold\n",
    "callback_on_best = StopTrainingOnRewardThreshold(reward_threshold=0.90, verbose=1)\n",
    "eval_callback = EvalCallback(eval_env, log_path=log_dir, callback_on_new_best=callback_on_best, verbose=1)"
   ]
  },
  {
   "cell_type": "code",
   "execution_count": 46,
   "metadata": {
    "collapsed": true,
    "jupyter": {
     "outputs_hidden": true
    },
    "tags": []
   },
   "outputs": [
    {
     "name": "stdout",
     "output_type": "stream",
     "text": [
      "Logging to ./tmp/log/Curriculum-Doorkey_1\n",
      "------------------------------------------\n",
      "| rollout/                |              |\n",
      "|    ep_len_mean          | 222          |\n",
      "|    ep_rew_mean          | 0.131        |\n",
      "| time/                   |              |\n",
      "|    fps                  | 810          |\n",
      "|    iterations           | 10           |\n",
      "|    time_elapsed         | 50           |\n",
      "|    total_timesteps      | 40960        |\n",
      "| train/                  |              |\n",
      "|    approx_kl            | 0.0062883142 |\n",
      "|    clip_fraction        | 0.0204       |\n",
      "|    clip_range           | 0.2          |\n",
      "|    entropy_loss         | -1.8         |\n",
      "|    explained_variance   | 0.4          |\n",
      "|    learning_rate        | 5e-05        |\n",
      "|    loss                 | 0.00072      |\n",
      "|    n_updates            | 36           |\n",
      "|    policy_gradient_loss | -0.00405     |\n",
      "|    value_loss           | 0.00368      |\n",
      "------------------------------------------\n",
      "-----------------------------------------\n",
      "| rollout/                |             |\n",
      "|    ep_len_mean          | 68.8        |\n",
      "|    ep_rew_mean          | 0.746       |\n",
      "| time/                   |             |\n",
      "|    fps                  | 802         |\n",
      "|    iterations           | 20          |\n",
      "|    time_elapsed         | 102         |\n",
      "|    total_timesteps      | 81920       |\n",
      "| train/                  |             |\n",
      "|    approx_kl            | 0.007126941 |\n",
      "|    clip_fraction        | 0.0441      |\n",
      "|    clip_range           | 0.2         |\n",
      "|    entropy_loss         | -1.48       |\n",
      "|    explained_variance   | 0.567       |\n",
      "|    learning_rate        | 5e-05       |\n",
      "|    loss                 | 0.00251     |\n",
      "|    n_updates            | 76          |\n",
      "|    policy_gradient_loss | -0.0084     |\n",
      "|    value_loss           | 0.0175      |\n",
      "-----------------------------------------\n",
      "-----------------------------------------\n",
      "| rollout/                |             |\n",
      "|    ep_len_mean          | 18.6        |\n",
      "|    ep_rew_mean          | 0.932       |\n",
      "| time/                   |             |\n",
      "|    fps                  | 790         |\n",
      "|    iterations           | 30          |\n",
      "|    time_elapsed         | 155         |\n",
      "|    total_timesteps      | 122880      |\n",
      "| train/                  |             |\n",
      "|    approx_kl            | 0.026837528 |\n",
      "|    clip_fraction        | 0.123       |\n",
      "|    clip_range           | 0.2         |\n",
      "|    entropy_loss         | -0.699      |\n",
      "|    explained_variance   | 0.921       |\n",
      "|    learning_rate        | 5e-05       |\n",
      "|    loss                 | -0.0206     |\n",
      "|    n_updates            | 116         |\n",
      "|    policy_gradient_loss | -0.0127     |\n",
      "|    value_loss           | 0.0029      |\n",
      "-----------------------------------------\n",
      "Eval num_timesteps=160000, episode_reward=0.96 +/- 0.00\n",
      "Episode length: 11.60 +/- 1.36\n",
      "-----------------------------------------\n",
      "| eval/                   |             |\n",
      "|    mean_ep_length       | 11.6        |\n",
      "|    mean_reward          | 0.958       |\n",
      "| time/                   |             |\n",
      "|    total_timesteps      | 160000      |\n",
      "| train/                  |             |\n",
      "|    approx_kl            | 0.011322843 |\n",
      "|    clip_fraction        | 0.0421      |\n",
      "|    clip_range           | 0.2         |\n",
      "|    entropy_loss         | -0.145      |\n",
      "|    explained_variance   | 0.763       |\n",
      "|    learning_rate        | 5e-05       |\n",
      "|    loss                 | -0.00683    |\n",
      "|    n_updates            | 156         |\n",
      "|    policy_gradient_loss | -0.000971   |\n",
      "|    value_loss           | 0.000302    |\n",
      "-----------------------------------------\n",
      "New best mean reward!\n",
      "Stopping training because the mean reward 0.96  is above the threshold 0.9\n"
     ]
    },
    {
     "data": {
      "text/plain": [
       "<stable_baselines3.ppo.ppo.PPO at 0x13df3d550>"
      ]
     },
     "execution_count": 46,
     "metadata": {},
     "output_type": "execute_result"
    }
   ],
   "source": [
    "total_timesteps = 500000\n",
    "log_interval = 10\n",
    "\n",
    "model.learn(total_timesteps=total_timesteps,\n",
    "            log_interval=log_interval,\n",
    "            tb_log_name = tb_log_name,\n",
    "            callback=eval_callback)"
   ]
  },
  {
   "cell_type": "code",
   "execution_count": 50,
   "metadata": {},
   "outputs": [
    {
     "name": "stdout",
     "output_type": "stream",
     "text": [
      "Mean reward: 0.8846479868888855 +/- 0.26\n"
     ]
    }
   ],
   "source": [
    "# We create a separate environment for evaluation\n",
    "eval_env = FlatObsWrapper(gym.make(env_id_1))\n",
    "\n",
    "# Random Agent, before training\n",
    "mean_reward, std_reward = evaluate_policy(model, eval_env, n_eval_episodes=50)\n",
    "print(f'Mean reward: {mean_reward} +/- {std_reward:.2f}')"
   ]
  },
  {
   "cell_type": "code",
   "execution_count": 63,
   "metadata": {},
   "outputs": [
    {
     "name": "stdout",
     "output_type": "stream",
     "text": [
      "Total reward: 0.9604\n",
      "Total length: 11\n"
     ]
    },
    {
     "data": {
      "text/html": [
       "<video alt=\"test\" autoplay \n",
       "                loop controls style=\"height: 400px;\">\n",
       "                <source src=\"data:video/mp4;base64,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\" type=\"video/mp4\" />\n",
       "             </video>"
      ],
      "text/plain": [
       "<IPython.core.display.HTML object>"
      ]
     },
     "metadata": {},
     "output_type": "display_data"
    }
   ],
   "source": [
    "env_id = env_id_1\n",
    "\n",
    "test_env = gen_wrapped_env(env_id)\n",
    "observation = test_env.reset()\n",
    "\n",
    "done = False\n",
    "episode_reward = 0\n",
    "episode_length = 0\n",
    "\n",
    "while not done:\n",
    "  #test_env.render()\n",
    "  action, states = model.predict(observation, deterministic=True)\n",
    "  observation, reward, done, info = test_env.step(action)\n",
    "  episode_reward += reward\n",
    "  episode_length += 1\n",
    "\n",
    "print('Total reward:', episode_reward)\n",
    "print('Total length:', episode_length)\n",
    "\n",
    "test_env.close()\n",
    "show_video()"
   ]
  },
  {
   "cell_type": "code",
   "execution_count": 64,
   "metadata": {},
   "outputs": [],
   "source": [
    "# Save the agent\n",
    "model.save(env_id_1)"
   ]
  },
  {
   "cell_type": "code",
   "execution_count": 72,
   "metadata": {},
   "outputs": [],
   "source": [
    "model.set_env(vec_env_2)"
   ]
  },
  {
   "cell_type": "code",
   "execution_count": 73,
   "metadata": {},
   "outputs": [],
   "source": [
    "# Create eval environment\n",
    "env = gym.make(env_id_2)\n",
    "env = FlatObsWrapper(env)\n",
    "eval_env = stable_baselines3.common.monitor.Monitor(env, log_dir)\n",
    "# Reset the environment\n",
    "eval_env.reset();\n",
    "# Stop training when the model reaches the reward threshold\n",
    "callback_on_best = StopTrainingOnRewardThreshold(reward_threshold=0.90, verbose=1)\n",
    "eval_callback = EvalCallback(eval_env, log_path=log_dir, callback_on_new_best=callback_on_best, verbose=1)"
   ]
  },
  {
   "cell_type": "code",
   "execution_count": 74,
   "metadata": {
    "tags": []
   },
   "outputs": [
    {
     "name": "stdout",
     "output_type": "stream",
     "text": [
      "Logging to ./tmp/log/Curriculum-Doorkey_1\n",
      "-----------------------------------------\n",
      "| rollout/                |             |\n",
      "|    ep_len_mean          | 159         |\n",
      "|    ep_rew_mean          | 0.573       |\n",
      "| time/                   |             |\n",
      "|    fps                  | 873         |\n",
      "|    iterations           | 10          |\n",
      "|    time_elapsed         | 46          |\n",
      "|    total_timesteps      | 200960      |\n",
      "| train/                  |             |\n",
      "|    approx_kl            | 0.013858551 |\n",
      "|    clip_fraction        | 0.0627      |\n",
      "|    clip_range           | 0.2         |\n",
      "|    entropy_loss         | -0.599      |\n",
      "|    explained_variance   | 0.467       |\n",
      "|    learning_rate        | 5e-05       |\n",
      "|    loss                 | -0.0185     |\n",
      "|    n_updates            | 192         |\n",
      "|    policy_gradient_loss | -0.000816   |\n",
      "|    value_loss           | 0.00367     |\n",
      "-----------------------------------------\n",
      "-----------------------------------------\n",
      "| rollout/                |             |\n",
      "|    ep_len_mean          | 16.7        |\n",
      "|    ep_rew_mean          | 0.958       |\n",
      "| time/                   |             |\n",
      "|    fps                  | 831         |\n",
      "|    iterations           | 20          |\n",
      "|    time_elapsed         | 98          |\n",
      "|    total_timesteps      | 241920      |\n",
      "| train/                  |             |\n",
      "|    approx_kl            | 0.007291372 |\n",
      "|    clip_fraction        | 0.0565      |\n",
      "|    clip_range           | 0.2         |\n",
      "|    entropy_loss         | -0.297      |\n",
      "|    explained_variance   | 0.619       |\n",
      "|    learning_rate        | 5e-05       |\n",
      "|    loss                 | 0.041       |\n",
      "|    n_updates            | 232         |\n",
      "|    policy_gradient_loss | -0.00236    |\n",
      "|    value_loss           | 0.0023      |\n",
      "-----------------------------------------\n",
      "----------------------------------------\n",
      "| rollout/                |            |\n",
      "|    ep_len_mean          | 21.8       |\n",
      "|    ep_rew_mean          | 0.946      |\n",
      "| time/                   |            |\n",
      "|    fps                  | 821        |\n",
      "|    iterations           | 30         |\n",
      "|    time_elapsed         | 149        |\n",
      "|    total_timesteps      | 282880     |\n",
      "| train/                  |            |\n",
      "|    approx_kl            | 0.02235622 |\n",
      "|    clip_fraction        | 0.0843     |\n",
      "|    clip_range           | 0.2        |\n",
      "|    entropy_loss         | -0.159     |\n",
      "|    explained_variance   | 0.659      |\n",
      "|    learning_rate        | 5e-05      |\n",
      "|    loss                 | 0.00267    |\n",
      "|    n_updates            | 272        |\n",
      "|    policy_gradient_loss | 0.00112    |\n",
      "|    value_loss           | 0.000589   |\n",
      "----------------------------------------\n",
      "Eval num_timesteps=320000, episode_reward=0.97 +/- 0.00\n",
      "Episode length: 13.60 +/- 1.62\n",
      "----------------------------------------\n",
      "| eval/                   |            |\n",
      "|    mean_ep_length       | 13.6       |\n",
      "|    mean_reward          | 0.966      |\n",
      "| time/                   |            |\n",
      "|    total_timesteps      | 320000     |\n",
      "| train/                  |            |\n",
      "|    approx_kl            | 0.02641946 |\n",
      "|    clip_fraction        | 0.141      |\n",
      "|    clip_range           | 0.2        |\n",
      "|    entropy_loss         | -0.212     |\n",
      "|    explained_variance   | 0.709      |\n",
      "|    learning_rate        | 5e-05      |\n",
      "|    loss                 | 0.000368   |\n",
      "|    n_updates            | 312        |\n",
      "|    policy_gradient_loss | -0.00277   |\n",
      "|    value_loss           | 0.00129    |\n",
      "----------------------------------------\n",
      "New best mean reward!\n",
      "Stopping training because the mean reward 0.97  is above the threshold 0.9\n"
     ]
    },
    {
     "data": {
      "text/plain": [
       "<stable_baselines3.ppo.ppo.PPO at 0x13df3d550>"
      ]
     },
     "execution_count": 74,
     "metadata": {},
     "output_type": "execute_result"
    }
   ],
   "source": [
    "# number of timesteps to add\n",
    "total_timesteps = 1000000\n",
    "log_interval = 10\n",
    "\n",
    "# resume training using same tensorboard run without resetting the timesteps\n",
    "model.learn(total_timesteps=total_timesteps,\n",
    "            log_interval=log_interval,\n",
    "            tb_log_name=tb_log_name,\n",
    "            reset_num_timesteps=False, \n",
    "            callback=eval_callback)"
   ]
  },
  {
   "cell_type": "code",
   "execution_count": 75,
   "metadata": {},
   "outputs": [],
   "source": [
    "# Save the agent\n",
    "model.save(env_id_2)"
   ]
  },
  {
   "cell_type": "code",
   "execution_count": 76,
   "metadata": {
    "tags": []
   },
   "outputs": [
    {
     "name": "stdout",
     "output_type": "stream",
     "text": [
      "Logging to ./tmp/log/Curriculum-Doorkey_1\n",
      "-----------------------------------------\n",
      "| rollout/                |             |\n",
      "|    ep_len_mean          | 295         |\n",
      "|    ep_rew_mean          | 0.557       |\n",
      "| time/                   |             |\n",
      "|    fps                  | 865         |\n",
      "|    iterations           | 10          |\n",
      "|    time_elapsed         | 47          |\n",
      "|    total_timesteps      | 360960      |\n",
      "| train/                  |             |\n",
      "|    approx_kl            | 0.012058819 |\n",
      "|    clip_fraction        | 0.0997      |\n",
      "|    clip_range           | 0.2         |\n",
      "|    entropy_loss         | -0.433      |\n",
      "|    explained_variance   | 0.124       |\n",
      "|    learning_rate        | 5e-05       |\n",
      "|    loss                 | -0.0632     |\n",
      "|    n_updates            | 348         |\n",
      "|    policy_gradient_loss | 0.00335     |\n",
      "|    value_loss           | 0.00184     |\n",
      "-----------------------------------------\n",
      "-----------------------------------------\n",
      "| rollout/                |             |\n",
      "|    ep_len_mean          | 34.9        |\n",
      "|    ep_rew_mean          | 0.951       |\n",
      "| time/                   |             |\n",
      "|    fps                  | 814         |\n",
      "|    iterations           | 20          |\n",
      "|    time_elapsed         | 100         |\n",
      "|    total_timesteps      | 401920      |\n",
      "| train/                  |             |\n",
      "|    approx_kl            | 0.011449912 |\n",
      "|    clip_fraction        | 0.105       |\n",
      "|    clip_range           | 0.2         |\n",
      "|    entropy_loss         | -0.403      |\n",
      "|    explained_variance   | 0.508       |\n",
      "|    learning_rate        | 5e-05       |\n",
      "|    loss                 | -0.0353     |\n",
      "|    n_updates            | 388         |\n",
      "|    policy_gradient_loss | -0.00522    |\n",
      "|    value_loss           | 0.0121      |\n",
      "-----------------------------------------\n",
      "----------------------------------------\n",
      "| rollout/                |            |\n",
      "|    ep_len_mean          | 26.3       |\n",
      "|    ep_rew_mean          | 0.963      |\n",
      "| time/                   |            |\n",
      "|    fps                  | 793        |\n",
      "|    iterations           | 30         |\n",
      "|    time_elapsed         | 154        |\n",
      "|    total_timesteps      | 442880     |\n",
      "| train/                  |            |\n",
      "|    approx_kl            | 0.01240727 |\n",
      "|    clip_fraction        | 0.102      |\n",
      "|    clip_range           | 0.2        |\n",
      "|    entropy_loss         | -0.309     |\n",
      "|    explained_variance   | 0.671      |\n",
      "|    learning_rate        | 5e-05      |\n",
      "|    loss                 | 0.00997    |\n",
      "|    n_updates            | 428        |\n",
      "|    policy_gradient_loss | -0.00292   |\n",
      "|    value_loss           | 0.00238    |\n",
      "----------------------------------------\n",
      "Eval num_timesteps=480000, episode_reward=0.97 +/- 0.00\n",
      "Episode length: 20.40 +/- 3.26\n",
      "-----------------------------------------\n",
      "| eval/                   |             |\n",
      "|    mean_ep_length       | 20.4        |\n",
      "|    mean_reward          | 0.971       |\n",
      "| time/                   |             |\n",
      "|    total_timesteps      | 480000      |\n",
      "| train/                  |             |\n",
      "|    approx_kl            | 0.023332503 |\n",
      "|    clip_fraction        | 0.0697      |\n",
      "|    clip_range           | 0.2         |\n",
      "|    entropy_loss         | -0.145      |\n",
      "|    explained_variance   | 0.747       |\n",
      "|    learning_rate        | 5e-05       |\n",
      "|    loss                 | -0.0209     |\n",
      "|    n_updates            | 468         |\n",
      "|    policy_gradient_loss | 0.0148      |\n",
      "|    value_loss           | 0.00103     |\n",
      "-----------------------------------------\n",
      "New best mean reward!\n",
      "Stopping training because the mean reward 0.97  is above the threshold 0.9\n"
     ]
    },
    {
     "data": {
      "text/plain": [
       "<stable_baselines3.ppo.ppo.PPO at 0x13df3d550>"
      ]
     },
     "execution_count": 76,
     "metadata": {},
     "output_type": "execute_result"
    }
   ],
   "source": [
    "model.set_env(vec_env_3)\n",
    "\n",
    "# Create eval environment\n",
    "env = gym.make(env_id_3)\n",
    "env = FlatObsWrapper(env)\n",
    "eval_env = stable_baselines3.common.monitor.Monitor(env, log_dir)\n",
    "# Reset the environment\n",
    "eval_env.reset();\n",
    "# Stop training when the model reaches the reward threshold\n",
    "callback_on_best = StopTrainingOnRewardThreshold(reward_threshold=0.90, verbose=1)\n",
    "eval_callback = EvalCallback(eval_env, log_path=log_dir, callback_on_new_best=callback_on_best, verbose=1)\n",
    "\n",
    "# number of timesteps to add\n",
    "total_timesteps = 1000000\n",
    "log_interval = 10\n",
    "\n",
    "# resume training using same tensorboard run without resetting the timesteps\n",
    "model.learn(total_timesteps=total_timesteps,\n",
    "            log_interval=log_interval,\n",
    "            tb_log_name=tb_log_name,\n",
    "            reset_num_timesteps=False, \n",
    "            callback=eval_callback)"
   ]
  },
  {
   "cell_type": "code",
   "execution_count": 77,
   "metadata": {},
   "outputs": [],
   "source": [
    "# Save the agent\n",
    "model.save(env_id_3)"
   ]
  },
  {
   "cell_type": "code",
   "execution_count": 90,
   "metadata": {},
   "outputs": [
    {
     "name": "stdout",
     "output_type": "stream",
     "text": [
      "Mean reward: 0.9705250096321106 +/- 0.01\n"
     ]
    }
   ],
   "source": [
    "# We create a separate environment for evaluation\n",
    "eval_env = FlatObsWrapper(gym.make(env_id_3))\n",
    "\n",
    "# Random Agent, before training\n",
    "mean_reward, std_reward = evaluate_policy(model, eval_env, n_eval_episodes=50)\n",
    "print(f'Mean reward: {mean_reward} +/- {std_reward:.2f}')"
   ]
  },
  {
   "cell_type": "code",
   "execution_count": 91,
   "metadata": {
    "collapsed": true,
    "jupyter": {
     "outputs_hidden": true
    },
    "tags": []
   },
   "outputs": [
    {
     "name": "stdout",
     "output_type": "stream",
     "text": [
      "Logging to ./tmp/log/Curriculum-Doorkey_1\n",
      "------------------------------------------\n",
      "| rollout/                |              |\n",
      "|    ep_len_mean          | 347          |\n",
      "|    ep_rew_mean          | 0.874        |\n",
      "| time/                   |              |\n",
      "|    fps                  | 828          |\n",
      "|    iterations           | 10           |\n",
      "|    time_elapsed         | 49           |\n",
      "|    total_timesteps      | 520960       |\n",
      "| train/                  |              |\n",
      "|    approx_kl            | 0.0130156595 |\n",
      "|    clip_fraction        | 0.104        |\n",
      "|    clip_range           | 0.2          |\n",
      "|    entropy_loss         | -0.342       |\n",
      "|    explained_variance   | 0.358        |\n",
      "|    learning_rate        | 5e-05        |\n",
      "|    loss                 | -0.00808     |\n",
      "|    n_updates            | 504          |\n",
      "|    policy_gradient_loss | -0.00154     |\n",
      "|    value_loss           | 0.00304      |\n",
      "------------------------------------------\n",
      "-----------------------------------------\n",
      "| rollout/                |             |\n",
      "|    ep_len_mean          | 330         |\n",
      "|    ep_rew_mean          | 0.884       |\n",
      "| time/                   |             |\n",
      "|    fps                  | 786         |\n",
      "|    iterations           | 20          |\n",
      "|    time_elapsed         | 104         |\n",
      "|    total_timesteps      | 561920      |\n",
      "| train/                  |             |\n",
      "|    approx_kl            | 0.017052317 |\n",
      "|    clip_fraction        | 0.118       |\n",
      "|    clip_range           | 0.2         |\n",
      "|    entropy_loss         | -0.363      |\n",
      "|    explained_variance   | 0.477       |\n",
      "|    learning_rate        | 5e-05       |\n",
      "|    loss                 | -0.0336     |\n",
      "|    n_updates            | 544         |\n",
      "|    policy_gradient_loss | 0.00106     |\n",
      "|    value_loss           | 0.00956     |\n",
      "-----------------------------------------\n",
      "----------------------------------------\n",
      "| rollout/                |            |\n",
      "|    ep_len_mean          | 348        |\n",
      "|    ep_rew_mean          | 0.878      |\n",
      "| time/                   |            |\n",
      "|    fps                  | 768        |\n",
      "|    iterations           | 30         |\n",
      "|    time_elapsed         | 159        |\n",
      "|    total_timesteps      | 602880     |\n",
      "| train/                  |            |\n",
      "|    approx_kl            | 0.05106405 |\n",
      "|    clip_fraction        | 0.155      |\n",
      "|    clip_range           | 0.2        |\n",
      "|    entropy_loss         | -0.371     |\n",
      "|    explained_variance   | 0.469      |\n",
      "|    learning_rate        | 5e-05      |\n",
      "|    loss                 | -0.00425   |\n",
      "|    n_updates            | 584        |\n",
      "|    policy_gradient_loss | -0.00362   |\n",
      "|    value_loss           | 0.0109     |\n",
      "----------------------------------------\n",
      "Eval num_timesteps=640000, episode_reward=0.20 +/- 0.40\n",
      "Episode length: 2052.40 +/- 1015.20\n",
      "-----------------------------------------\n",
      "| eval/                   |             |\n",
      "|    mean_ep_length       | 2.05e+03    |\n",
      "|    mean_reward          | 0.198       |\n",
      "| time/                   |             |\n",
      "|    total_timesteps      | 640000      |\n",
      "| train/                  |             |\n",
      "|    approx_kl            | 0.020096023 |\n",
      "|    clip_fraction        | 0.163       |\n",
      "|    clip_range           | 0.2         |\n",
      "|    entropy_loss         | -0.451      |\n",
      "|    explained_variance   | 0.0573      |\n",
      "|    learning_rate        | 5e-05       |\n",
      "|    loss                 | -0.0249     |\n",
      "|    n_updates            | 624         |\n",
      "|    policy_gradient_loss | -6.84e-06   |\n",
      "|    value_loss           | 0.000537    |\n",
      "-----------------------------------------\n",
      "New best mean reward!\n",
      "---------------------------------\n",
      "| rollout/           |          |\n",
      "|    ep_len_mean     | 487      |\n",
      "|    ep_rew_mean     | 0.829    |\n",
      "| time/              |          |\n",
      "|    fps             | 739      |\n",
      "|    iterations      | 40       |\n",
      "|    time_elapsed    | 221      |\n",
      "|    total_timesteps | 643840   |\n",
      "---------------------------------\n",
      "-----------------------------------------\n",
      "| rollout/                |             |\n",
      "|    ep_len_mean          | 295         |\n",
      "|    ep_rew_mean          | 0.896       |\n",
      "| time/                   |             |\n",
      "|    fps                  | 741         |\n",
      "|    iterations           | 50          |\n",
      "|    time_elapsed         | 276         |\n",
      "|    total_timesteps      | 684800      |\n",
      "| train/                  |             |\n",
      "|    approx_kl            | 0.008686747 |\n",
      "|    clip_fraction        | 0.0813      |\n",
      "|    clip_range           | 0.2         |\n",
      "|    entropy_loss         | -0.38       |\n",
      "|    explained_variance   | 0.606       |\n",
      "|    learning_rate        | 5e-05       |\n",
      "|    loss                 | -0.00952    |\n",
      "|    n_updates            | 664         |\n",
      "|    policy_gradient_loss | -0.000719   |\n",
      "|    value_loss           | 0.0114      |\n",
      "-----------------------------------------\n",
      "----------------------------------------\n",
      "| rollout/                |            |\n",
      "|    ep_len_mean          | 335        |\n",
      "|    ep_rew_mean          | 0.882      |\n",
      "| time/                   |            |\n",
      "|    fps                  | 744        |\n",
      "|    iterations           | 60         |\n",
      "|    time_elapsed         | 330        |\n",
      "|    total_timesteps      | 725760     |\n",
      "| train/                  |            |\n",
      "|    approx_kl            | 0.02547446 |\n",
      "|    clip_fraction        | 0.103      |\n",
      "|    clip_range           | 0.2        |\n",
      "|    entropy_loss         | -0.309     |\n",
      "|    explained_variance   | 0.462      |\n",
      "|    learning_rate        | 5e-05      |\n",
      "|    loss                 | 0.0233     |\n",
      "|    n_updates            | 704        |\n",
      "|    policy_gradient_loss | 0.00179    |\n",
      "|    value_loss           | 0.0131     |\n",
      "----------------------------------------\n",
      "-----------------------------------------\n",
      "| rollout/                |             |\n",
      "|    ep_len_mean          | 290         |\n",
      "|    ep_rew_mean          | 0.897       |\n",
      "| time/                   |             |\n",
      "|    fps                  | 747         |\n",
      "|    iterations           | 70          |\n",
      "|    time_elapsed         | 383         |\n",
      "|    total_timesteps      | 766720      |\n",
      "| train/                  |             |\n",
      "|    approx_kl            | 0.008277182 |\n",
      "|    clip_fraction        | 0.0782      |\n",
      "|    clip_range           | 0.2         |\n",
      "|    entropy_loss         | -0.286      |\n",
      "|    explained_variance   | 0.48        |\n",
      "|    learning_rate        | 5e-05       |\n",
      "|    loss                 | -0.0289     |\n",
      "|    n_updates            | 744         |\n",
      "|    policy_gradient_loss | -0.000756   |\n",
      "|    value_loss           | 0.0183      |\n",
      "-----------------------------------------\n",
      "Eval num_timesteps=800000, episode_reward=0.39 +/- 0.48\n",
      "Episode length: 1558.00 +/- 1227.20\n",
      "-----------------------------------------\n",
      "| eval/                   |             |\n",
      "|    mean_ep_length       | 1.56e+03    |\n",
      "|    mean_reward          | 0.392       |\n",
      "| time/                   |             |\n",
      "|    total_timesteps      | 800000      |\n",
      "| train/                  |             |\n",
      "|    approx_kl            | 0.012151374 |\n",
      "|    clip_fraction        | 0.0983      |\n",
      "|    clip_range           | 0.2         |\n",
      "|    entropy_loss         | -0.31       |\n",
      "|    explained_variance   | 0.605       |\n",
      "|    learning_rate        | 5e-05       |\n",
      "|    loss                 | -0.0124     |\n",
      "|    n_updates            | 780         |\n",
      "|    policy_gradient_loss | 0.000954    |\n",
      "|    value_loss           | 0.0116      |\n",
      "-----------------------------------------\n",
      "New best mean reward!\n",
      "-----------------------------------------\n",
      "| rollout/                |             |\n",
      "|    ep_len_mean          | 160         |\n",
      "|    ep_rew_mean          | 0.944       |\n",
      "| time/                   |             |\n",
      "|    fps                  | 738         |\n",
      "|    iterations           | 80          |\n",
      "|    time_elapsed         | 443         |\n",
      "|    total_timesteps      | 807680      |\n",
      "| train/                  |             |\n",
      "|    approx_kl            | 0.013431096 |\n",
      "|    clip_fraction        | 0.102       |\n",
      "|    clip_range           | 0.2         |\n",
      "|    entropy_loss         | -0.328      |\n",
      "|    explained_variance   | 0.513       |\n",
      "|    learning_rate        | 5e-05       |\n",
      "|    loss                 | -0.000554   |\n",
      "|    n_updates            | 784         |\n",
      "|    policy_gradient_loss | 0.00473     |\n",
      "|    value_loss           | 0.00739     |\n",
      "-----------------------------------------\n",
      "-----------------------------------------\n",
      "| rollout/                |             |\n",
      "|    ep_len_mean          | 194         |\n",
      "|    ep_rew_mean          | 0.932       |\n",
      "| time/                   |             |\n",
      "|    fps                  | 740         |\n",
      "|    iterations           | 90          |\n",
      "|    time_elapsed         | 497         |\n",
      "|    total_timesteps      | 848640      |\n",
      "| train/                  |             |\n",
      "|    approx_kl            | 0.048512906 |\n",
      "|    clip_fraction        | 0.124       |\n",
      "|    clip_range           | 0.2         |\n",
      "|    entropy_loss         | -0.374      |\n",
      "|    explained_variance   | 0.65        |\n",
      "|    learning_rate        | 5e-05       |\n",
      "|    loss                 | -0.00769    |\n",
      "|    n_updates            | 824         |\n",
      "|    policy_gradient_loss | 0.00252     |\n",
      "|    value_loss           | 0.00706     |\n",
      "-----------------------------------------\n",
      "-----------------------------------------\n",
      "| rollout/                |             |\n",
      "|    ep_len_mean          | 105         |\n",
      "|    ep_rew_mean          | 0.963       |\n",
      "| time/                   |             |\n",
      "|    fps                  | 740         |\n",
      "|    iterations           | 100         |\n",
      "|    time_elapsed         | 552         |\n",
      "|    total_timesteps      | 889600      |\n",
      "| train/                  |             |\n",
      "|    approx_kl            | 0.013486568 |\n",
      "|    clip_fraction        | 0.0922      |\n",
      "|    clip_range           | 0.2         |\n",
      "|    entropy_loss         | -0.231      |\n",
      "|    explained_variance   | 0.617       |\n",
      "|    learning_rate        | 5e-05       |\n",
      "|    loss                 | -0.0357     |\n",
      "|    n_updates            | 864         |\n",
      "|    policy_gradient_loss | -0.00125    |\n",
      "|    value_loss           | 0.0102      |\n",
      "-----------------------------------------\n",
      "----------------------------------------\n",
      "| rollout/                |            |\n",
      "|    ep_len_mean          | 155        |\n",
      "|    ep_rew_mean          | 0.946      |\n",
      "| time/                   |            |\n",
      "|    fps                  | 743        |\n",
      "|    iterations           | 110        |\n",
      "|    time_elapsed         | 606        |\n",
      "|    total_timesteps      | 930560     |\n",
      "| train/                  |            |\n",
      "|    approx_kl            | 0.00675968 |\n",
      "|    clip_fraction        | 0.0683     |\n",
      "|    clip_range           | 0.2        |\n",
      "|    entropy_loss         | -0.257     |\n",
      "|    explained_variance   | 0.533      |\n",
      "|    learning_rate        | 5e-05      |\n",
      "|    loss                 | 0.00953    |\n",
      "|    n_updates            | 904        |\n",
      "|    policy_gradient_loss | 0.00288    |\n",
      "|    value_loss           | 0.00733    |\n",
      "----------------------------------------\n",
      "Eval num_timesteps=960000, episode_reward=0.98 +/- 0.01\n",
      "Episode length: 60.40 +/- 20.56\n",
      "---------------------------------------\n",
      "| eval/                   |           |\n",
      "|    mean_ep_length       | 60.4      |\n",
      "|    mean_reward          | 0.979     |\n",
      "| time/                   |           |\n",
      "|    total_timesteps      | 960000    |\n",
      "| train/                  |           |\n",
      "|    approx_kl            | 0.0351279 |\n",
      "|    clip_fraction        | 0.132     |\n",
      "|    clip_range           | 0.2       |\n",
      "|    entropy_loss         | -0.263    |\n",
      "|    explained_variance   | 0.557     |\n",
      "|    learning_rate        | 5e-05     |\n",
      "|    loss                 | -0.0324   |\n",
      "|    n_updates            | 936       |\n",
      "|    policy_gradient_loss | 0.00418   |\n",
      "|    value_loss           | 0.0105    |\n",
      "---------------------------------------\n",
      "New best mean reward!\n",
      "Stopping training because the mean reward 0.98  is above the threshold 0.9\n"
     ]
    },
    {
     "data": {
      "text/plain": [
       "<stable_baselines3.ppo.ppo.PPO at 0x13df3d550>"
      ]
     },
     "execution_count": 91,
     "metadata": {},
     "output_type": "execute_result"
    }
   ],
   "source": [
    "model.set_env(vec_env_4)\n",
    "\n",
    "# Create eval environment\n",
    "env = gym.make(env_id_4)\n",
    "env = FlatObsWrapper(env)\n",
    "eval_env = stable_baselines3.common.monitor.Monitor(env, log_dir)\n",
    "# Reset the environment\n",
    "eval_env.reset();\n",
    "# Stop training when the model reaches the reward threshold\n",
    "callback_on_best = StopTrainingOnRewardThreshold(reward_threshold=0.90, verbose=1)\n",
    "eval_callback = EvalCallback(eval_env, log_path=log_dir, callback_on_new_best=callback_on_best, verbose=1)\n",
    "\n",
    "# number of timesteps to add\n",
    "total_timesteps = 1000000\n",
    "log_interval = 10\n",
    "\n",
    "# resume training using same tensorboard run without resetting the timesteps\n",
    "model.learn(total_timesteps=total_timesteps,\n",
    "            log_interval=log_interval,\n",
    "            tb_log_name=tb_log_name,\n",
    "            reset_num_timesteps=False, \n",
    "            callback=eval_callback)"
   ]
  },
  {
   "cell_type": "code",
   "execution_count": 92,
   "metadata": {},
   "outputs": [],
   "source": [
    "# Save the agent\n",
    "model.save(env_id_4)"
   ]
  },
  {
   "cell_type": "code",
   "execution_count": 104,
   "metadata": {},
   "outputs": [
    {
     "name": "stdout",
     "output_type": "stream",
     "text": [
      "Mean reward: 0.8295999944210053 +/- 0.33\n"
     ]
    }
   ],
   "source": [
    "# We create a separate environment for evaluation\n",
    "eval_env = FlatObsWrapper(gym.make(env_id_2))\n",
    "\n",
    "# Random Agent, before training\n",
    "mean_reward, std_reward = evaluate_policy(model, eval_env, n_eval_episodes=50)\n",
    "print(f'Mean reward: {mean_reward} +/- {std_reward:.2f}')"
   ]
  },
  {
   "cell_type": "code",
   "execution_count": 141,
   "metadata": {},
   "outputs": [
    {
     "name": "stdout",
     "output_type": "stream",
     "text": [
      "Total reward: 0.9708203125\n",
      "Total length: 83\n"
     ]
    },
    {
     "data": {
      "text/html": [
       "<video alt=\"test\" autoplay \n",
       "                loop controls style=\"height: 400px;\">\n",
       "                <source src=\"data:video/mp4;base64,AAAAIGZ0eXBpc29tAAACAGlzb21pc28yYXZjMW1wNDEAAAAIZnJlZQAAZNxtZGF0AAACrwYF//+r3EXpvebZSLeWLNgg2SPu73gyNjQgLSBjb3JlIDE2MyByMzA2MCA1ZGI2YWE2IC0gSC4yNjQvTVBFRy00IEFWQyBjb2RlYyAtIENvcHlsZWZ0IDIwMDMtMjAyMSAtIGh0dHA6Ly93d3cudmlkZW9sYW4ub3JnL3gyNjQuaHRtbCAtIG9wdGlvbnM6IGNhYmFjPTEgcmVmPTMgZGVibG9jaz0xOjA6MCBhbmFseXNlPTB4MzoweDExMyBtZT1oZXggc3VibWU9NyBwc3k9MSBwc3lfcmQ9MS4wMDowLjAwIG1peGVkX3JlZj0xIG1lX3JhbmdlPTE2IGNocm9tYV9tZT0xIHRyZWxsaXM9MSA4eDhkY3Q9MSBjcW09MCBkZWFkem9uZT0yMSwxMSBmYXN0X3Bza2lwPTEgY2hyb21hX3FwX29mZnNldD0tMiB0aHJlYWRzPTEyIGxvb2thaGVhZF90aHJlYWRzPTIgc2xpY2VkX3RocmVhZHM9MCBucj0wIGRlY2ltYXRlPTEgaW50ZXJsYWNlZD0wIGJsdXJheV9jb21wYXQ9MCBjb25zdHJhaW5lZF9pbnRyYT0wIGJmcmFtZXM9MyBiX3B5cmFtaWQ9MiBiX2FkYXB0PTEgYl9iaWFzPTAgZGlyZWN0PTEgd2VpZ2h0Yj0xIG9wZW5fZ29wPTAgd2VpZ2h0cD0yIGtleWludD0yNTAga2V5aW50X21pbj0xMCBzY2VuZWN1dD00MCBpbnRyYV9yZWZyZXNoPTAgcmNfbG9va2FoZWFkPTQwIHJjPWNyZiBtYnRyZWU9MSBjcmY9MjMuMCBxY29tcD0wLjYwIHFwbWluPTAgcXBtYXg9NjkgcXBzdGVwPTQgaXBfcmF0aW89MS40MCBhcT0xOjEuMDAAgAAADblliIQAP//+92ifApkgIqA5JXFJdtPgf+rZ3B8j+kDAAAADAAAJAL8x7+hB0M0IAAAUY/7WAQ6/8AC8LfLQaN5vf+AnLe4cMMigXNdSk2nH6v9Whti5ezLvAOCq/YWNVLrdF/Koy4/JCYyoQt+drQUO6Q/bHLVMniT2BYibNnSBrCnDzxRxfm5u6M95M0bA7Pr5PWU0nL/2dnLu7JT1PsE8UEuUa7A1HGxLbR3FAgEVSVVbzcooiilKgm2O7ba1WXX9rkgmdkDkG7ULYJ4oGVW8y3U/G8VjlkBAIqkqq3m1EEl4d2oWwTxQSpt5H68Xl2UEwQopXBfkNDehPCiHxWb2xpqo4JsIgrHeSYFqO6wAExqiNvoE8bzdEXmnYuUcTrNuXxmDhRgyWOcLAfwBCI1tK0XbHAM+ZPPhpOxsxgi2rr4Xn+zkhQrngfDkDWcvohlvTAZ3Dg5yDACxAqJUiipqi7Y4BnzKAz6uZKfjq7fbil2BKIY53aKmZ6UDh2Jw9p7ur81TfAcOyF21ygZFicFYfnZ5KFwNYc88z1BnHY4/Aki/XAErIa+7GHnj0EnD2kbuRKOwzy6rdUyc54kupDOZvT7pP2bF4/mjoo0TTNPpOBjjQpVKcZCpPwpPhNgrY2pQdwx9pGmWyPEnzvKd80WS2JnQL8Y8rt2mFgjCrme4GcKznSY6+GuEYooivB+WFCo7CMcPpj5L0v4cmA67VPVAdJ0XteUoXACY5e4DXgLDag40YPTiiiJUZl4mJv9yZ+zypH+HEnDSv89hwbdrQF0jX/N/C/xK1y6yYjdw65PUreDaf6GGkj7sgztn2/Fqh3OBReAFZTOhDFwUsRu+/UagkK6LmlKwf0YOJX1KT1HCV3XHzwgG6F0Y5GpAR0wOgG0P79aXShMtI2dVLI2VhJSPedtD+MP4GcaPdzdBrz7qLPJIR0+eVEppVxwpvH68pjuLhOmw8rSN3PU3anVvYpIE8rSN3J4g8KcMnpKbDytPd1lGVAU/51cDWHPPLnHtKv0OFgSRKBkWAMozz0oWBJEoGRYCxJpriR1w8rSN3Ier/XXWv8ee/Eadvdd3SQtky/bfj+KVyFWLOoP5rOCDmFtLriPvbhEAANGxa6Z5O3z5LSSh1YHBdHX0AlMqR4cgazl9PqjJ0c7X0C35ho9s8iSnoP/PvDl2Y1h7cDzI+6D7iDNNJTxAsYqBpxfJwl36cX9wHIu62/UBjiCTh7T3dZonztCt5C7a5QMixks/TEz03VXzQYVxUKn+TeTsLVPbgMjEoJTkl2FrpEoGRksBmmKkR2GsOeeXVNHgUqPJjdnNC+geV1tSJq6XORaTczacLEjhEJujo4AAxO/8W5lr4p2x5tbr1N9U7jS8t3tMsAvd4AQPUXazwiF577OF++/WgCsiwbl/ViBGpnb6JF5JSaF5JL1+vo/YkLHhHX2njwkjR67uIyOc2AvQnjcvkcGYd0dlgugEb6bFHOYHGE+mtSBqZLlKjJBqu7XRE1qO8Rzqby4v1HL9jBoEYR5n56FS5A3sXdzGrFuzgwK782+EZJnyzFDs606t0FOc/20q+GSZ7khdhwbgp4xfKBGkDjAAAPcwieA1e/i5OMR55n6fjOnPdha6RKBkWDBlUPholdtcoGfiOsmvaJEdhrDnnl0D/vIJpOdWQpRDHNq517T4SKt09XAErVd+kptq6mEKUhSmZbGnGzSurMgh8ze3VkKUSWciVy2JvcSu2uUDIsDGiNOvTdfzyvEK5SK2/S0hLKezrOusjNf+8fV0OxOHtPIci6JzV82StGcrZTUXDi7vHE2F0MrmXhIwAAAHkNJ7sC9KVs43IYNhYM80MO3YWqvmgwrcNh99hqXhJF+uAJWohug46VxK54vwM/BDEERhdXhJF+uAJWoUl+TdKGkCeVpG7ktC2Ibnv9urIUpqLAXzvWkniCTh7SN3JZ9q3RQhG6shSmosBYQ3+3eyFzxfgZ+Bh8XkxNNa6wJRDHTki1pbem66RKBkYZDPjjmjMs5uhQyZ7khdhwYubUxQAAADATdz7k32biFLBDqwBFdfzWLbC5B0Qs5mbYrTaLM/X0XhqLA+k0KxkQT/hGzW+y78zU6DLH4dfLq0EAKWSevhxCBwi2guxY0W/TleaWFWL+xRmDG7k2UYYstUdm+Q1+YA+KOlRhufNRYEgXi932xFNFmP7kscF2EQRV0dD9LcLf+i8eaRrwPQVZf4KXC9Vlp3MixFPJhhx+IdR7drXKgU5p6ylkXnn37Vd4aBf1KiqSUuxtjFBJAr2BcacSWzkoexgUb2v0TV4tCSjcnbjQAAGEzV31sgrdAHorYCyTtB1Zf1Sv6/G2C4ACC+VSI/zyw+IovLn214QtVmvVrdffZn2ZjvZMeABTS/GXRcGq6UTPVuxNctKhIykndNursHkd1mfd4SrMOBhHgNwrti3sP9H+sTiglTbxKLfs7uWG+6Bs3+g0vLQPAMl7Es+ideFn6JVjp88aCxwvpMieBng7JQsKdC8s4zscpnQ+8w4AiKj6m1fO1odcGgiqBhMoAAHuhJAHpYXq8k3AGCVlLO9NQI6959vo+NRdrf+/qKCix1MbWvPXYpoWsz+/5BbfgAAAMAB/ihZInwsoHmHOqjpPr4Wl4aDCc7eAUFiYydG6aNo96ykeDtF/KYemxfK1zdBrz7p8KgW/I53XQxV7ggi8tEBuKZnHlCdBlj8Ovl1ZV1e/XqGf5kDhFtBdixiqyxDyR4mn3dOxQ7Nya5WOPy1Hj/zVPC6b8+Kbr8Pgc6sp2ZvSx9UFjhfSZE7WLZtDhAr6n7ZV4/grUpz0kchrF5TKtqjg9ziyXM9QpwqeFGqRNdnbkJvuUeX+eCMhOgctLspM1NmHI63JSMRFMJmLYrB9VlcLrSIRimSAAABTFXmBO9Zq3G3jDBCGOoMzxURvi/08h2imkRialIsehUnWA5TJJeUfX13/IviZP56BjtdufgQdtKnP9XCN8/4AL3rWhR2N6Od3SqCVQzN5nobcDjlOnIYzRlfYh5eFW9AWWiK6fsItUeiS6Hzy0Y8mErj2xKSn0ceuJBHVkCKc9WdHgliMlo//iWzWo/UAqGFTPR/Ws9oWY2NgRS2jmHpL4lIXRxyIauEmarAakbGEO/Ko3S7YIUclRNQoQqK32RLCvIYN9xzgAvR7C9TG9i4cMkBTQHeiX8zERHpOTFmzKzsY4JBnTFN5k2MsZ9MFmKDPrrlnUPw68gzNWZmXigvmjv4ZOrmPu5owA4lCeWzBl/PJ//93ulvbIyIEsBWRI11N33EL9cdNeaB3yniKwjf07LN1Ho2l/Fpe9HfUX+qz6SDFoobg0df2rq/mveu2B/ZwGT8ozMxPUuWR4GGyRd9LEA6u5BC71BQBa1jqda3vKaZ/pSRwSbaG97M0VEjt/fHopNhXE2+fN6Mk3jDJLiqkiubhntcAADOjFGM0R0+NhUdJbc6V+FB0ug/iBjDxH6v6JxhNEUbrAZkWN5o3NDjhTSPy7F+/hR9Cfg4z26+SChAgYZ6cwLLfZQ1UvzAVy8KGTiHIrVlgsf//zs5tW64RUc4+jmlagH/k8g8sRRgINSJsenxpEGw54HcLLbS60XTANjRwjq9bJzeQVOT7HP3OGiYf6b/W8Qfgb4H238OFJ3wvWU+tz6HKlfsXTfl1znILPzoT8MQzCInP0OX7JYDMgGSQyyUtPNPGGj5mdeZhWneZi3uqKX42LU+7zj+JEnTGWKRjJOHwg5GJsvU6qU4cpAD///OhN+9P8Awa9XeA73HjJAjKRa/AIzIH0avVI4WzqNok+FxpUq9JR60GkfZPCHslVAa/AlyaQ2wTDOK6L+15mV51RR0ugME+youQT38e77z6MrMSyEihIR8O/3Twwlh5I4dYJzmkP6KYdGpdX6wSilcFOxQAMaIw8zBo6tG/Nj2QM9wDeCotkSKzvBXcw4l//if+8/8s8fEiQ+v/Yr7Hpl+/Zf93aZY/gEdTZencji3Kr0P6VpzyqdeJl0r5FKjLbtn5S/4aF+tG80BF8LYUK3kcYTtKvUFL4N6D7j4IM0fVAqHxQ9WWRuVTyMTa/QYuWtnSC9ri11vsghcombrEWY6/Czm2B/naLedYzrUeaXnWpFs66ddnQEGDxT5WyFsObOwMneBws11vNkDh6xSuaRmS55KcobPG/gBSNANvaEyV1+lbU6RSS3k/zeiZsc0zs4oagY/V+rzFau6+G/kzaScyr4EnSKihB1IpiFhKZnjXP7+Y6CVFzLt+mJdIYGD+UeJQcGRaNlb7OlnuHfVf1IWb9TX4a/AeEDVB3UffB7QLFCXDZ614uvtMpimKbocSyk9aaNWHv5/+Lwjbox7AcTGse+YBLC3G70FQJ3x0MxQtPMBREN6ll/UmelmsqSvfOfYA228NyXQ0gt0fyrIsYY8b8N3Af1CFQ5z0xg1gmdDMnttsvFuu9PfwEtYNZtcdy/5fQ2BwXSrnP6SfGq8C4hMxH2IKAioxETamND364Du43IUBmrQ/AA/IGFdUPJ0QLmefUe6AyZB0P6Gj3rv52IEhsworUb/g7Swnte7nPgu89Q4ue+sgwtABfAo6AFA4tXYZarpWj/K9goUrB/QFEQn3k6NjcCHyoy9YTS99O1Fn1C+SwXK9iQNgJXWzbbci6RjX7a9lVepgFu0sZQhIAAA7cAAACmQZohbEP//qmWAAAJA2heIF/P+YJuTxpQT3vkpla3lLY66WZtg8QcNEAoFZ8ZQeSfoXJu3Zaw8ch6Fs1vxr8fKx9g1aOZiGwB4IlFEaIbfhTZvQGuhDhz40RWLXH5obLaWQHP/rFkxxAVEry7i455vtDEVcuNuKEBRKCDq1qEGMuDCw4+phzN9uH1VpqKh5k0hY49PF8wnJ2RbS1XtOuBO9PIpZHWSQAAAHFBmkI8IZMphD///qmWAAADAGyubY6o7XLmcDNtG/c9/v1/JlbZpXK9qkJmZHLABfgVdH1wSz/757lPIooCk7Wp+0gbxtHRwwtgEaPGtPGOR2bOQgxMu+GIme0Qm11Ih7zGlEorz/dfXAkIlkkv5qXl4wAAATtBmmNJ4Q8mUwIf//6plgAAAwBsrm0zN/vPeMVpsGIHOO63WqAabZw3yvB8mLDC1yc+c1283OVO2MqwUKYPvE8DqE+dBW758EQTtELFsiXWkFOEiU34B29GCSBpgAb8led5l6z/nCpTK5+ip3N3WV2gBLYZPxmqTveR8pj79LYc4LLmmOhmH2Q/O7hiO7HYQEWnOtoqes+LvqDmeV055c3m8tmCE171KhIPiIQleLsg9pkAYEO++d7ehY1dnjiFDU5ckUtc9FWTDhEJOCCzmTig3aY3rAr+ZPtKsJ9lGhsxB6WDcFM8q+RLtGRkWlKJJL3TXkU+v6AgkVtjYdq5NqostjwWmHC2qvtUPNlBmX+3t/QVUzC7/8c9H2JjtfTSlKrW3Xyrp21YNN7PqbuHC4jXdBlxfzQIwnGbaGoAAAB0QZqESeEPJlMCCH/+qlUAAAMAKX8Xt5Qsvu7oKAeJHcMwK4SNBiiHazueCpPWm9edfi+e92rAt5eDTFkXZtnJYeNISx+3rxIMz3NulZGQqtRUPft5u1d21QD+JDxNMK9ih9pGa56uxuTuesvOQhHQsxsTxoEAAABfQZqlSeEPJlMCCH/+qlUAAAMAG8wKq+VmBeeTK96ktZHs1d5Sozql/Qr/EJ8Uav/wk56XmNam2Wky5zgQj5boE32MN9TdGjOGKuWTxJzJXvCCgY904qmpKAzG8s+eTREAAAPMQZrHSeEPJlMFETwQ//6qVQAAAwAbKVtTNI8dCT6qxWJkBzH/yMnDCklzbzG2ju0zjMM2zUrKjNeC48SLH8yVA3NvDkxTjWIvW1rlfiskfVXlsd/iEyNA18uZM2LJ5pPZ01u/tJ0VniTJd4Ywx54XKJsUXlLiN6havM8bPHLfhJrT83Hwd1Hhem0O1OYwfIGzBENO+4koGfP6OcnH8Ud86aVRR5FKGLaIupGTxdPhicC50cUpdigw7tTT/AAAAwAAGF9ykau7Pv6EvRsR+soK+HPTfiMR2V+bBKbvnYRQEX6DSmA663bJj3z7/20kXlJo3dPu6dih02zHDJHsk7D2M98BtioAZPfneneLIPokLP5vC+eV3jAAVAl0Pi6RrZx4krEHuBlXHAXeeRauhRyjCay98AKlQCVtfSgzIB9TAdiXOLmr5akzyCmTbkaXd3CmUbTXyBuIS4W6F5sAXD6C985TgqUxJMY5ASCdGDcJ2axWJIobbwOU/7GMzoA71Hi52xaOZAVmO2anaEwEHnqQIxEn+TWDijUnasgyym7gz7jJpTV/ujdSRxoHWvQwMSwKTBrfXUYBqWuOUF3pr+xghdcK9i62i5EmX+uwrPeTFF4sKMoMfzYwvz/+04/8Vg8KDAgb/r/TvahhJJM86QB0ounrm4+QCD8wHQ1dAEZ84F537ARE9AvFwiJrc5Pf0rwVY2l04Wenwbw0mBHBFclgVppIhBUTCAxH6XB/4aq6Yboa46EWujNGq6rTau30/eCSMZpuLizWD5mfKHXT42+ojpiTqdgGaTJFiqOKSmmfDGuvATYS39JDn6DaQkrkYWx7PX8dzuBWAd+h6w4CWgplkD713RBlKMAUlTCRPw1ptUqphoPxy7phBQfBk4SiyUHr5fgs5VSstiPOxnba3seCYSaaXQnvur+il8aF/3W6rIgUw2XaoZG2Nmp3Y82KhsdOYJY29Zn+0rMMsMPGaeEOJq/Yqm06owKc2osBB7TzfjGOUY/TATCS8hFmkuYh3FapCK02Pnf3Zy8uk8gCIAMtCfJOJRAuIKzg+G1AXinFEzO1hV/oMtE533muWGdlZKwpgOzHCZSK+B4Ccfklh6sF7DFBVp9C8t7OGaiZVaNLa53PeqPHaCyJwjBm3VeOZ0RAY+vUQydyyfxoKqXzoaRsTm4UMCsbkpxAl8osdd4F7khj2qwpyBrGSSsgOr/WEQASuppez7sUAJh1KIKxIWn+v1M0kYoO6F7UAB+1+PlaFQ+CwgbSxl+Ph2RNp3HBrSIfDxaeXPDYdOF/FPSBAAAA2wGe5mpDfwAAAwBJYzjFZ1yg/y4R5i3PcyPaoGqkDhqdpHAvfzapSdgbl1fwh58Avw7yDpqnzY6tHooQf1p3YpB+K0uAEtWnkUjYf/rT6xVZ4/L+voA+iV4pYcnNCUPnkiu1pwBzdQPMeYVrh1uegeMYf+mbIbgXm2I6oHKw6Geu9iJipMLIo0gRnQt4PBhfPRg4zciEIskSZCv1+IzxB1QsgSkLKa4uzxqB0gtjw4ASKAMp1uiYGRetRfSCjERfYhALm6LgbmeVp0bj7S+qZlgzoIHUYyTwduDz8wAAAJRBmutJ4Q8mUwIf//6plgAAAwBbd004X2ga/fmX0z5iYn17X41MtD3DZA/wjofv/wk/oHiQvusHrKdkz5/96cqQ7KE/6BdN1222HkxDt9X63AAML2I1jGvyefeAIAACO799aU8hUy7OJP6XSpBuDd/60gBC4RUjMA12NSAwohWfCill1SUtW0Jnj6agulYlPpRX2JJwAAAAQkGfCUURPDv/AAADAADcbXlK4jJHFmVSF7RSkwa15HuPXCoESWN/J4CD/39DFTLTl4o7X8mpidko+iTMB+EZ5pdmgAAAADMBnyh0Q38AAAMAAKOhNXuu/1jHL6xvt3vj19HlPkiRrYmXI+HrxxuPfHJ6WZ/5pi+e/PEAAAArAZ8qakN/AAADAACC16AbaO8AvDtOOXPiQjZlShPFNvtRW79p3fsMJMXIpAAAAd1Bmy5JqEFomUwIb//+p4QAAAMA8+p5+C1hV//CTnp++ommh+a+IPgWa/3g/spc/4qD9qdPwv2YzRr8CJODsuycHZfckRLL4AMI9cJUNy0pgfMFWijLVs9XjXTxdo05ftjjCSNxflWGebx+ZZKZZnXoNM2cEbdnbOxiSVe5/K9RM2y+VhzPJw7O+hSVMjlZe5i61oXZNnFQutvuHi/NgUmwROnX8XXIdOMRAdxrHJYORkUtFQLmmZOqWp6RUd9srdFbExs1DjxyaT203oAJJyWuH7lL3SoDDbkdIom4DusIKD+cvW6W5MkurJAnhGpWjDi7f1tYboIBIFqygRFfckZ1mfBqNtknHrG4zr0eywOrpcdRLcnFrGYWK/Q5aECEpBgeJp+K69qtKIsF1TNW41y6wH9JfEDqM57jwwc5rb7kW8+ho38IGpadftj8crgZeTFeld0kVg6Mi30f5M78l6Jp+9YuCzYhUE7B5iOY3h2Ff2GZC9qR8QUkfifr/slqTUeuc8V69B72mUl2WVWX+40eNZTdtNHJPwbc3SwNjONcB2TLXiNkRE9U7XRiSuHfHGoc8ebZeaV+vrKTiKcz1O78dBkopRLAsVCCNHr0Q5hEYIv/RL2GSgpye2DIWJAAAABGQZ9MRREsN/8AAAMAWJ+xkv7vSbJ5ovrYMlhcSk8OwJxvs/wYB88LRWzsF5+jSLEQTqXuVkHCg+ng8opTlKWcvwnkB22/4QAAADoBn21qQ38AAAMAWJ+xkvyDeIdKM7pDFqvUcMl7t02UwOokO7S1gK20n3sFZz3DwU3wXGgMRL/wf0vBAAABh0Gbb0moQWyZTAhv//6nhAABDUAY95Ci1u7fgtXSI2//hKQPvqTLaNeR56RAIs1/vB/ZS5/xUH7U6fhezmvugjvTYgedp3ZfckRLL4AMI7zQtxy7HFlmCrRRlq2erxrpyizGmHmtQgSRuL8qwzzePzLJTLM5Gl2GCfIjXSdMzAGTFP71MKIMpiUT/OKZ6/6oq5UTD1GdgIaQGtuVQuZW1Es6Q7PoIWL9dRkGyveNl+6TBoZG4jvukQff5zwSaaOZICHnMknL1+IQg63Qx96Vn5tGvqwpqo2LNQp1/rHsQJXVGcnHrd98aTU1G/cOJlkGSFpJ8ZO+MnQ4sm4XhpFOcjBR3KSOSg2zZr62vRvQF/Ky9m/uTxfJ0+U6P51Dad3BudvX4khI49uhC46HP4KGIhdc1Ddw0bX64sTnPTnqFolfakoFSva/uFZam3uiZd5GQYyfhZGf0HHddsyQ6YrVHS+LYEsJ91UKUfeikQqM2kwak94O2waao8+YVxgUiGvrEQergAjIbiEAAAKcQZuTSeEKUmUwIb/+p4QADd6nn4LWLPn/+En9A/fMzpiXspwGPSzleOmo+6uGeYHO/BxKAsGKNiB5h+Nmw/IUd7eTu1HqrTWED5GdTHGpy7bVMJc7eQ0X7Dgi15RvL17tkOjTCN2cBMpwKeXhALCyZCm4OUz5SFa9bA0suhyeZYlGBJGp7JBPpe0/1NIX//qQWft3TeAkwWMpKMum8QHUJi4nBy6QhHGalpcsuqNL/veUH7XeZJ58pY96moX7/mnzdCvRKjNcKt2KkvC6L+FPsyNlOQcHwWyzfuS+YdJtd2bMGg1D2jEgvliiQCL2Cp6qR1LZXmuTLBHqNWYc5GWcFsfBRlqbftG+T0AJMQpSedTmdoBS4eBMLADBXrlEq06xFBWBwUh73IJZp0XIhTrZnNCrAJgeeMcV3iYtSIf2Dxa8Gsazj53JUEjRVedO11WyN+o3dTpXq67Dz3opBTgGb6EK0tDesm89FI9akK6qqo610Dv7kZvr5xkxdMAxF54nmF4fTGu/kpGH7pIV4LA4l+a1rDZe8eLh4Xue9V5svp4FHwt4hvHMTJCjsJ0V7N0dNL7nV1kY3DiVxG+d4hHiKDCFVRidAAxnJo+Bfn3/Luyxvzvhd7eDnIdeN6HRhmaXzcsZIE8V11u6CW4/RG9fKO7xOpwan60QkRwPPAZKrRdDabYJ54C+EbRrDqHMIEXpszafnUYLis6/M2Y1ZiSgHeS50BULFKe1aMPnuVLixfPnPYzAOQ3VoNRADjMwY6qBq0lN3liAAH1tZNPu6dih2b0B0u6QAsWX2L6Anh/NZxZvbKvafYY+4Gpl5v1pPIq1ffgBkz8fJNMuH81nETnXivAdLjjEx857GYBydX8e5HnaVcMAXVovUldFxtwAAADYQZ+xRTRMN/8ABPn7GS/u9B9hPfDdeo4mTUh3CZ0y4YqfwRyN8+vznd4ZARYIbjKlAAnrsPPeiopeI0JiIVpVT0CpuoB8z2pDZnKROi72X21DYe5VG+IoiAYKtcv2xTL/tsJapUIqlXAxIaawKU7DgZ6aewrudd6uj4ZZypG8Dp06aEFipgiF241Gy9C58LexduTrNDMDtZ+h7QtakVmrn/r7AEnecPlWAlz2Gx96fJU+LcdGN/bZyvPhilfSwm33LzMP1VHVZAA+p4rsIjiwuOl7Vc9oeCEnAAAASgGf0HRDfwAAL8mjHRHsaL5kLUkVJ7whhTRMdACRNRSqqk0toRxCNp3A2yWlJ6QzKdM6DpU/N1gmAICzeG/ni3Al55qBelkXArLLAAAASgGf0mpDfwAE+fsZL+70H2E98N16jlGWzp4rgCW1RQHhVf0+BHj+gD4JBVEQ2J9KqCEnuQSmB29qjKIxqTgom1YAEhGKwKifzh3QAAACIEGb1UmoQWiZTBTw3/6nhAGCxDfgtYVf/wk56fvqKi9/MF8QA1JtD4+5DM/c2Wz4Wyjy8Fhrl8gjBOBdrJZ3y8UahO60CCL5WgW4yjbU7yvEml1eSRLpYzJp+Bqcg8AGNVWKKtN9F8aiFVsH8dVdMz9/jlCUsyxtl6ZVl/yKDMLzb3A4k1m9vrdSJ/DZtnBj74WNSy7uMv4ugWNlIxgYgKlL195DjcCfX81CBqNi+xLakcZukpgqspI2louJt3LPaKSE1LC34hDQksWEydLmNCn1Gcgje0AtU/fB9GDK6b/CKDI8HA0cQdKWNBAfxeMW52MqchKp+Ov+3/QZ2LpSo3KA87Tlnrl07JrVrulAppZz+ihwy4Ue/OqOLWTHWUToQJwo66YuqjTFrcLsS+Qg9Z0OOt9/qkI54C7hBAw32Y7GVyQXWvRurh2rLHxFzbK/1WsLyjsa9yqgJSCVZotAPRJKZAAZtVIXKyuULP11fq9h6j5f3KQrNviZrr6JVOa5kAARnU9LpV4Hy7EOZdi33WPu59/fuSvSrq2HWRdHWnFWkIBCwTRJGqOWK2GVvqptYIpQd0hdIMUrLqjoNZFdMjUjkCOcGBlhuwssyiEEmVYtTZ0eMGpPjOtQ2Z63tYCVe8q6gFJnXWHiAQmsE4sM80UC4MVq1XTwQZ3RSGLh5WkbuT1YhyKOAmUaINh5WkbufQJvi2LgTp8w1QFr20gAi4AAAAA/AZ/0akN/AINZqxH93oPsJ74br1HKMtLMB1t+hoAbq6uARNqKA8V8dBVPAv9OINGBCGtt0umKIA3zssZgAEfBAAAB3UGb+UnhClJlMCG/ymmPmWGQKF+5aeiE0gHYz3uNdT9p4Tg8yI/uwzatKmRK9sm+CdiFJetvvDWfvKo9biO6mcAIRDX02GffKIDRxj4yus6L12FuQzltTFedHEOIlwxMIdUReyfwYdWFa66wwgU1OGDBCDf+GVk+Woiw8D9DKzlgYz028+ho38IGpadftj8csSuLa7jDBElftHRHD/XHg3Rj5+9YuCzYhUE7B5iOY3h2Ff2GZC9qR8QUjRa+vlAPCKmCxL7wWIyW+kQ6+RzWD4c5Q1Qm7SB74nTnxH885gnV5YIpTo6VGQ9yjhG7Z2xju/C+zOJCVwDda5BctVT39Wga3evB/hZOoB9l+dgyJgshAONC7ftLjRm+pFAF93QLaA2aEsEfRp53276jHRxx/KXaKxaq7SWRZFVJRC6i812Nbddmj9o2ewSnzHDESaa5RnHamf4v+ruKSGwnnphqAHipJNVfW484TCWIpWzwg+tuHyq+uFv/PACRd/lKov1mzVO2o+3XKvtkx7a9eGPjq9U6PBsVG7YJ4oGPHVgF+oMbyJGomUpaqQi5cVrnUQ+BUmbCzqD+ahevKZ6da5odI76brmAiqT8Rz4rqeueQub9vwfY0mqTG95tzYAD0gAAAAM1BnhdFNEw3/+93ZbPPwEJdDdn5UvlSC15V70N82Hv33SAJu7Dz3oqKXiNCYiFaVU9AqbqAfM9qQ2ZykTou9l9tQ2HuVRviKIgGCpEZGJSl4zAYcCtaCHiydlQ0l7t1KdhwM34uD6CTh0VHzA5OSRg87hO/ZEiWuAnJQVac90+FvYu3KTWFtaF9/on3FqHBcclv+vsASifNE3UBK391kcOOTyP/c4b1s/chRRZTH4s5YT0B8wp9HVYsqmUcV2EPvPnGpLtfcRXdloYAAGLBAAAALgGeNnRDf+6ccJnmEhwrSjxzj7y9Uv5rvWQwjs875gXpJzS8Z/BmoBmTPdgABvUAAAAzAZ44akN/AAS2vQEPWClHaotCI8bs1ObGkvTvUUxkosccB83naEZ/v2AfVn05OGsAAHdAAAABTkGaPEmoQWiZTAgj/5i6PQwsPfahqBDKRwng0Qw+ZU2TZGV/E3NCCEJNQHd/+t92MEAGLRiscs4l/2clLV6ZSevYZXNq6CPZSfPOAGm0eOHAidfs4r8auxcR2sOV6BNJgnHME2lbzXj3QOcVZ9ngMfVKSJ/8xpXKASFw7SC3gHKmNQQCrkzQKtQOLCw0SV6NHFyj0RzqeE2A6XOSxrfwto5oWRyGQMmtudV8IU3eHVEsBsGQqY52IWMSpku/RmqCNSYQUlHza94EM0zdILPBcwHVbOo5DB+puLPmKaJcvxnuWIx2GAgvLLwh9tfzudN8+f4B/ht9lo55zKbNrJY4I82a5x1FS329Db9vvnLOw18gWLOr7fXaU9iTg/nv6giFbv//QEeuumHbT54DlvI8utZUmZII6hECKDDMFtUWkvi4pxV65mOhOhQsIAAADekAAAEcQZ5aRREsN//wrrLZ79SlwBf7TeWChkyThBXtEhde1Jsq9K/8JIny1EWGzNxNxS5HxQ7kaLWBi8APZSTcNLLZbYd8ATrz/3SpgXNUzd0/SN7Di1K9v2gkSAYvopkNqTTJTDuI1BLo0nwmPRzZHaaKTc3+d3pG3J554zjpXWCJ3DZzbJ0Ye9fXbzReKOTiLIjQkAwxBW0py2cQFYKCoMxS47mB8WJfvraipUp4rjPTME0iDq6sVdomA0d77K0n3ojkXgkOx9n48xQjIOIOX3RG3l2Q74L+v8a3XfSYdlwhig7EuLEN10j1DDNt+cn+C6EP+w1FDLFX2LwXIsVdLJIX0hAiwPhOfWhOVuTigoVvGkfi8h6AptVMhoUAErAAAAD6AZ57akN/8K6y2hjtX0ALLfYR1JnP0m6VuMF46lzkQE0nSuGTD9Amdbg7dpTJC3i6ZTMkuwm3LFB4el78/7ghWJghJCWwlqrkbpYSfBG4QM2Ppk4NK034gDS+KoW6rvPad/74DNRZ+pbgevAQKP2kEaEmbY02CAvvvTJc/D+2iNqI4sNmigJyeWe0KjpnK1RYyHPuReaK4klWm5TvYJUdwnMntuxDwtb6Xi8Jpx0KNOBBrSJrPCkAoZ5FCA9euKbaplgGv7IJPIL4EhF6kf5e4PodaCLICAIsf/LQS8FJiOVYwgxfmsvNFWWkFG+D1qZckPb7MVeQAAAs4QAAAcBBmn5JqEFsmUwUTBH//Tiw1AS6lsMXqlNOJqiYTCmCrOoWVF8JbVS299dk3OyAZVmTPnYt4FBkP90sAEqDYBUMDZB7I1ZUlH/OMZvU7jUv84exzq1Dx7Wpphmv/9upmseNoT8EEXki5zAQHFwunPRe7tYdibntOv2cV+NWzkd9zlegTT1Hu+tZ6wjWtkS+w7sqz7PAY+qUnN/5jYOUAkLh/XJrRdcZSJuzSee6XCM8Dgr7z+4kLIewwAiXK7hzF9+CB11+n8Z+mjO26Y1Fut5cAxPcYmA0gGwZCtQnhhZhLmS8CUTyY1JjN06+5wDpJt2+UQbM46rZ1HIYP12fT3Cqoly/GfALkvgOB/AX3YDeZND5XXtVk9TlnFhM9jekRmlL7Fl7m4Z2GVzXEDRjdcJNuiFaiV7yAorbHXZcIOFMtpnGo1M5L5jP2sAQsxIbJgI7wzwCTfJ7GTM7zZ/A90P57qzTWIKkGWIpABNIPZlM4KfKeRF7P5I9NxmQJcCRlE1oehmqbqI/Cf2lN+Gusg+bcX0UFNQsA6tZ5C2da/NvoUgJcKExCdWHu00e1IgkLsriNqw1nsMOYOzh5UAAAOWBAAAANAGenWpDf4J6WMmEpDl/Qd1qCpupYc4zF1O4SrtvUKOxqjeU6UlZC76kfc7SnyzewAAA0IAAAAKbQZqCSeEKUmUwII///rHUsNQEupbCxD7GClTvIcUnLY1D0SvcHVFUs4tRto6A76wtv8d4zwwDQsyZ87FvHLYTOhivk07dlTjMMa13E+Gzrk93PJfSaAx9//XEIjqXhtgCt1xD0mCA78XC6c9F7u1h2Jue06/ZxX41bOR33OV6BNPUfAXoN1bm6IXbtxnFWfZ4DH1Sk5v/MbBygEhcP7XvEKB/d1jsRFjS2WQb/C3TW+gS98nS9kYVNg2DKPyW3/nldZhrhlbSzGQ0oYi13huiMNKAVmg5lNbsKWId3xqInhlW+KHVEsBsGQrUJ4YWYS5kvAlE8mNSYzdUjnMkzZu1txbkdCo5gOq2dRyGD9dn09wqqJcvxnwC5PavvNLZkDe/7EYhAHiA1QRlM58KWkXY2JapR3PY3bv43w20yiDyz+pQkAcUnOL2ZIups27s0EK2hg6CBEMJw5oRNdRWDLFKoQvp5HDnpDtDKW3OHk4hSR4oSaTBqlCUyXst1cHULECC1/72kABgpvLsY4l5ihQssdjB6w1dwceTMgsJCpAPnvUY5JCVAb2C2/ANaKAH9PQLOh5nyk/TpvylmsJ7wLFV+7vnMnN6SfnQxRTUyINbHVownfjSeTme3O9q1S/aSF/u2utipV2SNmVbhGIeES26+ZeNo5MGT4YYQZ9WjXANruM8cbYYHfegDOlp5/iDfxib52Nt8mc26dcTeqQpL5+MI+jTCHhFy2uLxRSYrUhKbJzPFhzZxP4Y3jlcqWZAYJIotCZPaKInUeBR5RMAiRD4HbCXabaw2AAwEkaGoY+WPisPlEfcdXPBZ89j0GqtQQo2B7IMSwHkcNXtgTBCHQURGMWEAAIAafSXZCWdXQ8nH55aEtFwb37kAABlQAAAAFFBnqBFNEw7/yb+fto3XPCQhW4TypY9t/u9bI7GNceycrBTMsS+jgQBUW2y7Em1tWVLsJfLvhXJmwobVO7wjvREXtAswl5WLk1R8PAkQoAAyoEAAABFAZ7fdEN/K9wLK2FMOZEawsgk1ZLkvD91l8GUQiPgC0qudozD4P95Y9Fe4JsM6GKjPiFZ3Haa9Gio+BFudTBAAAADAFNAAAAAPQGewWpDfxM7W6dX5kN6MLdtQVgDrHruxdWhNeGB6gOIACIusjkASpHoO0zdevOnFRISU43Nmmb3gAAAHNEAAAF9QZrGSahBaJlMCCP//rUuxwMQal1LYWIfYwUqWAK6o4QsEK7kthBbf41+4UAfYGLir+XNz5tq2ltXexaTlNDDrTpC/YTXwyaPxVjYEBJ0WAk+ha6Ig+rmg34IcWziubyDpcQtlPEu4oCX/+2UzBo6MuPJBJ7NWb/by5eyk+ecANNo8cFu+FjOK/GrZyO+5yvQJp6j3pcN0r6CHH3Ld3OKs+zwGPqlJzf+Y2DlAJC4f12LGnRKcAByTxMA3RmD94SVagPM66/7Q6olgNgyFahPDCzCXMl4EonkxqTGbqMNbwMgHrDhUozSFFyQbdvslugCXZ9PcKqiXL8Z8AuTJricalGr0g9S1GqgxrWiEBC2I9Ox2c9BDxU8qcmnMV4KTCrk80GFr5HqDrAssBNhgAY92OfqH2Ap6HYAEWTRTu8DK9DBvf3JmeHez+7rgJh6TpbVBMDhF5yjh2cx8tJCAUXoyEEjGpK7VpE5BjzJFKpl5dmm0QlabaOofvFagAS8AAAAOkGe5EURLDv/B30YAsbhkGRDvtsBDkg20hHIckVL1cqAItA2+pXwHqPRKarch/cLWpANCx1pHP5ABd0AAAAyAZ8DdEN/Cdie7GwXeMnqViFqa0bwMrxGi+Yz1c/TB0BmT7nKlp9sQIZF0R4U44AACLkAAAAuAZ8FakN/BZrW7TGNDDDGjc8rWk1Oyqbum/wgCFvJjfkMKbhqwpQyqC29oAAZ8QAAA5ZBmwpJqEFsmUwII//+tSqdmvxBqXUthYh9oIQSDGarVZlzUzS/jQZ4ADfsyZ87fK/op+JGZLZY+0dNVEtjGG/XfsKle4+9g1RBegseQne9hkKBHQKcPQYm9qkJLpOtrtadLU7krKHG79iCT6bEpy8rllyN5UaUyxa6Nf3psoAOvFUQg3AHV3vhf5UGCCxqpaqZdXwAXP8NeO5bwBokq+b1GJTmTBQahXDsdBxSJMwm//4gEl4TlmV0YYMB6wkmJ+mXfdxV2g7CdQytYEiyP9orbSJDMIIZ+zeFOQ2QIJDwlcWQMIj/HeTUfFGbXiBNP4HR0cCVcZBr7dk0xZ9NTsQt0Y7u6NCMSAciTKPbxtQyw0NlnDpKWBvew1zzlWRjYO22NOp2aL/a6T1TcRd74p5LVoUOgcwZFRdvn/cZxuAP6vbOLWRbgOzCfHYgLWYqNX4WImZUj2K8oFhxjAI1N6cG0qMB+BJMt+cFulPYKX+7xFjNRzDIAkl7b/MDAn6MLB20XBh0Lg0OuyD/KZtFaPxICJnI0MnlylCbUtdS0JINQuFUjlDWdJ6Hj3X16gDtusQh+moNyhOdpPLorK0l8mLABH/Y7FtDq7gFUZvbgi9URYqpliuNIRRveo+AoJqGMgEJndHK0o4cVCei8FJku3xhHkk9+6/Pgxj2W3qN3nbH2TWpKuSMR6JjyCI9fTuxWEBNmC1C4uFXfznUApheTZllvfHwXnNgRZrNfQhQOLicXGop7L4l06u5c7OswFKiN2R1iaOC6G7AqM10rx2cZP+LUumKEUaI0ujRa53GO0EYPiBC8N1HPMhSaoT3OaQkG0VF2u/Tb1ChTdqKxrJtf6aGRuhzbRFQXuOxUsTJZ5zaABYeQ1NqLJcK5JfAADaiZjDVEFWhvkFsAMzouliWsFf98h3D12udstwCxOrfH/xuBD+A6i5W2ANUT6UWhBUkBpr6QBfb9j+lRcgbh+r4tC6u9ipuXZf1pricfcvwhuXPTNt2+VP1y/p9VOuHJuGgMraqJqa++bKFy5MTGWpDvSssALqjgxu3+NAJzFXLRfWSQ1SpYZmoU5a4aIHTqA4ls5ESgaLklN/+Qr4VerUdq+qt/2KcdttYjCwHGIBYBxSue96fmIv+bbfGUBnPzADzJ++V3ssYl7HQOlSPpCBpVFCvhT/fwJWtek2voIM+2B/MXOMA98zcU3zRUxCREW0bsLKkA6IABQUAAADVQZ8oRRUsN/8DfGrk9geKWHXge7+7cWhL1ya5NAAsLl3KeSF7ozBtpx8dSNtVrEDTJFPoQml/878OAKBKKtoeytTzfyf41OtY3/dbVjrzl7LEzp5SCaQR0yvOCGiGoZiBVA7RzuVx8LK7rnd0u59REFyUWpDRtfYo4vDLaJejRPydDaeUdL7LSsrnL8VNBY/J7DlMGjhBZTH69fTXl5Ksg0mQF9uADqvQrki/sdN8WAsdh8JuQlPbuVEmNlsHqfvQA4DfqbKTk/UDfBtAPITOJdE6AIOAAAAA7wGfR3RDfwN7J7vSRuxk9WPE/2X+X2NjarH3flAC3rlIgvj//rk9bsGg1AcvurxZwroNLlJ7QLTTmN4kBTLfZPsoci2I9TWXH63LUS81z13AwT2AnMESezPJEJ+B3hYPREnl1LGTIvvXnHiHj+OpJTP2MJ+XfBkZGLgqUGOxbNiuZXs3szIHoIKsBmL/agA24pUBDu4BJYc61I0hpzZq6Gll+Dpucts9ZEYhtilIGvjE3p9+8D5m+yXu5qhDvslGFL6nrx8YvmocSdJ0Qt18eT0pcmz9eY+nqDMTDypke4qtW1FVaA6xfryrwBMAAEPAAAAAsQGfSWpDfwCTRnnTnkZAcZ0B83+7TdsztgxhGb+fMNQALqtPIoXd/9afW4mHbJ68TH7H6DtuJGn0cJBDkW7HwI0wH6G8iFzTm/2aQIf502Ou0WMP/TCSAn5Z4m6Bn24NwYLZjbvrsG/p3oXFzcCaLwvyjdyVv4Q+T8H11ljmUv6qFWCwAVAneqLJcrVJx6TKJO98u1jVA/hIDkS6F93aC4xtnIoAClOPUIqtZtnl+6AD5wAAA6tBm05JqEFsmUwII//+tSqABEfBGh3AIQ8PJN0f6iKh77Cf0u6RKIwjEt6ZSiOl/H/kdpGtyrTRZc154zYi4yzLJsb+wXoDUpoy9pjSN7fcuDwIrEnvlKbEh06YL+2H2DDHFK2AiSVh5rOW8d0Ks/HydvOgP9AKQXApHhEt/tUhYg3nzJmiO659zm+T/16ULRjn/VKMJfgRs7hOEu0ksytY44T+xp+dWMrkfjfbtn4RlW4RN1gwugFGGblbNmTwcGp4fi/3O1A+ERO4Aa6DPJqi2eqgpui8gATrKb3evQ0wsEJoWfDwtkFhY2wHqucjYi1sMbkGBfgACBE95k6dHvdMhRSmbx5JGDIV5qP/jBBDkYDCaitAxmUVJYzByl4kUC0zWykvn+jUbESzkFINcmhS/3s8Qs4niAkWmRwKzJ9JHxg1LDxZiBQW49RtItzVuqk7EVQSAvBLpre46+PnsgCazaouoQXxZTM+THHuoGW9i3J/AmLgrBjiaF+Asg4kXMi4HlHkhGmvJLaQsgAK1mIO2b/8iD2jVtjrNpxFVv8dUnk8PydJHxlEMJi+G8kw9i4bV9v0+wYB/S0RPEixexH+3iwDw5FmqCwTWGWR2tyW/DRlbaJw1qAl6rYfpLS4tp8Wkfx+/PfkRb+FaumhomGTTYS03DAQsUq3AcvLtRtBdklCDehggKmN31evb/jnxR7lxvzLIdBp2KqGKB0DLoVlJrgGGVzOJ2n6W9jsYZ0UnxFAAAqAUEd3/zEZtjr5O1oWZLQXBL/HwNdab2KpZiUsmqBx1VaFQaUp2ce6hIneYlSxZ9RLNaXFGHi/lDsUk1hutAsfcqohGGHK9mH9s8tl/MTYeufcxkdLwiky72i9mhg++13YO5vyEUB76TEkj+sWRerj3aHrDqZ/IpA7KHj7Bpi/cKQt3BILJMYSGnkx7wh7TcxZipdOyUHbKFvnqhnHTRc2JEzTv9A5INTpzP4CAQOtUp9w+ZtHSMggViZi00ADtoaUks+XPk98zk3lykMjHODs9S3i+nBwgHcuQE2SFrG4pvOaLFC5l24I1B0gT4+nonKt+7vYQJfWmS28wfmGC4DCGdAtaXakDQ1p7lVsHBKdD0IYpXwrw+OlaOxpX3aLfsmgJANTBa5RmvM/0e2TUK2hb4KSSbZFmTjChXADc5KTE+cBclDBGHvMuCWgQ3k8FvoHXJZVL4kuG3Ase38qDfKtBvukWltSXFD9AUq2hA1AbqJQeRHnUV8AAAD8QZ9sRRUsO/8AAjDkmy7/VPz06ONQl0UmOzKOGwjIsIaXomYzDuzh+HOknROK7Pit9ABxvTwLeH1f//lp9L9Ovx94x1+MqFlalugQZP2fldWKse105G0DNv/X4Dnxb4L4WGwWr3nw63i+QV4ecs5r/01kt6kE/w1WdxVqzXhD7Y3FddfCQ9a+UhiYiTg6C73Iv2awJ87josTCY+RphvGGPJd94eAv2GO3AfX/MUSSwNNwsaoxku7PTuiZ0MDIvS20+W9eVjzVwtjSx9oG5kXny1LWdx3qATEjK6vxxdMc82sT8Uvy0QK4VML9BMJt3BN0MaxsCAq6bcLTgcbAAAAAlgGfi3RDfwADI9VSqsUU1LTW4E36w7dNM30rsJABdVp5FI2H/60+txMO2Ty8TH7H6CY7lBAw6sFbY7sfAjTAfobyIXNOb/ZpAh/nGl6zAHY/6YSQFAYtkAKF+I9ZQKnSw2767Bv6d6Fxc3Ami8L8o3dLWwHCr06pteuObAJg9Xl62Btc8uSkoQE7gAEw7+3Fq2shvrAh4QAAAK8Bn41qQ38AAIrXxP5s5d5z+Hkt9LD0Z0dC6G+1ZjBQiQAXVaeRSNh/+tPrcTDtk8vEx+x+hHniQxcOrBW2O7HwI0wH6G8iFzTm/2aQIf5quPOoJUP/TCSAoDN4m6BqtjKBU6WG3fXYN/TvQuLm4E0XhflG7mV3d+nR4wG2vXO+QwEuErui28TDDwgHWZamUSd75drGqB/CQHIl0MAExjrCYTq/QBJKBINb9sFeP1llAAABX0GbkkmoQWyZTAgh//6qVQAGewKquA3eBHU0H/skAfXslSpA/ZmcCf7QN5j1K/eUa/CERvxFLtajXedaiAJKrIzXFllxWOj60yL+DAL6c9DTQVavtDHEYNL01qATZvjofTYaTSwy0tIVDw+zX2jR82R/xr+64x6uWbpGFEi5SbzbD/0Kv8xO44WeUnXQhn0wcTiO0oAl+APNjLDzCAMPk4M2FhBUGeFIpIecswM1+jqskHkZNsQ3SGedUb1yC8Yjz+ZTCGAZFhBuLyA6GYb4DYiC4iZaTrK5OxACxHui2u5VyDojG+nT5+n+MqVifjAWtIPTPbyBwMyiBc9vTy2US32PY685x8Eiu+JqdFbGFbOV/yeriZ7n5972xa2JsJlmJYZ+f8VHRNCyX+jgU9FJWbysuIZiI89sPX7TJHXVXJTYk1uACqT4JpQYzC2FhjiWEpP//H659YAiWuMN/gBkoQAAAOZBn7BFFSw7/wAB3iNAxuQzbfhBWLo9t7lmOIPQJGNzsN5m9zGhG3qY2AFtHhX7zl1P/+Wn0v06/H3jHX4yoWVqd5wgyfs/K6sVY9rpyNoGbf+vwHPi3wXwsNgtXvPh1vF8e+d61aUn/g5GK9ie/eUNsZifqzXhD7Y3FddfCQ9a+UhiYiTg6C73Iv2awJ87jouJj1BIWjTpDHu3hQJOH1KyKaff/QhJYGm4WNUYyXdnp3RKbFwb3mCC2BxvlNK2IQ45CgDAWrnJQ2dx3qATEjK6vxxdMc82usrM/94ZaKPJIyMi11Og0wAAAJsBn890Q38AAqB3ymx6D2iTqkFzNAlmrQykSnQxPsp3TDESAC6rTyKRsP/1p9biYdsnl4mP2P0I88SNPo4SCHIt2PgRpgP0N5ELmnN/s0gQ/zZGedQSof+mEkBQGbxN0DPtwbgwWzG3fXYN/TvQuLm4E0XhflG7s4MsnyLSKKtpOuE1YPV5etenpfcrCf4JjAZHRWecuYYhzuSIYAAAAKYBn9FqQ38AAIrXxP5s5dGEoONfhUGYdGWjoXQ32rL4ABIALqtPIpGw//Wn1uJh2yeXiY/Y/QTHcoIGHVgrbHdj4EaYD9DeRC5pzf7NIEP81XHvM06f9miDm972P5ZDQx6ygVOlht312Df070Li5uBNF4X5Ru51eLApzULIKtprLscTKD2bvxKKb+0dhALd/Tu6Sd75drGqB/CQHIl0MAKKwgeFhsDFAAABckGb1EmoQWyZTBRMEP/+qlUAAAMAACU6Dz/xCccg/CyVK5kLBb9Ol/WaMmHcvh7kp35y3rTPkt5Ib/hhbh6yapdPif1UTvmQT3QFIFY0J6xWaOSCoAmiMg4eI9yf9KWlXpGLEWjMGyNFuQhoua76oG73Y2JVbuY1GuATrFGFEuiyw3BLkjjQO6HFK4Fvd6mKhqdKbYKzaER35afh2b+V/2ztLC9YtVIluYRRoBHs5fua00NRcC4vude9cR8hxHLTwnE+EVMWj4qQ+WWvHPJZvmC/AVG6UCxwAWvZvf3BCeNzP7mtXZIf/HbBgB68s1F9SUcvc83MTuOFnlLF8uwN1O40gpblk808kAdgv+0GGfZw284XP3WoOo3DNfo6rPnVxN6aAlDY1gIfb1cxbDQymOJG46+PjqnvGP6yhosK64BWkQN0D41uX5fuNfvo7si7CAoX/+uaLUkP/b6pr12PP6zw6CYCgWdcP5YLoNPEYT5ta3gAAACmAZ/zakN/AAKzMCIal+0M33h5irAGvkDfvDFgTlLnaEwp/IoIowAXVaeRSNh/+tPrcTDtk8vEx+x+hHniRp9HCQQ5Fux8CNMB+hvIhc05v9mkCH+fAbuMEdj/phJAUBm8TdAz7cG4MFsxt312Df070Li5uBNF4X5RuzQRf2G3oshteuxK5gJcJUdBveAg0tpwSc5IyiTvfLtY1QP4SA5EuhgDkWWM4AAAAclBm/VJ4QpSZTAgh//+qlUAAAMAMpVu/glpt0szNMYO1Hg+Z31txQwomkQ+WvOkv8/8HCH1yVD/yzroJS9n03ARePr2229C6E7WPZP94L7ieW6hDFOWfyx/OYKncW7pfiomepen1vWxByMwZdz/P+ZK7NeoAMdnRuM1Nt888Gxth8You7yDGcRnmmTWa5/MghS477UiOEWVB/2lmXWAluA4wu6JapctiKoYMecwn2e/GAW47J/0M2An3BxoFPPjvzs3HpWVr9BA1JPll6wUaKPtHm/qYYYj/S9kaQEcDDLUbv9q786buJs09cgrGnG6D5dQALnjFzerWPH+XM4/d2YCGPtdV1kEgF+yP2i73RHnlPpV7o4eQLy0d+7v/8wyDruEW3PI76eBFbXMkH6yHr9m2VuCtNauT/WtmPf6Kbx/S9CZ18zC7570N1ZshJf3lRnuI27SZNZpgYnqI1M3U/kbX2cQtFzimOeEk00WV8pnum4rbmP5Od8ekdx1rBCOZP+M8O14vFVgcH92CIBpxe8vnxK8bO8zzd/uaxradU8jQ3a86qK/uxN/Qe6GDDNPrOcKzJceyxccYz4alaMp39hzaYBoL6lZkdKhAAACZUGaF0nhDomUwU0TBD/+qlUAAAMAaC4kBfz/xyAfQ8DV4B+zzn+FiZeLyRwXRsW3HTvh4mzIxTYncATT6erf7mx3hvyw2Xy+37ASRk1K/r2Tg3GAsZ6/eo/ZkHx9x/wIHcZtQSGV9Yamr3+dr//8Qb2xd/hrWYGGHW6LwG0zXSh8ZkHzJVHLp53jQuSxuMymUG3iT1mqwqMNQs6mFZlisfPJ5kPkrnwpbYCRJ3lmFSlJrx7AutGcDLc785QPEyZ6B5WIKSxK5cGB6dIhOL8u7WBryh5+b4oad+IKkd21APDtaZuaTQvVhuwxEY/o3LryKbwP6AQfHiPj8coCjcGgDkGPMRHe8rubmsX4zwi6hn+2z3E6ggMrrCmnvh6l4azcRDzc12pt1up/68uMTVBTnxuGYZNu0LTrlNpXrAcNM6SXDfL/zz/yr9OItkhZKpuhqY74hep/OYVMHP0aYORD1Tl5uZz9PSEXEBFIokv7HWxa5//xxT57CZL6UmssCj2q9ArN0Q4NrmnwtQwycTajZtwyoQXZWcst+YqadHwo+wF/xUiNdQZAUYcP/NdsBchqh1WAXP54EpLea2wdtONFfEf7SCpMeXzft+1wOlcWUdOheT6nfx7mbwrOHtQh6b+d2KV/WAwJ7/FPb1AYralDJZDtaOSMUamOTvfKkT799zvj/FrEyanQuwYfW2DkJlDUCTY84BMAkPP6nvxf2audaEFGILPpJ1vIgD23OvBcLnWJIu+pYcPEsalX4YlYggE1QPgu/LAdOUCCBX5zJJ6ieEEFSPxZNLfaUgAAWd0jX9l5+qgCwIAAAABIAZ42akN/AAADAR2vQDnPRpCHWEh507R05pedlXErAAOLMACI4wIwLBlIikhqod69KuRa2dx6jY3qL6ggVfDSG1QDtlNIor1RAAAClEGaO0nhDyZTAh///qmWAARnQdaaD/yiAInJXnGj7DllGxCpDl+uEirvkMv5nnOJZdhGPt9adw95azBqIw7EOFKcd8smROSGzkNPGvnw44+/SoRqI6nx2urPMydwJsZVjMmxoHIVlyWP18FM/To3grAPKci8HaT+2BYoh8DS6HWsumxZub8wmt3JxSDUx5cAZgPsgmLx9jHIL2SIrlk6V3tdI64zlX3afTjSfJI4QMzpfwwDBNAdPxTmthB+Gf9xwtj3fXKthJu4l8Zi+2i05MEzQpVsLNws5ILYpPN/2UH9Ylry5Jj4s7gA/WbP1GUxcvotfmDj7b9+QCKPSOtY7Ce4MyG+17/JrWb3u0Q7O08HukAJnf5uVnxXQH6QmoD2BM2nbSKMYmQgZBWts8nmiwDrQu1BdaZf6xAfnfPACtf5+AnadD+joz7iqG19FyBZUI7zDb4//k+QXqnpexM/9eCWS6hkKuCUhRNJKqQW16TT9dgTZDLK91ftzdGguHeGaHNfFU2pMjaB24cqrbHzZJWDXgkYJxgT5DyH9c+YCKfUOA98wfXCrk+ASaSZJwcMr1PZNvyiNZ3UJxmYBOllO7n2HO/3rGbLdlcVS9TnOPfahzASbQk5FDgM9Wd2El/DCYv9cYxWkBAwsuPj2Xf3xmWW5lFCKC9uGh2OFondADdbPbyfdPHvsDhy2AYWF/jwvpRVBo4qbzjIcSn57nFh5OU7CNLse9zLDupjS0hmzeqCrhyQuqfjAA2E+yZQlJt13AR72V2sOjQIKabGcBVXpF2tjGGN8EtMa9PzRz2Y1B+BowKWsAGw8rSN3OcSlsIOw0pF+UpClMy2N2WbvqN773J5R8FwIgGw8rSTNY3rKYGnBhOV8QAAAP9BnllFETw7/wACMR/Xm2N6fmQTk+MF7RyxkwRJQ+citLViStNwAaX9AqFXNMG+wuVYEAlP0rPPpoLz2Rqi4lXsq17U49Cj9Jlk+QNfFYRXEdeoDm7cYoJjgHcFTqrg5aa9YdSHKgHzPamtmcpE/lg1fpxdKcqKvmXcbdoCyuPrFMwAJYNgTHSSO61hjXlgUw2HAz5TwzLpdF65uhNI3PE4HtLfgxhYqYCrIjcpg9Ghmk0/p3LjEV7REmPpind4WE83xu8RR8Rlk+l+EEifQtIcSVMZ3tNdM/DgvWwbXccAlvNT39vIiUDcXqrYQhJfGd43JKpxX9gBY5J7ZkCuR8AAAAA/AZ54dEN/AAAds97WICixDhHNGHtHj2u4usADrJzIB/kRZma36f6WOYDh3hNi4FZXEidZO4Cy3Bchafl8Amy5AAAAOwGeempDfwADJF0mIK7RIQ6wkPOnaOrqyy3gJy3Mm3e05R4/KqHiLi48I17Q2RpufDA+jaRzoeEjFAQcAAABvkGafEmoQWiZTAh3//6plgAW/IkX8QnBAAh8AL5/6ZHyXUo15RdKjlvcXNUbGAVjGwZh/wq1JQHkduyCxEzZBUrLidX5RXIwor9U9HmaiafdtARj3Akt3dspYZgK8jvvDBrT43Z94V1c3SV+YMoeYBrQRDWSmSA3ZAu+ddmTxXcaxCEk8Yi3WPzv0xHax+JJ9WeUlz3gpc1kNr+WKYC/dZruZxu72BZXDyPSJHpogs1j+xemYVwIatPBeBdsYnzhgVZP6vdu02JfNDG02OsZVK7+XxEoZOMK/AW+kV7itf2HHuCpuhudGAG0dUoHXnJhS/mjOLV1LJenPgxsGeRwAyuLEb9xteL9uP/mxJnG4kmWw8Nr14UphHI/5J0yGAN8hTLlu4g7FmJwlfL+TQL4A9PFlrSIEHS2ASGrKcPIUExMh9Mgo66K/gsU9tL8JUb7psa033kI1Y005Anm5u+V1+i3qFLbao3ofnJVFaOu/tIM5rmxMbEmVNACSFXBxdZGPwo+77KPxKDNUTxGa/W8Fc5oZGWoRjiw0C0zrOQ0vlCs8Fc5oZGWoRi+gvio4XwKY3SreKsaz9xD5j/+IAYFAAABrEGanUnhClJlMCG//qeEAOfcQ7+ITeIAbbTOVKqK8qnXtycDJbIS9kXyxfHSzO/dIh9OwFdnaJdXAussNXkkGkJDFRsfkpHH9k8qyUm12l4/+6mMyQeOv/8fff+UmN2O/zR2XhadfZR/1VdKvLhDs40ScaKQS+W2fkzPyaIfk3tptgup6rAXPZs1U4927i9oOb1KPftOFnZYiorOmcI/5o5knklCevJk4xXHORRgelmT0zxbWqADrSUs5EA0BrOqHFXlOBxi4LTwNFePkAAYN0rDbnv9jIKm7SbcJj/o5z/ust0lGQj2/YvLcX82II/A+8MBhENK96dP6aq2yZ4UnyuwIfJ/nqwTapIVzmiFZG+JFQ8DvEa+bmn62mPRhacPtkYXd8gtzbBu8T/tktkN09YcfynMoO5k9QJYd9dcywq8f+uvvLZ3RwnVDT6lVqOUJXxaQYpXSba/R5uiCnBmtg4bPzDAP1zoThrNk9jNu31UFhnIncoPHaISUtZATmN2nVumDYc7wWg9xPDC+tntG7u5XYXPYa2KSsH/OjzLH1G91E3AAAGeHSDUAAypAAACC0GaoUnhDomUwII//rUrDKwS+H+R7mf/wk9k385nx/xjOx8FpadzEXwBLz93AYPy3I9uu18y1pdYgApXpzhft3sZPBphVKGiawXx32ARsXdRU6/lcKY37yZGFmcqetIPB82S4BjFZ+MdxEA/JNUXnrpfldccoEC1hUfMtHlGDb9oksOIf8GariZg2Kh6pQDxEvL2rTtHse0H4Z++UxsFRvHmXenAeF+m35816GziVE13389c0jO8L11FIp9LEBrGvItO8Z+YQURejpyvWM0hqeQGS/mCXA2sE/km6Re6xoYNek/+q1ARtiCd34niNetcgEUjQnZQU3VhNJ5jrZh790D+oPp9hpCkMw9PbHSD1vwtwAhyIEoiCf2911G1yW0Iq6e4j2DlJ+Q4/FqtYO22TgUvmptkbAAAknJWIg9ID3zLSKXDxfrP8gF0o/0xBlx1xqInBafUo1YTA47xERoMYKNGlcb7AFMPEOuqfhLjVMGzfX57beE0jY1EUcOaISA0JOfmGfuCBWD6EvI9KNDAiFL68Pxg1gAmEfSW72mWAag2+GoNYMMgDCbgry2K5byrQcHoAP1bDvDBRB3iPE5jTMTzpJOrh9NWXjdaqqWVbgBp32WfbNWEwLA8B/AgE9TeHdE2CxAY0owb0ABv4RGDOwNtRd02cBIOiTvElevN+JFz8FU6eqT3M0YABHwAAAB3QZ7fRRE8O/8EKouNISbn7bCzCk3DaXuPCzZ2zXMn/9m7h9yrmneOTOFAAB9vyKCkYUsm8AEZWt8rYDD3Xv5n0wwF6E37utcO6+Y1YlrtNxjAlpFhdmcQ40jifT43d3qNyYDxcBL3oO/SWtZUNBrWkO9V/6AALuAAAAAsAZ7+dEN/BZhO4joChkjr/NvibOTLNQXGg3+atb7ZXJRlZbwQASlEzt4ABD0AAAAuAZ7gakN/AAKy8+SHrBS1pxeCvSu5uRhSV2JA58xlxXqEMbPDAvmd3dj0AAA3oAAAAkpBmuRJqEFomUwII//+tSsNZYagJdS2FiH2hXFlw/q6XbAyfLn7VaLerZz/RK5xAAb9mTPnb5ffCGCqcsbS2dgn6iD6OEK/YUURqNa8JlHgk8B6Cpr/2PrbktWeozyVwy/4SVMGoeORTL/MfyeWGRFGeM3yrbZZuDeJ0ySzADpcAgF4Tg8wMIM1s2I+WXLrHa9d0kuVgwIM+kI85/i+j0rQED0JuUtvgH25Qq/1F+xD3gzDSDFlz1ke64nX2aJqLFp423JoR+RKetUmYdJGFf/LNqPnkNvdp3si+9y4D3KPxdOfFCzHQOxY26dBrKaDxSJJ1xMfZX11R8mmGaLvzjz+D5/c7irPs8BjfudKGxtE1yCZCnsGYRgzPP2BLcZ2F02BsMP8twhNJbTqUn9e1z4chlnezcCqwy8MdEKeF4qNxjuO/HcvnLd2kqpC4KrkWLmpsFgGx/IQozcqXaN6Ew0DRDVGvKHqhLWtrE+r2PvEmOuiw7DWuzWdDALoJIgrXKxiNbeXMkqyLdidcoU+pbfFmo9GUpcKJNamkDJg9sW3O/xVPrXRJlzf/7egQSODw64C38YvIqpKnqug9WjV+BWotsMYUBoWzRIxqqt9MgtLpXHEKzM7du4WK3jAP7RrqNS6vvMc9lBuVXEYFT2OVcb1a35WY0s2AS57OVomx69Oe7x/g2q/jjd1BOggjanbKRcZdkD/gyglNvITAF9eDRnZRu8tEmdSlVP4NfucPTSEyGX49dh0V5yfKUqOlC96bwIIV8kpVoqgABUxAAAA3EGfAkURLDf/BZ5wTmk9q5A+ns3dkf1e7rovNjgSDtQAGe2h56+LSUm6VuaF46lzkQE0nSuGTD9Amdbg7dpTJC3vujSWKScAshyPYaVxRIEMOLwMlfQJb3fydmX7hTijiToZZxRfarSAfZPk8v1ewobsg5ahd/+oLk4OBi6Ifj68Bm10RxLP5zvWsi6MrYe/VwPGzG6HtoUCZiSz2gqAmpWqLN2Vx0ntn+VP7hNlaVp7tT4ivZn3ofdhkIW5lcAqMUFW0wFb3OVPBYXsn0OfQ0gEpAl0cvbMOAAA7oAAAAA7AZ8jakN/BZrWF0xlBU7LKmXNBeQEVcaZkoKrErZq57Mrz2gTYHtvBb963BCQCrsK+lsmYmNcstQACbkAAAHbQZsnSahBbJlMCCP//rUqjx4GINS6lsLEPsYKSYUlHCFghXcZT4IurS9G0d2B6UvXQOqVAzNmrgzoc6SfbqcKbVKnqXZBWkpvp/73jXG9Kj08vSz9Lgi4fxeg5PS/MePT33EnyA1g6vR3Y5wQTuxJs+8mA+TpRU0728lxmThxTW/WHqYq7eqC7t3I7bF2/+8qKCsWeoxUBVPxw1sL6+rmSoK7DCuAP5v9vRB1l6Bi+iCvN9VfLTzikcfkDARSzZ9bw66nRuC6jgsjgP9ubsvZvKglpSdVCA3coQ+OAZ/21/0lHYs4zxfEDLgHkld0FAA8OB7Ivh8c5OHYFT7kmgk8W1hw2fxnU9dPbQFuFLeKQixsUYn/h9n+K/9Ip+jH6RwAQAi0cAKIxJD4CxYjL7oZLJMIejZIoQC1Jr72H1JAa5TvZEVwLjD+wmhP3ch/H/wwshoH10p+/waP1Wxfr2Na6mfE5QvrQv7O5U90pVjxUMz0O2FoYx+r75sCicJ3Kbloz2KeiutJGlXHGjKGSXoWQjiq2UH/Spb4AA+LhfUD0OnIf9RPqfhcwAWKm6YyZn4rD0yx+HdArlU6uGPEN1GFdExdT18XLXIY77skfZG11tHqOgPwxChimWAW0QAAAOJBn0VFFSw3/wLe5cwMZB8M+YvclyuJ7FdmznEyQb4M/y0AQly7qVd5D6+fP2Ts0rjgmvpwv9nwFC1f/3VGbIwi8/q/tkWans3VyhyGc8gi4UMutNNvfC8cFMv4mmyhyP3m+wHzIeRJoqdyN2gZ49Zkh+jTTJeichyiDhEYVi8pTpzpwIt6HUx5UJfqolGmeuR2JYAPbd5uVvBBu9izRMYlAPF4sUsrml5GCR4QeIo43fmZIKFOR22lR/H1Rj9/9OAqgD1KhVu1rM1holqAQi/lRQBtY0Gnjiv1UQSpGqaAAC8hAAABAAGfZmpDfwIUwxUNP8DLjwf+kBK5fGWYuPgz/WwAkoDOVKcd5hqvGAamL6MmIcive/C88nX+DZ2Xx+O3AIdKBq6eYzlONNf/1SUrfgeomS6vbp300HHHrBSelnv9qFC9Myuc0sASnzJHc1voZ9OFaG4FvO2U+c9uzs3RCc4JJifdiEaO2/PIqCvjIpZsqJFkzhKCRCfCvm5AcNw2U71ohi+mkuAQomE7iiUUwHaGalnBZOcI2V9JLcqxxjBOyfCDNoBynPiKRTkF84RMezah6ANgg2fs8QvtRNlV3vUpxaylaVppAMcs+2AHL6CD2hjz2z5xBGlhVdRwcOADLzQAO6EAAAHiQZtrSahBbJlMCCH//qpVAAqXfVAkEMIjegqMfxEaYbsEqcC2bPpyz/wZZKlSB+3eBumJh7BBYVTztDJ+ETa3s18hTbl4wYnzFmS7HhTvqj8EyYG3P7sWV1U/gPP9K+hyNpQ7UGDwJXwaKSDFxTAc4+71D7uZ2mlrIV/2+X9YY233VUhWsNlD7Ux8BKlNFr5e12pnGwSUqSF82N3neoSBVbtfVGVcx3nv9v2953+a+G9wna9o4oOYXeuidQAAAwGvT6twgYfnW+trNvB/6xidGXcZA0Td807/9VRMNmdGegaYedmcy018LzLzQV4/4rH+OP37ym1KrtkC6gWG8A/IFPmYkArC3uvYUub3PO8uFMfssRCyydKMpOnj7c8vEQIXPK8sE1nAdZsCl4d27d8U1Je/VVZlM/oPgZR1rmzcr0z02pdtnqVfX1TGzq2FplvvLZdQIEY8VjJor4tJFBbOk4sdJ+u76VIWmAuq2KUcA6deWUxGeCymNNY0uZSvG/XCkPNcCnvXJMSfFPONqfiAbZ5bCuA1on+kLHDWCXX0ck12DroN93E6yDw4jEXJkmNjGsEzwKg4AC/sNdzwx8K/rodvZLGHBDl4dXmUAAKpwiDjxnfPeejI+CsiCMaHsElrpoAAAADkQZ+JRRUsO/8AClGKbleo9DBuwd/ajV+l0Mbsf30lGrXUAHG9PAvZGov//lp9L9Ovcb00ai4WViJBA09n5XVirHtdORtAzb/1+A58W+C+FhsFq958Ot4vjsIvWrSk/8HFTFu2Xod5yS/qrNeEPtjcV118JD1r5SGJiJODoLvci/ZrAnzuOi0qzznFENqzOkMe/9+353bUrIpp9/9CElgabhY1RjJd2endDBYM9mRmV4R44I3Z8q8I8bbc5KGzuO9QCYkZXV+OLpjnm3whvsGtx0ofvVPGvgFEvPFVLsv54DpSSIegAAAAswGfqHRDfwAOfptKqxRTUtNacLdtDvzNNpBDhdM02QAXVaeRSNh/+tPrcTDtklyKTXTfjVJ3DqwVtjux8CNMB+hvIhc05v9mkCH+Z/jzNm7/+mDcEeJ8SD7gx6yggIjfQEVgBt6GoXFzcCaLwvyjeAyqt8N3awIdtl0jD6JtOOJmrfjbMYNUgW0ChXBL1luzFgrBDXxuBD4l/UTp0QIJgY74T99h/2GlDUCIAQizdKcMJguJAAAAoAGfqmpDfwAAfDtYRhsL+0JyuRzkH6AC6rTyKRsP/1p9biYdsnl4mP2P0I88SGLh1YK2x3Y+BGmA/Q3kQuac3+zSBD/HFDrMAdj/lHlvKgh4m6BqtjKBU6WG3fXYN/TvQuLm4E0XhflG8KGfNAXsIhVswsvNklw5d0W3iYYeEA6zLUyiTvfLtY1QP4SA5EuhjNoLZkeSIAAGq7J/Esk2EGAAAAEzQZuvSahBbJlMCCH//qpVAAJQnJCtkqg0i6ExCn8wnXtWk+wD66TKmmPBI1Rg/bIIkF2fdSAlQAd4DoC5HussCXuv91gAHaXDJYsTn/veNcYoDtXrUpdJNjXDeI/mJ3HCzyli+XYG6ncaQUtyyeaeSAOwW4Z8Butv16EL+IJP6b5wZwM1+jqs+dXE3poCUNjWAh9vVzFsNDKY1evnUnim7MQQMayDYiC4iVM7sWUU4rLJ/G39qSgWuLJ7qliD/50TG7mqhGAw6jQOX6GrlwsqE31et9tV62LEDu2BbOhURI0SvpvCkwbV9IrbPYP676JfEnfCpHI1UdulewX7hL/boow1CLC0c4J0YDQGcQOhd9KJPKQbIVEOsyjxy5EIuVDa+yzIRcHmc9EEIhShO/YIUDNdYAAAANdBn81FFSw3/wAABLYyUjDYX9oTk2lr4RHm8bQnCCQAjK07paM3e//y0+l+lBd8aR9RY17RVHJX+z8rCxVj2uaklhtFW0PZVq1+Cz2+gFqxv/ns4vi1KOu0WMP/Ryxb/1H+1hklMgs14BXCNwu3Xwivev8Y5CLQt5hZ1yX63BrPyvlfZkAZ5LIZ4g6g2fwQX6oVkV8+/+PuxXB1MJRjT8fVQI/edZYGResQdFApacEoLtA6si8+Upozwe1cokPiur9PpjPPNwqGsvRETUStwACGsbTAwgNSWQAAAI0Bn+x0Q38AAAS19ZqqxRTRXq6D9ysbI6avz9ABdVp5FI2H/60+txMO2SXIpNdN+NVf9HCQQ5Fux8CNMB+hvIhc05v9mkCH+QinnUEqH/lHJ7wOvadBKv/NdDgwWzG3fXYN/TvQuLm4E0XhflG8OTaMircDOsp6pi9gPV5evTbMSr5PUwAAD7U6MDIeTYEAAACHAZ/uakN/AAADAC1p0hrOgv7QnK5HOQfoALqtPIpGw//Wn1uJh2yeXiY/Y/QjzxIYuHVgrbHdj4EaYD9DeRC5pzf7NIEP8cUOswB2P+UeW8qCHiboGq2MoFTpYbd9dg39O9C4ubgTReF+UbwoZ80BewiFWy40Cavn09oMBWzi1BYDXRAABhFPAAAA+kGb8kmoQWyZTAh3//6plgAAAwACY/I60Ewbdnx/1SAFhgBfQCB4EAUClo3K/oadUeuTRZNSRBk7NP9egfbpaNoD+6Nzy/82MMvcjy53CFy6sjAHBL3Thi8AvK+1QOduZgT29q+BSsWgmADhNYAAAGYf4uj03712DP6pvLSHKcdK4EGZkjbZoQcOrpW2O7nwJyzXppcRXpwPMxtDof5/Me1SAQkneTiCRj0JBwaPXcCp0ttvbqGoGne76kC1OBRL0UI70lm843RHvvemRnSlS5uEK4KTQc+Isrwri4vXJ6YZ5W/YyWv2wknzh1uBDmAV4xF5zlrhC73OK6oAAAC4QZ4QRRUsN/8AAAMAAbAAUNayM6+2doJyACZvfXwJu7xrF72AFvWnkUjYf/rT63Ew7ZJcik10341V/0cJBDkW7HwI0wH6G8iFzTm/2aQIf5FqedQSof9kF4B15+ax6tBvFQzc/ZjbvrsG/p3oXFzcCaLwvyjeKRCsAZ17WlBhFJ2vNBHLxFSgvOXi1Th+QZg8QGMVJQLWw//gk73b3CpHucsBgKro0ag6hq5b6rjYpPrBPyO/uJaZgAAAAJkBnjFqQ38AAAMAAFQTpDWck3/cePoRRs6+jgBLVp5FI2H/60+txMO2Ty8TH7H6EeeJDFw6sFbY7sfAjTAfobyIXNOb/ZpAh/jkB1mAOx/phJAUBm8TdA1WxlAqdLDbvrsG/p3oXFzcCaLwvyjeE/koldRpD28EmSQwEtboy1vcIeuwgFu/p3dJO98u1jVA/hIDkS6GM2bUulMAAADnQZozSahBbJlMCG///qeEAAADAAAIt8jVu57bH4/7HAC1uXdSsRS4sJsIiTpBYBO7nxFiD3pjMILAxLqOzElmRZCxianFTjfzZ7tiVtX+//uDw4utnFZdWuMGNW4JpcRI3VlNg7Il6PJS6mBlATbkg7KAev6NHZ7rj1ypoKCxhT1/baVRya0Rmp/oBbONrTb3xFQMmSdGWOp47oTlnTBer/XarM8G8oFyNs+uxjaTUu3DcHbf9d6Fy6si9iX83yIiR0YRA91BaIqtUsP58ETRAQZM6kriK7BQz+mFS5WhMN2QqFcldUPQAAAGwm1vb3YAAABsbXZoZAAAAAAAAAAAAAAAAAAAA+gAACDQAAEAAAEAAAAAAAAAAAAAAAABAAAAAAAAAAAAAAAAAAAAAQAAAAAAAAAAAAAAAAAAQAAAAAAAAAAAAAAAAAAAAAAAAAAAAAAAAAAAAAAAAAIAAAXsdHJhawAAAFx0a2hkAAAAAwAAAAAAAAAAAAAAAQAAAAAAACDQAAAAAAAAAAAAAAAAAAAAAAABAAAAAAAAAAAAAAAAAAAAAQAAAAAAAAAAAAAAAAAAQAAAAAIAAAACAAAAAAAAJGVkdHMAAAAcZWxzdAAAAAAAAAABAAAg0AAACAAAAQAAAAAFZG1kaWEAAAAgbWRoZAAAAAAAAAAAAAAAAAAAKAAAAVAAVcQAAAAAAC1oZGxyAAAAAAAAAAB2aWRlAAAAAAAAAAAAAAAAVmlkZW9IYW5kbGVyAAAABQ9taW5mAAAAFHZtaGQAAAABAAAAAAAAAAAAAAAkZGluZgAAABxkcmVmAAAAAAAAAAEAAAAMdXJsIAAAAAEAAATPc3RibAAAAK9zdHNkAAAAAAAAAAEAAACfYXZjMQAAAAAAAAABAAAAAAAAAAAAAAAAAAAAAAIAAgAASAAAAEgAAAAAAAAAAQAAAAAAAAAAAAAAAAAAAAAAAAAAAAAAAAAAAAAAAAAAABj//wAAADVhdmNDAWQAFv/hABhnZAAWrNlAgBBoQAAAAwBAAAAFA8WLZYABAAZo6+PLIsD9+PgAAAAAFGJ0cnQAAAAAAABgBgAAYAYAAAAYc3R0cwAAAAAAAAABAAAAVAAABAAAAAAUc3RzcwAAAAAAAAABAAAAAQAAAlhjdHRzAAAAAAAAAEkAAAAGAAAIAAAAAAEAAAwAAAAAAQAABAAAAAABAAAUAAAAAAEAAAgAAAAAAQAAAAAAAAABAAAEAAAAAAEAABAAAAAAAgAABAAAAAABAAAIAAAAAAEAABQAAAAAAQAACAAAAAABAAAAAAAAAAEAAAQAAAAAAQAADAAAAAABAAAEAAAAAAEAABQAAAAAAQAACAAAAAABAAAAAAAAAAEAAAQAAAAAAQAAEAAAAAACAAAEAAAAAAEAAAwAAAAAAQAABAAAAAABAAAUAAAAAAEAAAgAAAAAAQAAAAAAAAABAAAEAAAAAAEAABQAAAAAAQAACAAAAAABAAAAAAAAAAEAAAQAAAAAAQAAFAAAAAABAAAIAAAAAAEAAAAAAAAAAQAABAAAAAABAAAUAAAAAAEAAAgAAAAAAQAAAAAAAAABAAAEAAAAAAEAABQAAAAAAQAACAAAAAABAAAAAAAAAAEAAAQAAAAAAQAADAAAAAABAAAEAAAAAAEAAAgAAAAAAQAADAAAAAABAAAEAAAAAAEAABQAAAAAAQAACAAAAAABAAAAAAAAAAEAAAQAAAAAAgAACAAAAAABAAAUAAAAAAEAAAgAAAAAAQAAAAAAAAABAAAEAAAAAAEAABAAAAAAAgAABAAAAAABAAAQAAAAAAIAAAQAAAAAAQAAFAAAAAABAAAIAAAAAAEAAAAAAAAAAQAABAAAAAABAAAUAAAAAAEAAAgAAAAAAQAAAAAAAAABAAAEAAAAAAEAABAAAAAAAgAABAAAAAABAAAIAAAAABxzdHNjAAAAAAAAAAEAAAABAAAAVAAAAAEAAAFkc3RzegAAAAAAAAAAAAAAVAAAEHAAAACqAAAAdQAAAT8AAAB4AAAAYwAAA9AAAADfAAAAmAAAAEYAAAA3AAAALwAAAeEAAABKAAAAPgAAAYsAAAKgAAAA3AAAAE4AAABOAAACJAAAAEMAAAHhAAAA0QAAADIAAAA3AAABUgAAASAAAAD+AAABxAAAADgAAAKfAAAAVQAAAEkAAABBAAABgQAAAD4AAAA2AAAAMgAAA5oAAADZAAAA8wAAALUAAAOvAAABAAAAAJoAAACzAAABYwAAAOoAAACfAAAAqgAAAXYAAACqAAABzQAAAmkAAABMAAACmAAAAQMAAABDAAAAPwAAAcIAAAGwAAACDwAAAHsAAAAwAAAAMgAAAk4AAADgAAAAPwAAAd8AAADmAAABBAAAAeYAAADoAAAAtwAAAKQAAAE3AAAA2wAAAJEAAACLAAAA/gAAALwAAACdAAAA6wAAABRzdGNvAAAAAAAAAAEAAAAwAAAAYnVkdGEAAABabWV0YQAAAAAAAAAhaGRscgAAAAAAAAAAbWRpcmFwcGwAAAAAAAAAAAAAAAAtaWxzdAAAACWpdG9vAAAAHWRhdGEAAAABAAAAAExhdmY1OS4xNi4xMDA=\" type=\"video/mp4\" />\n",
       "             </video>"
      ],
      "text/plain": [
       "<IPython.core.display.HTML object>"
      ]
     },
     "metadata": {},
     "output_type": "display_data"
    }
   ],
   "source": [
    "env_id = env_id_4\n",
    "\n",
    "test_env = gen_wrapped_env(env_id)\n",
    "observation = test_env.reset()\n",
    "\n",
    "done = False\n",
    "episode_reward = 0\n",
    "episode_length = 0\n",
    "\n",
    "while not done:\n",
    "  #test_env.render()\n",
    "  action, states = model.predict(observation, deterministic=False)\n",
    "  observation, reward, done, info = test_env.step(action)\n",
    "  episode_reward += reward\n",
    "  episode_length += 1\n",
    "\n",
    "print('Total reward:', episode_reward)\n",
    "print('Total length:', episode_length)\n",
    "\n",
    "test_env.close()\n",
    "show_video()"
   ]
  },
  {
   "cell_type": "code",
   "execution_count": 144,
   "metadata": {},
   "outputs": [
    {
     "name": "stdout",
     "output_type": "stream",
     "text": [
      "Using cpu device\n"
     ]
    }
   ],
   "source": [
    "# Reset the environment\n",
    "vec_env_4.reset()\n",
    "\n",
    "# create the model\n",
    "model = PPO('MlpPolicy',\n",
    "            env=vec_env_4,\n",
    "            learning_rate=learning_rate,\n",
    "            batch_size=batch_size,\n",
    "            ent_coef=ent_coef,\n",
    "            n_epochs=n_epochs,\n",
    "            n_steps=n_steps,\n",
    "            tensorboard_log=tensorboard_log,\n",
    "            verbose=1)"
   ]
  },
  {
   "cell_type": "code",
   "execution_count": null,
   "metadata": {},
   "outputs": [],
   "source": [
    "# Create eval environment\n",
    "env = gym.make(env_id_4)\n",
    "env = FlatObsWrapper(env)\n",
    "eval_env = stable_baselines3.common.monitor.Monitor(env, log_dir)\n",
    "# Reset the environment\n",
    "eval_env.reset();\n",
    "# Stop training when the model reaches the reward threshold\n",
    "callback_on_best = StopTrainingOnRewardThreshold(reward_threshold=0.90, verbose=1)\n",
    "eval_callback = EvalCallback(eval_env, log_path=log_dir, callback_on_new_best=callback_on_best, verbose=1)\n",
    "\n",
    "# number of timesteps to add\n",
    "total_timesteps = 1000000\n",
    "log_interval = 10\n",
    "tb_log_name = 'Doorkey-16x16'\n",
    "\n",
    "# resume training using same tensorboard run without resetting the timesteps\n",
    "model.learn(total_timesteps=total_timesteps,\n",
    "            log_interval=log_interval,\n",
    "            tb_log_name = tb_log_name)"
   ]
  },
  {
   "cell_type": "markdown",
   "metadata": {
    "tags": []
   },
   "source": [
    "## SNIPPETS y PRUEBAS VARIAS"
   ]
  },
  {
   "cell_type": "code",
   "execution_count": 45,
   "metadata": {
    "id": "ASxvtrLK4pLf"
   },
   "outputs": [],
   "source": [
    "nn_layers = [64,64] #This is the configuration of your neural network. Currently, we have two layers, each consisting of 64 neurons.\n",
    "                    #If you want three layers with 64 neurons each, set the value to [64,64,64] and so on.\n",
    "\n",
    "learning_rate = 0.001 #This is the step-size with which the gradient descent is carried out.\n",
    "                      #Tip: Use smaller step-sizes for larger networks."
   ]
  },
  {
   "cell_type": "code",
   "execution_count": 46,
   "metadata": {
    "id": "io16SSsp4pLg"
   },
   "outputs": [],
   "source": [
    "log_dir = \"/tmp/gym/\"\n",
    "os.makedirs(log_dir, exist_ok=True)\n",
    "\n",
    "# Create environment\n",
    "#env = gym.make('LunarLander-v2')\n",
    "# Make a new environment MiniGrid-Empty-8x8-v0\n",
    "#env = gym.make('MiniGrid-DoorKey-5x5-v0')\n",
    "#env = gym.make('MiniGrid-Empty-8x8-v0')\n",
    "env = gym.make('MiniGrid-FourRooms-v0')\n",
    "env = FlatObsWrapper(env)\n",
    "\n",
    "#env = FlatObsWrapper(gym_minigrid.wrappers.ImgObsWrapper(gym_minigrid.wrappers.RGBImgObsWrapper(env)))\n",
    "# Reset the environment\n",
    "env.reset();\n",
    "\n",
    "env = stable_baselines3.common.monitor.Monitor(env, log_dir )\n",
    "\n",
    "callback = EvalCallback(env,log_path = log_dir, deterministic=True) #For evaluating the performance of the agent periodically and logging the results.\n",
    "#policy_kwargs = dict(activation_fn=torch.nn.ReLU,net_arch=nn_layers)\n",
    " \n",
    "model = PPO(\"MlpPolicy\", env, learning_rate=learning_rate) \n",
    "\n",
    "# You can also experiment with other RL algorithms like A2C, PPO, DDPG etc. Refer to  https://stable-baselines3.readthedocs.io/en/master/guide/examples.html\n",
    "#for documentation. For example, if you would like to run DDPG, just replace \"DQN\" above with \"DDPG\"."
   ]
  },
  {
   "cell_type": "code",
   "execution_count": null,
   "metadata": {
    "colab": {
     "base_uri": "https://localhost:8080/",
     "height": 455
    },
    "executionInfo": {
     "elapsed": 1816,
     "status": "ok",
     "timestamp": 1644988563026,
     "user": {
      "displayName": "Iñigo",
      "photoUrl": "https://lh3.googleusercontent.com/a/default-user=s64",
      "userId": "14378798962183195551"
     },
     "user_tz": 300
    },
    "id": "lmr5TMl64pLg",
    "outputId": "eec94341-f784-4c8a-ed7b-a187b977005e"
   },
   "outputs": [
    {
     "name": "stdout",
     "output_type": "stream",
     "text": [
      "Total reward: 0\n",
      "Total length: 100\n"
     ]
    },
    {
     "data": {
      "text/html": [
       "<video alt=\"test\" autoplay \n",
       "                loop controls style=\"height: 400px;\">\n",
       "                <source src=\"data:video/mp4;base64,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\" type=\"video/mp4\" />\n",
       "             </video>"
      ],
      "text/plain": [
       "<IPython.core.display.HTML object>"
      ]
     },
     "metadata": {},
     "output_type": "display_data"
    }
   ],
   "source": [
    "#test_env = wrap_env(gym.make('MiniGrid-Empty-8x8-v0'))\n",
    "#test_env = gen_wrapped_env('MiniGrid-DoorKey-5x5-v0')\n",
    "#test_env = gen_wrapped_env('MiniGrid-Empty-8x8-v0')\n",
    "test_env = gen_wrapped_env('MiniGrid-FourRooms-v0')\n",
    "\n",
    "observation = test_env.reset()\n",
    "\n",
    "done = False\n",
    "episode_reward = 0\n",
    "episode_length = 0\n",
    "\n",
    "while not done:\n",
    "  #test_env.render()\n",
    "  action, states = model.predict(observation, deterministic=True)\n",
    "  observation, reward, done, info = test_env.step(action)\n",
    "  episode_reward += reward\n",
    "  episode_length += 1\n",
    "\n",
    "print('Total reward:', episode_reward)\n",
    "print('Total length:', episode_length)\n",
    "\n",
    "test_env.close()\n",
    "show_video()"
   ]
  },
  {
   "cell_type": "code",
   "execution_count": null,
   "metadata": {
    "colab": {
     "base_uri": "https://localhost:8080/"
    },
    "executionInfo": {
     "elapsed": 3137358,
     "status": "ok",
     "timestamp": 1644991753066,
     "user": {
      "displayName": "Iñigo",
      "photoUrl": "https://lh3.googleusercontent.com/a/default-user=s64",
      "userId": "14378798962183195551"
     },
     "user_tz": 300
    },
    "id": "ONOVsWWB6MLk",
    "outputId": "8625e749-c7ef-49b7-8c2d-b48fa843b42b"
   },
   "outputs": [
    {
     "name": "stdout",
     "output_type": "stream",
     "text": [
      "Eval num_timesteps=10000, episode_reward=0.00 +/- 0.00\n",
      "Episode length: 100.00 +/- 0.00\n",
      "New best mean reward!\n",
      "Eval num_timesteps=20000, episode_reward=0.00 +/- 0.00\n",
      "Episode length: 100.00 +/- 0.00\n",
      "Eval num_timesteps=30000, episode_reward=0.00 +/- 0.00\n",
      "Episode length: 100.00 +/- 0.00\n",
      "Eval num_timesteps=40000, episode_reward=0.00 +/- 0.00\n",
      "Episode length: 100.00 +/- 0.00\n",
      "Eval num_timesteps=50000, episode_reward=0.00 +/- 0.00\n",
      "Episode length: 100.00 +/- 0.00\n",
      "Eval num_timesteps=60000, episode_reward=0.00 +/- 0.00\n",
      "Episode length: 100.00 +/- 0.00\n",
      "Eval num_timesteps=70000, episode_reward=0.00 +/- 0.00\n",
      "Episode length: 100.00 +/- 0.00\n",
      "Eval num_timesteps=80000, episode_reward=0.00 +/- 0.00\n",
      "Episode length: 100.00 +/- 0.00\n",
      "Eval num_timesteps=90000, episode_reward=0.00 +/- 0.00\n",
      "Episode length: 100.00 +/- 0.00\n",
      "Eval num_timesteps=100000, episode_reward=0.00 +/- 0.00\n",
      "Episode length: 100.00 +/- 0.00\n",
      "Eval num_timesteps=110000, episode_reward=0.00 +/- 0.00\n",
      "Episode length: 100.00 +/- 0.00\n",
      "Eval num_timesteps=120000, episode_reward=0.00 +/- 0.00\n",
      "Episode length: 100.00 +/- 0.00\n",
      "Eval num_timesteps=130000, episode_reward=0.19 +/- 0.39\n",
      "Episode length: 80.80 +/- 38.40\n",
      "New best mean reward!\n",
      "Eval num_timesteps=140000, episode_reward=0.00 +/- 0.00\n",
      "Episode length: 100.00 +/- 0.00\n",
      "Eval num_timesteps=150000, episode_reward=0.20 +/- 0.39\n",
      "Episode length: 80.40 +/- 39.20\n",
      "New best mean reward!\n",
      "Eval num_timesteps=160000, episode_reward=0.00 +/- 0.00\n",
      "Episode length: 100.00 +/- 0.00\n",
      "Eval num_timesteps=170000, episode_reward=0.00 +/- 0.00\n",
      "Episode length: 100.00 +/- 0.00\n",
      "Eval num_timesteps=180000, episode_reward=0.00 +/- 0.00\n",
      "Episode length: 100.00 +/- 0.00\n",
      "Eval num_timesteps=190000, episode_reward=0.00 +/- 0.00\n",
      "Episode length: 100.00 +/- 0.00\n",
      "Eval num_timesteps=200000, episode_reward=0.00 +/- 0.00\n",
      "Episode length: 100.00 +/- 0.00\n",
      "Eval num_timesteps=210000, episode_reward=0.00 +/- 0.00\n",
      "Episode length: 100.00 +/- 0.00\n",
      "Eval num_timesteps=220000, episode_reward=0.00 +/- 0.00\n",
      "Episode length: 100.00 +/- 0.00\n",
      "Eval num_timesteps=230000, episode_reward=0.00 +/- 0.00\n",
      "Episode length: 100.00 +/- 0.00\n",
      "Eval num_timesteps=240000, episode_reward=0.00 +/- 0.00\n",
      "Episode length: 100.00 +/- 0.00\n",
      "Eval num_timesteps=250000, episode_reward=0.00 +/- 0.00\n",
      "Episode length: 100.00 +/- 0.00\n",
      "Eval num_timesteps=260000, episode_reward=0.00 +/- 0.00\n",
      "Episode length: 100.00 +/- 0.00\n",
      "Eval num_timesteps=270000, episode_reward=0.00 +/- 0.00\n",
      "Episode length: 100.00 +/- 0.00\n",
      "Eval num_timesteps=280000, episode_reward=0.00 +/- 0.00\n",
      "Episode length: 100.00 +/- 0.00\n",
      "Eval num_timesteps=290000, episode_reward=0.00 +/- 0.00\n",
      "Episode length: 100.00 +/- 0.00\n",
      "Eval num_timesteps=300000, episode_reward=0.00 +/- 0.00\n",
      "Episode length: 100.00 +/- 0.00\n",
      "Eval num_timesteps=310000, episode_reward=0.00 +/- 0.00\n",
      "Episode length: 100.00 +/- 0.00\n",
      "Eval num_timesteps=320000, episode_reward=0.00 +/- 0.00\n",
      "Episode length: 100.00 +/- 0.00\n",
      "Eval num_timesteps=330000, episode_reward=0.00 +/- 0.00\n",
      "Episode length: 100.00 +/- 0.00\n",
      "Eval num_timesteps=340000, episode_reward=0.00 +/- 0.00\n",
      "Episode length: 100.00 +/- 0.00\n",
      "Eval num_timesteps=350000, episode_reward=0.00 +/- 0.00\n",
      "Episode length: 100.00 +/- 0.00\n",
      "Eval num_timesteps=360000, episode_reward=0.00 +/- 0.00\n",
      "Episode length: 100.00 +/- 0.00\n",
      "Eval num_timesteps=370000, episode_reward=0.19 +/- 0.37\n",
      "Episode length: 81.60 +/- 36.80\n",
      "Eval num_timesteps=380000, episode_reward=0.20 +/- 0.39\n",
      "Episode length: 80.40 +/- 39.20\n",
      "Eval num_timesteps=390000, episode_reward=0.00 +/- 0.00\n",
      "Episode length: 100.00 +/- 0.00\n",
      "Eval num_timesteps=400000, episode_reward=0.00 +/- 0.00\n",
      "Episode length: 100.00 +/- 0.00\n",
      "Eval num_timesteps=410000, episode_reward=0.00 +/- 0.00\n",
      "Episode length: 100.00 +/- 0.00\n",
      "Eval num_timesteps=420000, episode_reward=0.00 +/- 0.00\n",
      "Episode length: 100.00 +/- 0.00\n",
      "Eval num_timesteps=430000, episode_reward=0.19 +/- 0.38\n",
      "Episode length: 81.20 +/- 37.60\n",
      "Eval num_timesteps=440000, episode_reward=0.00 +/- 0.00\n",
      "Episode length: 100.00 +/- 0.00\n",
      "Eval num_timesteps=450000, episode_reward=0.00 +/- 0.00\n",
      "Episode length: 100.00 +/- 0.00\n",
      "Eval num_timesteps=460000, episode_reward=0.00 +/- 0.00\n",
      "Episode length: 100.00 +/- 0.00\n",
      "Eval num_timesteps=470000, episode_reward=0.38 +/- 0.46\n",
      "Episode length: 62.40 +/- 46.09\n",
      "New best mean reward!\n",
      "Eval num_timesteps=480000, episode_reward=0.00 +/- 0.00\n",
      "Episode length: 100.00 +/- 0.00\n",
      "Eval num_timesteps=490000, episode_reward=0.19 +/- 0.37\n",
      "Episode length: 81.40 +/- 37.20\n",
      "Eval num_timesteps=500000, episode_reward=0.00 +/- 0.00\n",
      "Episode length: 100.00 +/- 0.00\n",
      "Eval num_timesteps=510000, episode_reward=0.19 +/- 0.38\n",
      "Episode length: 81.00 +/- 38.00\n",
      "Eval num_timesteps=520000, episode_reward=0.00 +/- 0.00\n",
      "Episode length: 100.00 +/- 0.00\n",
      "Eval num_timesteps=530000, episode_reward=0.00 +/- 0.00\n",
      "Episode length: 100.00 +/- 0.00\n",
      "Eval num_timesteps=540000, episode_reward=0.00 +/- 0.00\n",
      "Episode length: 100.00 +/- 0.00\n",
      "Eval num_timesteps=550000, episode_reward=0.00 +/- 0.00\n",
      "Episode length: 100.00 +/- 0.00\n",
      "Eval num_timesteps=560000, episode_reward=0.00 +/- 0.00\n",
      "Episode length: 100.00 +/- 0.00\n",
      "Eval num_timesteps=570000, episode_reward=0.00 +/- 0.00\n",
      "Episode length: 100.00 +/- 0.00\n",
      "Eval num_timesteps=580000, episode_reward=0.00 +/- 0.00\n",
      "Episode length: 100.00 +/- 0.00\n",
      "Eval num_timesteps=590000, episode_reward=0.00 +/- 0.00\n",
      "Episode length: 100.00 +/- 0.00\n",
      "Eval num_timesteps=600000, episode_reward=0.19 +/- 0.38\n",
      "Episode length: 81.00 +/- 38.00\n",
      "Eval num_timesteps=610000, episode_reward=0.00 +/- 0.00\n",
      "Episode length: 100.00 +/- 0.00\n",
      "Eval num_timesteps=620000, episode_reward=0.00 +/- 0.00\n",
      "Episode length: 100.00 +/- 0.00\n",
      "Eval num_timesteps=630000, episode_reward=0.00 +/- 0.00\n",
      "Episode length: 100.00 +/- 0.00\n",
      "Eval num_timesteps=640000, episode_reward=0.00 +/- 0.00\n",
      "Episode length: 100.00 +/- 0.00\n",
      "Eval num_timesteps=650000, episode_reward=0.00 +/- 0.00\n",
      "Episode length: 100.00 +/- 0.00\n",
      "Eval num_timesteps=660000, episode_reward=0.00 +/- 0.00\n",
      "Episode length: 100.00 +/- 0.00\n",
      "Eval num_timesteps=670000, episode_reward=0.00 +/- 0.00\n",
      "Episode length: 100.00 +/- 0.00\n",
      "Eval num_timesteps=680000, episode_reward=0.00 +/- 0.00\n",
      "Episode length: 100.00 +/- 0.00\n",
      "Eval num_timesteps=690000, episode_reward=0.19 +/- 0.39\n",
      "Episode length: 80.60 +/- 38.80\n",
      "Eval num_timesteps=700000, episode_reward=0.00 +/- 0.00\n",
      "Episode length: 100.00 +/- 0.00\n",
      "Eval num_timesteps=710000, episode_reward=0.00 +/- 0.00\n",
      "Episode length: 100.00 +/- 0.00\n",
      "Eval num_timesteps=720000, episode_reward=0.00 +/- 0.00\n",
      "Episode length: 100.00 +/- 0.00\n",
      "Eval num_timesteps=730000, episode_reward=0.00 +/- 0.00\n",
      "Episode length: 100.00 +/- 0.00\n",
      "Eval num_timesteps=740000, episode_reward=0.00 +/- 0.00\n",
      "Episode length: 100.00 +/- 0.00\n",
      "Eval num_timesteps=750000, episode_reward=0.00 +/- 0.00\n",
      "Episode length: 100.00 +/- 0.00\n",
      "Eval num_timesteps=760000, episode_reward=0.00 +/- 0.00\n",
      "Episode length: 100.00 +/- 0.00\n",
      "Eval num_timesteps=770000, episode_reward=0.00 +/- 0.00\n",
      "Episode length: 100.00 +/- 0.00\n",
      "Eval num_timesteps=780000, episode_reward=0.18 +/- 0.37\n",
      "Episode length: 81.80 +/- 36.40\n",
      "Eval num_timesteps=790000, episode_reward=0.00 +/- 0.00\n",
      "Episode length: 100.00 +/- 0.00\n",
      "Eval num_timesteps=800000, episode_reward=0.00 +/- 0.00\n",
      "Episode length: 100.00 +/- 0.00\n",
      "Eval num_timesteps=810000, episode_reward=0.00 +/- 0.00\n",
      "Episode length: 100.00 +/- 0.00\n",
      "Eval num_timesteps=820000, episode_reward=0.00 +/- 0.00\n",
      "Episode length: 100.00 +/- 0.00\n",
      "Eval num_timesteps=830000, episode_reward=0.00 +/- 0.00\n",
      "Episode length: 100.00 +/- 0.00\n",
      "Eval num_timesteps=840000, episode_reward=0.00 +/- 0.00\n",
      "Episode length: 100.00 +/- 0.00\n",
      "Eval num_timesteps=850000, episode_reward=0.18 +/- 0.37\n",
      "Episode length: 81.80 +/- 36.40\n",
      "Eval num_timesteps=860000, episode_reward=0.19 +/- 0.39\n",
      "Episode length: 80.60 +/- 38.80\n",
      "Eval num_timesteps=870000, episode_reward=0.18 +/- 0.35\n",
      "Episode length: 82.60 +/- 34.80\n",
      "Eval num_timesteps=880000, episode_reward=0.20 +/- 0.39\n",
      "Episode length: 80.40 +/- 39.20\n",
      "Eval num_timesteps=890000, episode_reward=0.00 +/- 0.00\n",
      "Episode length: 100.00 +/- 0.00\n",
      "Eval num_timesteps=900000, episode_reward=0.18 +/- 0.35\n",
      "Episode length: 82.60 +/- 34.80\n",
      "Eval num_timesteps=910000, episode_reward=0.20 +/- 0.39\n",
      "Episode length: 80.40 +/- 39.20\n",
      "Eval num_timesteps=920000, episode_reward=0.00 +/- 0.00\n",
      "Episode length: 100.00 +/- 0.00\n",
      "Eval num_timesteps=930000, episode_reward=0.20 +/- 0.39\n",
      "Episode length: 80.40 +/- 39.20\n",
      "Eval num_timesteps=940000, episode_reward=0.00 +/- 0.00\n",
      "Episode length: 100.00 +/- 0.00\n",
      "Eval num_timesteps=950000, episode_reward=0.19 +/- 0.37\n",
      "Episode length: 81.60 +/- 36.80\n",
      "Eval num_timesteps=960000, episode_reward=0.00 +/- 0.00\n",
      "Episode length: 100.00 +/- 0.00\n",
      "Eval num_timesteps=970000, episode_reward=0.00 +/- 0.00\n",
      "Episode length: 100.00 +/- 0.00\n",
      "Eval num_timesteps=980000, episode_reward=0.00 +/- 0.00\n",
      "Episode length: 100.00 +/- 0.00\n",
      "Eval num_timesteps=990000, episode_reward=0.00 +/- 0.00\n",
      "Episode length: 100.00 +/- 0.00\n",
      "Eval num_timesteps=1000000, episode_reward=0.00 +/- 0.00\n",
      "Episode length: 100.00 +/- 0.00\n"
     ]
    },
    {
     "data": {
      "text/plain": [
       "<stable_baselines3.ppo.ppo.PPO at 0x7f25d4cc1410>"
      ]
     },
     "execution_count": 70,
     "metadata": {},
     "output_type": "execute_result"
    }
   ],
   "source": [
    "total_timesteps = 1000000\n",
    "log_interval = 10\n",
    "\n",
    "model.learn(total_timesteps=total_timesteps, log_interval=log_interval, callback=callback)\n",
    "# The performance of the training will be printed every 10 episodes. Change it to 1, if you wish to\n",
    "# view the performance at every training episode."
   ]
  },
  {
   "cell_type": "code",
   "execution_count": null,
   "metadata": {
    "colab": {
     "base_uri": "https://localhost:8080/",
     "height": 421
    },
    "executionInfo": {
     "elapsed": 1816,
     "status": "ok",
     "timestamp": 1644988484654,
     "user": {
      "displayName": "Iñigo",
      "photoUrl": "https://lh3.googleusercontent.com/a/default-user=s64",
      "userId": "14378798962183195551"
     },
     "user_tz": 300
    },
    "id": "aIwhFpNe7alW",
    "outputId": "1af706eb-1fe1-4acf-fceb-34e9cf38602a"
   },
   "outputs": [
    {
     "data": {
      "text/html": [
       "<video alt=\"test\" autoplay \n",
       "                loop controls style=\"height: 400px;\">\n",
       "                <source src=\"data:video/mp4;base64,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\" type=\"video/mp4\" />\n",
       "             </video>"
      ],
      "text/plain": [
       "<IPython.core.display.HTML object>"
      ]
     },
     "metadata": {},
     "output_type": "display_data"
    }
   ],
   "source": [
    "#env = gen_wrapped_env('MiniGrid-Empty-8x8-v0')\n",
    "#env = gen_wrapped_env('MiniGrid-DoorKey-5x5-v0')\n",
    "env = gen_wrapped_env('MiniGrid-FourRooms-v0')\n",
    "observation = env.reset()\n",
    "\n",
    "while True:\n",
    "  #env.render()\n",
    "  action, _states = model.predict(observation, deterministic=True)\n",
    "  observation, reward, done, info = env.step(action)\n",
    "  if done:\n",
    "    break;\n",
    "\n",
    "env.close()\n",
    "show_video()"
   ]
  }
 ],
 "metadata": {
  "accelerator": "GPU",
  "colab": {
   "name": "test_minigrid_sb3.ipynb",
   "provenance": []
  },
  "interpreter": {
   "hash": "5ae5fe04b904940883e142037e5d93ea1284ca6b9a59621752bc9caec4ed99cf"
  },
  "kernelspec": {
   "display_name": "minigrid",
   "language": "python",
   "name": "minigrid"
  },
  "language_info": {
   "codemirror_mode": {
    "name": "ipython",
    "version": 3
   },
   "file_extension": ".py",
   "mimetype": "text/x-python",
   "name": "python",
   "nbconvert_exporter": "python",
   "pygments_lexer": "ipython3",
   "version": "3.7.9"
  },
  "toc-autonumbering": true,
  "toc-showcode": false,
  "toc-showmarkdowntxt": false,
  "toc-showtags": false
 },
 "nbformat": 4,
 "nbformat_minor": 4
}
