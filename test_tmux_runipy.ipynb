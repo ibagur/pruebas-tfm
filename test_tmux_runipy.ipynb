{
 "cells": [
  {
   "cell_type": "markdown",
   "id": "952c7518",
   "metadata": {
    "id": "MNF5-qJ7B0Q3"
   },
   "source": [
    "# Testing Stable Baselines3 with gym-MiniGrid"
   ]
  },
  {
   "cell_type": "markdown",
   "id": "23027cf1",
   "metadata": {
    "id": "AdM2FnEJB0Q8"
   },
   "source": [
    "## Basic Jupyter Setting"
   ]
  },
  {
   "cell_type": "code",
   "execution_count": 2,
   "id": "c08daa5b",
   "metadata": {
    "collapsed": false,
    "executionInfo": {
     "elapsed": 319,
     "status": "ok",
     "timestamp": 1647123362972,
     "user": {
      "displayName": "Iñigo",
      "photoUrl": "https://lh3.googleusercontent.com/a/default-user=s64",
      "userId": "14378798962183195551"
     },
     "user_tz": -60
    },
    "id": "aycUmr6OB0Q8",
    "jupyter": {
     "outputs_hidden": false
    }
   },
   "outputs": [],
   "source": [
    "import numpy as np\n",
    "import matplotlib.pyplot as plt\n",
    "from pprint import pprint\n",
    "\n",
    "%matplotlib inline\n",
    "plt.rcParams['figure.figsize'] = (10.0, 8.0) # set default size of plots\n",
    "plt.rcParams['image.interpolation'] = 'nearest'\n",
    "plt.rcParams['image.cmap'] = 'gray'\n",
    "\n",
    "# for auto-reloading external modules\n",
    "# see http://stackoverflow.com/questions/1907993/autoreload-of-modules-in-ipython\n",
    "%load_ext autoreload\n",
    "%autoreload 2"
   ]
  },
  {
   "cell_type": "markdown",
   "id": "dec5b70b",
   "metadata": {
    "id": "ef0DdE0b4pLd"
   },
   "source": [
    "## Import Stable-Baselines3 and initial set-up"
   ]
  },
  {
   "cell_type": "markdown",
   "id": "59148116",
   "metadata": {
    "id": "PLM4YYcL5rBt"
   },
   "source": [
    "Import libraries and classes:"
   ]
  },
  {
   "cell_type": "code",
   "execution_count": 3,
   "id": "708cf8a2",
   "metadata": {
    "collapsed": false,
    "id": "YgenDMtf4pLe",
    "jupyter": {
     "outputs_hidden": false
    }
   },
   "outputs": [],
   "source": [
    "# Imports\n",
    "import time\n",
    "import io\n",
    "import os\n",
    "import glob\n",
    "import torch\n",
    "import base64\n",
    "import stable_baselines3\n",
    "\n",
    "import numpy as np\n",
    "import matplotlib.pyplot as plt\n",
    "\n",
    "from random import randint \n",
    "from stable_baselines3 import PPO, DQN, A2C\n",
    "from stable_baselines3.common.results_plotter import ts2xy, load_results\n",
    "from stable_baselines3.common.callbacks import EvalCallback, StopTrainingOnRewardThreshold\n",
    "from stable_baselines3.common.env_util import make_atari_env\n",
    "from stable_baselines3.common.evaluation import evaluate_policy\n",
    "from stable_baselines3.common.utils import set_random_seed\n",
    "from stable_baselines3.common.vec_env import SubprocVecEnv, DummyVecEnv\n",
    "from stable_baselines3.common.env_util import make_vec_env\n",
    "\n",
    "import gym\n",
    "from gym import spaces\n",
    "from gym.wrappers import Monitor\n",
    "import gym_minigrid\n",
    "from gym_minigrid.wrappers import FlatObsWrapper, ImgObsWrapper"
   ]
  },
  {
   "cell_type": "markdown",
   "id": "60fbaec7",
   "metadata": {
    "id": "28U_WEp25rBu"
   },
   "source": [
    "Define the video function:"
   ]
  },
  {
   "cell_type": "code",
   "execution_count": 4,
   "id": "16261995",
   "metadata": {
    "collapsed": false,
    "id": "d7eCH8Kf4pLf",
    "jupyter": {
     "outputs_hidden": false
    }
   },
   "outputs": [],
   "source": [
    "import base64\n",
    "import glob\n",
    "import io\n",
    "from IPython.display import HTML\n",
    "from IPython import display \n",
    "\n",
    "def show_video():\n",
    "    mp4list = glob.glob('video/*.mp4')\n",
    "    if len(mp4list) > 0:\n",
    "        mp4 = mp4list[0]\n",
    "        video = io.open(mp4, 'r+b').read()\n",
    "        encoded = base64.b64encode(video)\n",
    "        display.display(HTML(data='''<video alt=\"test\" autoplay \n",
    "                loop controls style=\"height: 400px;\">\n",
    "                <source src=\"data:video/mp4;base64,{0}\" type=\"video/mp4\" />\n",
    "             </video>'''.format(encoded.decode('ascii'))))\n",
    "    else:\n",
    "        print(\"Could not find video\")\n"
   ]
  },
  {
   "cell_type": "markdown",
   "id": "0a216dcc",
   "metadata": {
    "id": "KchGuXpd5rBv"
   },
   "source": [
    "Define the rendering wrappers:"
   ]
  },
  {
   "cell_type": "code",
   "execution_count": 5,
   "id": "13ef0065",
   "metadata": {
    "collapsed": false,
    "id": "Gdhk3Oep4pLf",
    "jupyter": {
     "outputs_hidden": false
    }
   },
   "outputs": [],
   "source": [
    "from gym.wrappers import Monitor\n",
    "\n",
    "# Monitor is a gym wrapper, which helps easy rendering of videos of the wrapped environment.\n",
    "def wrap_env(env):\n",
    "    env = Monitor(env, './video', force=True)\n",
    "    return env\n",
    "\n",
    "def gen_wrapped_env(env_name):\n",
    "    return wrap_env(FlatObsWrapper(gym.make(env_name)))"
   ]
  },
  {
   "cell_type": "code",
   "execution_count": 6,
   "id": "abe1b41d",
   "metadata": {
    "colab": {
     "base_uri": "https://localhost:8080/",
     "height": 269
    },
    "collapsed": false,
    "executionInfo": {
     "elapsed": 900,
     "status": "ok",
     "timestamp": 1647083269049,
     "user": {
      "displayName": "Iñigo",
      "photoUrl": "https://lh3.googleusercontent.com/a/default-user=s64",
      "userId": "14378798962183195551"
     },
     "user_tz": -60
    },
    "id": "B21JwGYn5rBv",
    "jupyter": {
     "outputs_hidden": false
    },
    "outputId": "54dfa526-2621-4f91-df2b-e4ff7a447aad"
   },
   "outputs": [
    {
     "data": {
      "image/png": "[encoded data removed]",
      "text/plain": [
       "<Figure size 720x576 with 1 Axes>"
      ]
     },
     "metadata": {
      "needs_background": "light"
     },
     "output_type": "display_data"
    }
   ],
   "source": [
    "from random import randint\n",
    "#env_id = 'MiniGrid-Empty-16x16-v0'\n",
    "env_id = 'MiniGrid-DoorKey-6x6-v0'\n",
    "#env_id = 'MiniGrid-DistShift1-v0'\n",
    "#env_id ='MiniGrid-UnlockPickup-v0'\n",
    "#env_id = 'MiniGrid-RedBlueDoors-6x6-v0'\n",
    "#env_id = 'MiniGrid-LavaGapS6-v0'\n",
    "\n",
    "eval_env = gym.make(env_id)\n",
    "eval_env.seed(10000+randint(0, 10))\n",
    "eval_env.reset()\n",
    "before_img = eval_env.render('rgb_array')\n",
    "\n",
    "plt.imshow(before_img);"
   ]
  },
  {
   "cell_type": "markdown",
   "id": "a7f7b027",
   "metadata": {
    "id": "umY09KJP5rCI"
   },
   "source": [
    "# Catastrophic Forgetting"
   ]
  },
  {
   "cell_type": "markdown",
   "id": "0550f851",
   "metadata": {
    "id": "yPq1XkeL5rCI"
   },
   "source": [
    "## Define the environments"
   ]
  },
  {
   "cell_type": "code",
   "execution_count": 7,
   "id": "b3dd62d8",
   "metadata": {
    "collapsed": false,
    "id": "eYzbUoTS5rCI",
    "jupyter": {
     "outputs_hidden": false
    }
   },
   "outputs": [],
   "source": [
    "# By default, we use a DummyVecEnv as it is usually faster (cf doc)\n",
    "num_cpu = 16  # Number of processes to use\n",
    "\n",
    "env_id_1 = 'MiniGrid-DoorKey-6x6-v0'\n",
    "vec_env_1 = make_vec_env(env_id_1, n_envs=num_cpu, wrapper_class=FlatObsWrapper, seed=10000)\n",
    "\n",
    "env_id_2 = 'MiniGrid-LavaGapS6-v0'\n",
    "vec_env_2 = make_vec_env(env_id_2, n_envs=num_cpu, wrapper_class=FlatObsWrapper, seed=5000)\n",
    "\n",
    "env_id_3 = 'MiniGrid-RedBlueDoors-6x6-v0'\n",
    "vec_env_3 = make_vec_env(env_id_3, n_envs=num_cpu, wrapper_class=FlatObsWrapper, seed=20000)"
   ]
  },
  {
   "cell_type": "code",
   "execution_count": 8,
   "id": "b8f6ea9c",
   "metadata": {
    "colab": {
     "base_uri": "https://localhost:8080/"
    },
    "collapsed": false,
    "executionInfo": {
     "elapsed": 197,
     "status": "ok",
     "timestamp": 1647085386489,
     "user": {
      "displayName": "Iñigo",
      "photoUrl": "https://lh3.googleusercontent.com/a/default-user=s64",
      "userId": "14378798962183195551"
     },
     "user_tz": -60
    },
    "id": "vT24ysNm79CE",
    "jupyter": {
     "outputs_hidden": false
    },
    "outputId": "8f710f58-57f4-44c7-aebf-d24c88c99da3"
   },
   "outputs": [
    {
     "data": {
      "text/plain": [
       "device(type='cuda')"
      ]
     },
     "execution_count": 8,
     "metadata": {},
     "output_type": "execute_result"
    }
   ],
   "source": [
    "from stable_baselines3.common.utils import get_device\n",
    "get_device()"
   ]
  },
  {
   "cell_type": "code",
   "execution_count": 10,
   "id": "6f57c455",
   "metadata": {
    "collapsed": false,
    "id": "94zAf0-I5rCI",
    "jupyter": {
     "outputs_hidden": false
    }
   },
   "outputs": [],
   "source": [
    "learning_rate = 0.00005\n",
    "n_steps = 256\n",
    "batch_size = 16\n",
    "ent_coef = 0.001\n",
    "n_epochs = 4\n",
    "\n",
    "tensorboard_log = \"./tmp/log/\"\n",
    "os.makedirs(tensorboard_log, exist_ok=True)"
   ]
  },
  {
   "cell_type": "markdown",
   "id": "c9e244e8",
   "metadata": {
    "id": "SDhlDj-J5rCI"
   },
   "source": [
    "## Learn first environment:"
   ]
  },
  {
   "cell_type": "code",
   "execution_count": 11,
   "id": "b9975eaa",
   "metadata": {
    "colab": {
     "base_uri": "https://localhost:8080/"
    },
    "collapsed": false,
    "executionInfo": {
     "elapsed": 9700,
     "status": "ok",
     "timestamp": 1646782989154,
     "user": {
      "displayName": "Iñigo",
      "photoUrl": "https://lh3.googleusercontent.com/a/default-user=s64",
      "userId": "14378798962183195551"
     },
     "user_tz": -60
    },
    "id": "fgNWgfba5rCI",
    "jupyter": {
     "outputs_hidden": false
    },
    "outputId": "553d07ab-f3db-4c45-e45a-b2624d78a477",
    "tags": []
   },
   "outputs": [
    {
     "name": "stdout",
     "output_type": "stream",
     "text": [
      "Using cuda device\n"
     ]
    }
   ],
   "source": [
    "# Reset the environment\n",
    "vec_env_1.reset()\n",
    "\n",
    "# create the model\n",
    "model = PPO('MlpPolicy',\n",
    "            env=vec_env_1,\n",
    "            learning_rate=learning_rate,\n",
    "            batch_size=batch_size,\n",
    "            ent_coef=ent_coef,\n",
    "            n_epochs=n_epochs,\n",
    "            n_steps=n_steps,\n",
    "            tensorboard_log=tensorboard_log,\n",
    "            verbose=1)"
   ]
  },
  {
   "cell_type": "code",
   "execution_count": 12,
   "id": "33c255e3",
   "metadata": {
    "collapsed": false,
    "id": "a75Hyh4n5rCJ",
    "jupyter": {
     "outputs_hidden": false
    }
   },
   "outputs": [],
   "source": [
    "log_dir = \"./tmp/gym/\"\n",
    "os.makedirs(log_dir, exist_ok=True)\n",
    "tb_log_name = 'task01-doorkey-6x6'\n",
    "\n",
    "# Create eval environment\n",
    "env = gym.make(env_id_1)\n",
    "env = FlatObsWrapper(env)\n",
    "eval_env = stable_baselines3.common.monitor.Monitor(env, log_dir)\n",
    "# Reset the environment\n",
    "eval_env.reset();\n",
    "\n",
    "# Stop training when the model reaches the reward threshold\n",
    "callback_on_best = StopTrainingOnRewardThreshold(reward_threshold=0.92, verbose=1)\n",
    "eval_callback = EvalCallback(eval_env, log_path=log_dir, callback_on_new_best=callback_on_best, verbose=1)"
   ]
  },
  {
   "cell_type": "code",
   "execution_count": 11,
   "id": "1c7df2b4",
   "metadata": {
    "colab": {
     "base_uri": "https://localhost:8080/"
    },
    "collapsed": false,
    "id": "cBedyr7x5rCJ",
    "jupyter": {
     "outputs_hidden": false
    },
    "outputId": "77956ad4-b758-4779-c8d2-3267555ba0b6",
    "tags": []
   },
   "outputs": [
    {
     "name": "stdout",
     "output_type": "stream",
     "text": [
      "Logging to ./tmp/log/task01-doorkey-6x6_3\n",
      "------------------------------------------\n",
      "| rollout/                |              |\n",
      "|    ep_len_mean          | 349          |\n",
      "|    ep_rew_mean          | 0.0347       |\n",
      "| time/                   |              |\n",
      "|    fps                  | 505          |\n",
      "|    iterations           | 10           |\n",
      "|    time_elapsed         | 81           |\n",
      "|    total_timesteps      | 40960        |\n",
      "| train/                  |              |\n",
      "|    approx_kl            | 0.0034402343 |\n",
      "|    clip_fraction        | 0.000244     |\n",
      "|    clip_range           | 0.2          |\n",
      "|    entropy_loss         | -1.91        |\n",
      "|    explained_variance   | 0.203        |\n",
      "|    learning_rate        | 5e-05        |\n",
      "|    loss                 | 0.0268       |\n",
      "|    n_updates            | 36           |\n",
      "|    policy_gradient_loss | -0.00148     |\n",
      "|    value_loss           | 0.000416     |\n",
      "------------------------------------------\n",
      "------------------------------------------\n",
      "| rollout/                |              |\n",
      "|    ep_len_mean          | 335          |\n",
      "|    ep_rew_mean          | 0.0777       |\n",
      "| time/                   |              |\n",
      "|    fps                  | 483          |\n",
      "|    iterations           | 20           |\n",
      "|    time_elapsed         | 169          |\n",
      "|    total_timesteps      | 81920        |\n",
      "| train/                  |              |\n",
      "|    approx_kl            | 0.0050773965 |\n",
      "|    clip_fraction        | 0.0133       |\n",
      "|    clip_range           | 0.2          |\n",
      "|    entropy_loss         | -1.8         |\n",
      "|    explained_variance   | -0.153       |\n",
      "|    learning_rate        | 5e-05        |\n",
      "|    loss                 | -0.0529      |\n",
      "|    n_updates            | 76           |\n",
      "|    policy_gradient_loss | -0.00238     |\n",
      "|    value_loss           | 0.000415     |\n",
      "------------------------------------------\n",
      "-----------------------------------------\n",
      "| rollout/                |             |\n",
      "|    ep_len_mean          | 261         |\n",
      "|    ep_rew_mean          | 0.296       |\n",
      "| time/                   |             |\n",
      "|    fps                  | 476         |\n",
      "|    iterations           | 30          |\n",
      "|    time_elapsed         | 257         |\n",
      "|    total_timesteps      | 122880      |\n",
      "| train/                  |             |\n",
      "|    approx_kl            | 0.007711863 |\n",
      "|    clip_fraction        | 0.0262      |\n",
      "|    clip_range           | 0.2         |\n",
      "|    entropy_loss         | -1.59       |\n",
      "|    explained_variance   | 0.579       |\n",
      "|    learning_rate        | 5e-05       |\n",
      "|    loss                 | -0.0135     |\n",
      "|    n_updates            | 116         |\n",
      "|    policy_gradient_loss | -0.00422    |\n",
      "|    value_loss           | 0.00534     |\n",
      "-----------------------------------------\n",
      "Eval num_timesteps=160000, episode_reward=0.00 +/- 0.00\n",
      "Episode length: 360.00 +/- 0.00\n",
      "-----------------------------------------\n",
      "| eval/                   |             |\n",
      "|    mean_ep_length       | 360         |\n",
      "|    mean_reward          | 0           |\n",
      "| time/                   |             |\n",
      "|    total_timesteps      | 160000      |\n",
      "| train/                  |             |\n",
      "|    approx_kl            | 0.007843615 |\n",
      "|    clip_fraction        | 0.0603      |\n",
      "|    clip_range           | 0.2         |\n",
      "|    entropy_loss         | -1.28       |\n",
      "|    explained_variance   | 0.649       |\n",
      "|    learning_rate        | 5e-05       |\n",
      "|    loss                 | 0.00574     |\n",
      "|    n_updates            | 156         |\n",
      "|    policy_gradient_loss | -0.00708    |\n",
      "|    value_loss           | 0.0118      |\n",
      "-----------------------------------------\n",
      "New best mean reward!\n",
      "---------------------------------\n",
      "| rollout/           |          |\n",
      "|    ep_len_mean     | 76.2     |\n",
      "|    ep_rew_mean     | 0.807    |\n",
      "| time/              |          |\n",
      "|    fps             | 471      |\n",
      "|    iterations      | 40       |\n",
      "|    time_elapsed    | 347      |\n",
      "|    total_timesteps | 163840   |\n",
      "---------------------------------\n",
      "-----------------------------------------\n",
      "| rollout/                |             |\n",
      "|    ep_len_mean          | 26          |\n",
      "|    ep_rew_mean          | 0.935       |\n",
      "| time/                   |             |\n",
      "|    fps                  | 471         |\n",
      "|    iterations           | 50          |\n",
      "|    time_elapsed         | 434         |\n",
      "|    total_timesteps      | 204800      |\n",
      "| train/                  |             |\n",
      "|    approx_kl            | 0.005064036 |\n",
      "|    clip_fraction        | 0.0387      |\n",
      "|    clip_range           | 0.2         |\n",
      "|    entropy_loss         | -0.886      |\n",
      "|    explained_variance   | 0.747       |\n",
      "|    learning_rate        | 5e-05       |\n",
      "|    loss                 | -0.0103     |\n",
      "|    n_updates            | 196         |\n",
      "|    policy_gradient_loss | -0.0051     |\n",
      "|    value_loss           | 0.00605     |\n",
      "-----------------------------------------\n",
      "-----------------------------------------\n",
      "| rollout/                |             |\n",
      "|    ep_len_mean          | 16.7        |\n",
      "|    ep_rew_mean          | 0.958       |\n",
      "| time/                   |             |\n",
      "|    fps                  | 472         |\n",
      "|    iterations           | 60          |\n",
      "|    time_elapsed         | 520         |\n",
      "|    total_timesteps      | 245760      |\n",
      "| train/                  |             |\n",
      "|    approx_kl            | 0.006021888 |\n",
      "|    clip_fraction        | 0.045       |\n",
      "|    clip_range           | 0.2         |\n",
      "|    entropy_loss         | -0.438      |\n",
      "|    explained_variance   | 0.707       |\n",
      "|    learning_rate        | 5e-05       |\n",
      "|    loss                 | 0.000404    |\n",
      "|    n_updates            | 236         |\n",
      "|    policy_gradient_loss | -0.00401    |\n",
      "|    value_loss           | 0.00128     |\n",
      "-----------------------------------------\n",
      "-----------------------------------------\n",
      "| rollout/                |             |\n",
      "|    ep_len_mean          | 15.7        |\n",
      "|    ep_rew_mean          | 0.961       |\n",
      "| time/                   |             |\n",
      "|    fps                  | 472         |\n",
      "|    iterations           | 70          |\n",
      "|    time_elapsed         | 607         |\n",
      "|    total_timesteps      | 286720      |\n",
      "| train/                  |             |\n",
      "|    approx_kl            | 0.030703044 |\n",
      "|    clip_fraction        | 0.15        |\n",
      "|    clip_range           | 0.2         |\n",
      "|    entropy_loss         | -0.27       |\n",
      "|    explained_variance   | 0.727       |\n",
      "|    learning_rate        | 5e-05       |\n",
      "|    loss                 | 0.0266      |\n",
      "|    n_updates            | 276         |\n",
      "|    policy_gradient_loss | -0.00253    |\n",
      "|    value_loss           | 0.00139     |\n",
      "-----------------------------------------\n",
      "Eval num_timesteps=320000, episode_reward=0.97 +/- 0.00\n",
      "Episode length: 11.00 +/- 1.41\n",
      "-----------------------------------------\n",
      "| eval/                   |             |\n",
      "|    mean_ep_length       | 11          |\n",
      "|    mean_reward          | 0.972       |\n",
      "| time/                   |             |\n",
      "|    total_timesteps      | 320000      |\n",
      "| train/                  |             |\n",
      "|    approx_kl            | 0.009077691 |\n",
      "|    clip_fraction        | 0.0598      |\n",
      "|    clip_range           | 0.2         |\n",
      "|    entropy_loss         | -0.139      |\n",
      "|    explained_variance   | 0.84        |\n",
      "|    learning_rate        | 5e-05       |\n",
      "|    loss                 | -0.00808    |\n",
      "|    n_updates            | 312         |\n",
      "|    policy_gradient_loss | -0.0061     |\n",
      "|    value_loss           | 0.000349    |\n",
      "-----------------------------------------\n",
      "New best mean reward!\n",
      "Stopping training because the mean reward 0.97  is above the threshold 0.92\n"
     ]
    },
    {
     "data": {
      "text/plain": [
       "<stable_baselines3.ppo.ppo.PPO at 0x7f19a5111c90>"
      ]
     },
     "execution_count": 11,
     "metadata": {},
     "output_type": "execute_result"
    }
   ],
   "source": [
    "total_timesteps = 1000000\n",
    "log_interval = 10\n",
    "\n",
    "model.learn(total_timesteps=total_timesteps,\n",
    "            log_interval=log_interval,\n",
    "            tb_log_name = tb_log_name,\n",
    "            callback=eval_callback)"
   ]
  },
  {
   "cell_type": "code",
   "execution_count": 12,
   "id": "58baf891",
   "metadata": {
    "collapsed": false,
    "id": "DO-9hK8frbSj",
    "jupyter": {
     "outputs_hidden": false
    },
    "outputId": "772b6bd5-3a8e-40a9-bb47-a1bf792b7fdb"
   },
   "outputs": [
    {
     "name": "stdout",
     "output_type": "stream",
     "text": [
      "task01-doorkey-6x6\n"
     ]
    }
   ],
   "source": [
    "print(tb_log_name)"
   ]
  },
  {
   "cell_type": "code",
   "execution_count": 13,
   "id": "f8f642ab",
   "metadata": {
    "collapsed": false,
    "id": "4qWDyB355rCJ",
    "jupyter": {
     "outputs_hidden": false
    }
   },
   "outputs": [],
   "source": [
    "# Save the agent\n",
    "model.save(tb_log_name)"
   ]
  },
  {
   "cell_type": "code",
   "execution_count": 13,
   "id": "e78a910f",
   "metadata": {
    "collapsed": false,
    "id": "XtIhYAxd5rCJ",
    "jupyter": {
     "outputs_hidden": false
    }
   },
   "outputs": [],
   "source": [
    "model = PPO.load(path=tb_log_name)"
   ]
  },
  {
   "cell_type": "code",
   "execution_count": 15,
   "id": "c15d3929",
   "metadata": {
    "collapsed": false,
    "id": "iz6ij9Nt5rCJ",
    "jupyter": {
     "outputs_hidden": false
    },
    "outputId": "85503a8d-7a79-493b-d06f-bd9ccbb0dc83"
   },
   "outputs": [
    {
     "name": "stdout",
     "output_type": "stream",
     "text": [
      "Mean reward: 0.9697499990463256 +/- 0.01\n"
     ]
    }
   ],
   "source": [
    "# We create a separate environment for evaluation\n",
    "eval_env = FlatObsWrapper(gym.make(env_id_1))\n",
    "\n",
    "# Random Agent, before training\n",
    "mean_reward, std_reward = evaluate_policy(model, eval_env, n_eval_episodes=20)\n",
    "print(f'Mean reward: {mean_reward} +/- {std_reward:.2f}')"
   ]
  },
  {
   "cell_type": "code",
   "execution_count": 16,
   "id": "0979594e",
   "metadata": {
    "collapsed": false,
    "id": "3qj5tsLD5rCK",
    "jupyter": {
     "outputs_hidden": false
    },
    "outputId": "52617138-a686-49a7-c489-4dc65b5caad7"
   },
   "outputs": [
    {
     "name": "stdout",
     "output_type": "stream",
     "text": [
      "Total reward: 0.97\n",
      "Total length: 12\n"
     ]
    },
    {
     "data": {
      "text/html": [
       "<video alt=\"test\" autoplay \n",
       "                loop controls style=\"height: 400px;\">\n",
       "                <source src=\"data:video/mp4;base64,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\" type=\"video/mp4\" />\n",
       "             </video>"
      ],
      "text/plain": [
       "<IPython.core.display.HTML object>"
      ]
     },
     "metadata": {},
     "output_type": "display_data"
    }
   ],
   "source": [
    "env_id = env_id_1\n",
    "test_env = gen_wrapped_env(env_id)\n",
    "# generate a random initialization for the environment\n",
    "\n",
    "test_env.seed(randint(1, num_cpu))\n",
    "observation = test_env.reset()\n",
    "\n",
    "done = False\n",
    "episode_reward = 0\n",
    "episode_length = 0\n",
    "\n",
    "while not done:\n",
    "  #test_env.render()\n",
    "  action, states = model.predict(observation, deterministic=False)\n",
    "  observation, reward, done, info = test_env.step(action)\n",
    "  episode_reward += reward\n",
    "  episode_length += 1\n",
    "\n",
    "print('Total reward:', episode_reward)\n",
    "print('Total length:', episode_length)\n",
    "\n",
    "test_env.close()\n",
    "show_video()"
   ]
  },
  {
   "cell_type": "code",
   "execution_count": null,
   "id": "c3cc4448-3118-4e66-b5b9-378be382f5ee",
   "metadata": {},
   "outputs": [],
   "source": []
  }
 ],
 "metadata": {
  "accelerator": "GPU",
  "colab": {
   "name": "test_minigrid_sb3_curriculum.ipynb",
   "provenance": []
  },
  "interpreter": {
   "hash": "51a1b245ec7fc72d2061587b663ba1f584a95fe24cf1a61a943e144e8f966db4"
  },
  "kernelspec": {
   "display_name": "Python 3",
   "language": "python",
   "name": "python3"
  },
  "language_info": {
   "codemirror_mode": {
    "name": "ipython",
    "version": 3
   },
   "file_extension": ".py",
   "mimetype": "text/x-python",
   "name": "python",
   "nbconvert_exporter": "python",
   "pygments_lexer": "ipython3",
   "version": "3.7.12"
  },
  "toc-autonumbering": true,
  "toc-showcode": false,
  "toc-showmarkdowntxt": false,
  "toc-showtags": false
 },
 "nbformat": 4,
 "nbformat_minor": 5
}
